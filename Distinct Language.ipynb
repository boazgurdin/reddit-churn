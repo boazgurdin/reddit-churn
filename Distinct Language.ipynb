{
 "cells": [
  {
   "cell_type": "code",
   "execution_count": 288,
   "metadata": {
    "collapsed": true
   },
   "outputs": [],
   "source": [
    "import numpy as np\n",
    "import pandas as pd\n",
    "import matplotlib.pyplot as plt\n",
    "%matplotlib inline\n",
    "import nltk\n",
    "from nltk.stem.snowball import SnowballStemmer\n",
    "from sklearn.feature_extraction.text import CountVectorizer"
   ]
  },
  {
   "cell_type": "code",
   "execution_count": 289,
   "metadata": {
    "collapsed": false
   },
   "outputs": [
    {
     "data": {
      "text/html": [
       "<div>\n",
       "<table border=\"1\" class=\"dataframe\">\n",
       "  <thead>\n",
       "    <tr style=\"text-align: right;\">\n",
       "      <th></th>\n",
       "      <th>body</th>\n",
       "      <th>multi_post</th>\n",
       "    </tr>\n",
       "    <tr>\n",
       "      <th>author</th>\n",
       "      <th></th>\n",
       "      <th></th>\n",
       "    </tr>\n",
       "  </thead>\n",
       "  <tbody>\n",
       "    <tr>\n",
       "      <th>netdroid9</th>\n",
       "      <td>Yes and no. Cosmetic procedures can be done fo...</td>\n",
       "      <td>True</td>\n",
       "    </tr>\n",
       "    <tr>\n",
       "      <th>grimsley33</th>\n",
       "      <td>I agree completely. These organizations need t...</td>\n",
       "      <td>True</td>\n",
       "    </tr>\n",
       "    <tr>\n",
       "      <th>bluedice</th>\n",
       "      <td>This just in: politicians do the immoral thing.</td>\n",
       "      <td>True</td>\n",
       "    </tr>\n",
       "    <tr>\n",
       "      <th>Cody2</th>\n",
       "      <td>Balls' got man?</td>\n",
       "      <td>True</td>\n",
       "    </tr>\n",
       "    <tr>\n",
       "      <th>firebat87</th>\n",
       "      <td>Went to High School in Florida. We had a Chine...</td>\n",
       "      <td>True</td>\n",
       "    </tr>\n",
       "  </tbody>\n",
       "</table>\n",
       "</div>"
      ],
      "text/plain": [
       "                                                         body multi_post\n",
       "author                                                                  \n",
       "netdroid9   Yes and no. Cosmetic procedures can be done fo...       True\n",
       "grimsley33  I agree completely. These organizations need t...       True\n",
       "bluedice      This just in: politicians do the immoral thing.       True\n",
       "Cody2                                         Balls' got man?       True\n",
       "firebat87   Went to High School in Florida. We had a Chine...       True"
      ]
     },
     "execution_count": 289,
     "metadata": {},
     "output_type": "execute_result"
    }
   ],
   "source": [
    "first_post = pd.read_json('data/politicos/json/mixed.json')\n",
    "first_post.set_index('author', inplace=True)\n",
    "first_post['multi_post'] = first_post['total_posts']>1\n",
    "first_post.rename(columns={'first_post_body':'body'}, inplace=True)\n",
    "first_post.drop([\n",
    "         u'first_post_avg_response_ups', u'first_post_avg_response_downs',\n",
    "                 u'first_post_datetime',              u'first_post_downs',\n",
    "                       u'first_post_id',            u'first_post_link_id',\n",
    "           u'first_post_response_downs',       u'first_post_response_ups',\n",
    "                u'first_post_responses',    u'first_post_total_responses',\n",
    "                      u'first_post_ups',            u'last_post_datetime',\n",
    "                         u'parent_type',                u'post_datetimes',\n",
    "                            u'post_ids',                   u'total_posts'],\n",
    "               axis=1, inplace=True)\n",
    "first_post.head()"
   ]
  },
  {
   "cell_type": "code",
   "execution_count": 290,
   "metadata": {
    "collapsed": false
   },
   "outputs": [],
   "source": [
    "# Stem\n",
    "stemmer = SnowballStemmer('english', ignore_stopwords=True)\n",
    "first_post['body'] = first_post['body'].apply(lambda body: ' '.join(stemmer.stem(word) for word in body.split()))"
   ]
  },
  {
   "cell_type": "code",
   "execution_count": 291,
   "metadata": {
    "collapsed": true
   },
   "outputs": [],
   "source": [
    "# Count words\n",
    "vectorizer = CountVectorizer(stop_words='english', max_features=3000)\n",
    "#to try: ngram_range\n",
    "doc_term_matrix = vectorizer.fit_transform(first_post['body'].values)"
   ]
  },
  {
   "cell_type": "code",
   "execution_count": 292,
   "metadata": {
    "collapsed": false
   },
   "outputs": [],
   "source": [
    "# Normalize counts to rates, bc comment lengths are different\n",
    "dtm = doc_term_matrix.todense()\n",
    "rates = 1000 * dtm / np.sum(dtm, axis=1, keepdims=True)\n",
    "# Rate per 1000 words is good for book writing, but to look at topics in short comments, need another metric. Consider TF-IDF."
   ]
  },
  {
   "cell_type": "code",
   "execution_count": 293,
   "metadata": {
    "collapsed": false
   },
   "outputs": [],
   "source": [
    "# Normalization alternative: word rate is 1 or 0 per doc\n",
    "rates = np.array(dtm>0).astype('int')"
   ]
  },
  {
   "cell_type": "code",
   "execution_count": 294,
   "metadata": {
    "collapsed": true
   },
   "outputs": [],
   "source": [
    "# to try: remove completely distinctive words\n",
    "# https://de.dariah.eu/tatom/feature_selection.html"
   ]
  },
  {
   "cell_type": "code",
   "execution_count": 301,
   "metadata": {
    "collapsed": false
   },
   "outputs": [],
   "source": [
    "single_rates = rates[np.array(first_post['multi_post']==False)]\n",
    "multi_rates = rates[np.array(first_post['multi_post']==True)]"
   ]
  },
  {
   "cell_type": "code",
   "execution_count": 302,
   "metadata": {
    "collapsed": false
   },
   "outputs": [
    {
     "data": {
      "text/plain": [
       "array([ 0.        ,  0.00352113,  0.00704225,  0.01056338,  0.01408451,\n",
       "        0.01760563,  0.02112676,  0.02464789,  0.02816901,  0.03169014,\n",
       "        0.03521127,  0.03873239,  0.04225352,  0.04577465,  0.04929577,\n",
       "        0.0528169 ,  0.05985915,  0.07042254,  0.07394366,  0.08098592,\n",
       "        0.08802817,  0.0915493 ,  0.09507042,  0.09859155,  0.10915493,\n",
       "        0.11619718])"
      ]
     },
     "execution_count": 302,
     "metadata": {},
     "output_type": "execute_result"
    }
   ],
   "source": [
    "single_avg_rate = np.mean(single_rates, axis=0)\n",
    "np.unique(single_avg_rate.flat)"
   ]
  },
  {
   "cell_type": "code",
   "execution_count": 303,
   "metadata": {
    "collapsed": false
   },
   "outputs": [
    {
     "data": {
      "text/plain": [
       "(array([  2.77000000e+03,   1.36000000e+02,   5.00000000e+01,\n",
       "          2.70000000e+01,   3.00000000e+00,   3.00000000e+00,\n",
       "          4.00000000e+00,   2.00000000e+00,   3.00000000e+00,\n",
       "          2.00000000e+00]),\n",
       " array([ 0.        ,  0.01161972,  0.02323944,  0.03485915,  0.04647887,\n",
       "         0.05809859,  0.06971831,  0.08133803,  0.09295775,  0.10457746,\n",
       "         0.11619718]),\n",
       " <a list of 10 Patch objects>)"
      ]
     },
     "execution_count": 303,
     "metadata": {},
     "output_type": "execute_result"
    },
    {
     "data": {
      "image/png": "[encoded data removed]",
      "text/plain": [
       "<matplotlib.figure.Figure at 0x117547150>"
      ]
     },
     "metadata": {},
     "output_type": "display_data"
    }
   ],
   "source": [
    "plt.hist(single_avg_rate.flat)"
   ]
  },
  {
   "cell_type": "code",
   "execution_count": 304,
   "metadata": {
    "collapsed": false
   },
   "outputs": [
    {
     "data": {
      "text/plain": [
       "array([ 0.        ,  0.00206612,  0.00413223,  0.00619835,  0.00826446,\n",
       "        0.01033058,  0.01239669,  0.01446281,  0.01652893,  0.01859504,\n",
       "        0.02066116,  0.02272727,  0.02479339,  0.0268595 ,  0.02892562,\n",
       "        0.03099174,  0.03305785,  0.03512397,  0.03719008,  0.0392562 ,\n",
       "        0.04132231,  0.04338843,  0.04545455,  0.04752066,  0.04958678,\n",
       "        0.05165289,  0.05371901,  0.05785124,  0.06198347,  0.06404959,\n",
       "        0.07024793,  0.07231405,  0.07644628,  0.0785124 ,  0.1053719 ,\n",
       "        0.10743802,  0.1177686 ,  0.12603306,  0.12809917,  0.1322314 ])"
      ]
     },
     "execution_count": 304,
     "metadata": {},
     "output_type": "execute_result"
    }
   ],
   "source": [
    "multi_avg_rate = np.mean(multi_rates, axis=0)\n",
    "np.unique(multi_avg_rate.flat)"
   ]
  },
  {
   "cell_type": "code",
   "execution_count": 310,
   "metadata": {
    "collapsed": false
   },
   "outputs": [
    {
     "data": {
      "text/plain": [
       "0       like\n",
       "1       just\n",
       "2        don\n",
       "3      think\n",
       "4      peopl\n",
       "5       fuck\n",
       "6        say\n",
       "7       http\n",
       "8       make\n",
       "9        com\n",
       "10      know\n",
       "11      time\n",
       "12     right\n",
       "13       way\n",
       "14     thing\n",
       "15      year\n",
       "16      want\n",
       "17      stop\n",
       "18     state\n",
       "19      live\n",
       "20     world\n",
       "21       tri\n",
       "22       guy\n",
       "23    realli\n",
       "24      come\n",
       "25      look\n",
       "26       law\n",
       "27      work\n",
       "28     point\n",
       "29      read\n",
       "dtype: object"
      ]
     },
     "execution_count": 310,
     "metadata": {},
     "output_type": "execute_result"
    }
   ],
   "source": [
    "freq_words_single = np.array(vectorizer.get_feature_names())[np.argsort(-1*single_avg_rate)[:30]]\n",
    "pd.Series(freq_words_single.flat)"
   ]
  },
  {
   "cell_type": "code",
   "execution_count": 312,
   "metadata": {
    "collapsed": false
   },
   "outputs": [
    {
     "data": {
      "text/plain": [
       "0        like\n",
       "1        just\n",
       "2       peopl\n",
       "3         don\n",
       "4       think\n",
       "5        make\n",
       "6        want\n",
       "7      realli\n",
       "8        know\n",
       "9        http\n",
       "10      thing\n",
       "11      right\n",
       "12       vote\n",
       "13       time\n",
       "14      obama\n",
       "15        say\n",
       "16      state\n",
       "17        way\n",
       "18        use\n",
       "19       good\n",
       "20       fuck\n",
       "21        com\n",
       "22        did\n",
       "23        www\n",
       "24     someon\n",
       "25       read\n",
       "26       year\n",
       "27      money\n",
       "28    support\n",
       "29        tax\n",
       "dtype: object"
      ]
     },
     "execution_count": 312,
     "metadata": {},
     "output_type": "execute_result"
    }
   ],
   "source": [
    "freq_words_multi = np.array(vectorizer.get_feature_names())[np.argsort(-1*multi_avg_rate)[:30]]\n",
    "pd.Series(freq_words_multi.flat)"
   ]
  },
  {
   "cell_type": "code",
   "execution_count": 314,
   "metadata": {
    "collapsed": false
   },
   "outputs": [
    {
     "data": {
      "text/plain": [
       "0          obama\n",
       "1           vote\n",
       "2         realli\n",
       "3           make\n",
       "4          peopl\n",
       "5           help\n",
       "6        support\n",
       "7          parti\n",
       "8           want\n",
       "9           cost\n",
       "10          idea\n",
       "11           tax\n",
       "12          mean\n",
       "13       current\n",
       "14       countri\n",
       "15          good\n",
       "16           did\n",
       "17          base\n",
       "18          fact\n",
       "19         money\n",
       "20        public\n",
       "21         class\n",
       "22         polit\n",
       "23           www\n",
       "24    republican\n",
       "25         thing\n",
       "26           low\n",
       "27          hold\n",
       "28           don\n",
       "29          just\n",
       "dtype: object"
      ]
     },
     "execution_count": 314,
     "metadata": {},
     "output_type": "execute_result"
    }
   ],
   "source": [
    "# Distinct words of multi_posters (difference in avg rate)\n",
    "distinct_multi = multi_avg_rate - single_avg_rate\n",
    "distinct_words_multi = np.array(vectorizer.get_feature_names())[np.argsort(-1*distinct_multi)[:30]]\n",
    "pd.Series(distinct_words_multi.flat)"
   ]
  },
  {
   "cell_type": "markdown",
   "metadata": {},
   "source": [
    "Multi-posters are more liberal? (need liberal/conservative detector). See Indico API to test hypothesis"
   ]
  },
  {
   "cell_type": "code",
   "execution_count": 319,
   "metadata": {
    "collapsed": false
   },
   "outputs": [
    {
     "data": {
      "text/plain": [
       "0         fuck\n",
       "1         stop\n",
       "2          say\n",
       "3          amp\n",
       "4        world\n",
       "5         home\n",
       "6         life\n",
       "7         real\n",
       "8     internet\n",
       "9          com\n",
       "10       media\n",
       "11        turn\n",
       "12       haven\n",
       "13          oh\n",
       "14       video\n",
       "15         saw\n",
       "16     complet\n",
       "17         big\n",
       "18        mind\n",
       "19         hey\n",
       "20        live\n",
       "21        news\n",
       "22        post\n",
       "23        yeah\n",
       "24       topic\n",
       "25      recent\n",
       "26       gonna\n",
       "27       story\n",
       "28       simpl\n",
       "29      whatev\n",
       "dtype: object"
      ]
     },
     "execution_count": 319,
     "metadata": {},
     "output_type": "execute_result"
    }
   ],
   "source": [
    "# Distinct words of single_posters (difference in avg rate)\n",
    "distinct_single = single_avg_rate - multi_avg_rate\n",
    "distinct_words_single = np.array(vectorizer.get_feature_names())[np.argsort(-1*distinct_single)[:30]]\n",
    "pd.Series(distinct_words_single)"
   ]
  },
  {
   "cell_type": "markdown",
   "metadata": {},
   "source": [
    "Single posters complain? (try negative sentiment detector)"
   ]
  },
  {
   "cell_type": "markdown",
   "metadata": {},
   "source": [
    "People who talk about marijuana and prison overcrowding post more than people who post about breast reconstructive surgery? Sympathy for victimless drug crimes that overcrowd prisons?"
   ]
  },
  {
   "cell_type": "code",
   "execution_count": null,
   "metadata": {
    "collapsed": false
   },
   "outputs": [],
   "source": [
    "print 'marijuana', vectorizer.get_feature_names().index('marijuana')"
   ]
  },
  {
   "cell_type": "code",
   "execution_count": null,
   "metadata": {
    "collapsed": false
   },
   "outputs": [],
   "source": [
    "multi_avg_rate[0,1108] - single_avg_rate[0,1108]"
   ]
  },
  {
   "cell_type": "code",
   "execution_count": null,
   "metadata": {
    "collapsed": false
   },
   "outputs": [],
   "source": [
    "np.sum(rates[:,1108]!=0)"
   ]
  },
  {
   "cell_type": "code",
   "execution_count": null,
   "metadata": {
    "collapsed": false
   },
   "outputs": [],
   "source": [
    "mj_indicies = np.argsort(np.array(rates[:,1108]!=0).flatten())[-4:] #talks about marijuana \n",
    "mj_posts = first_post.iloc[mj_indicies]\n",
    "mj_posts"
   ]
  },
  {
   "cell_type": "code",
   "execution_count": null,
   "metadata": {
    "collapsed": false
   },
   "outputs": [],
   "source": [
    "for post in mj_posts['body']:\n",
    "    print post\n",
    "    print"
   ]
  },
  {
   "cell_type": "markdown",
   "metadata": {
    "collapsed": true
   },
   "source": [
    "\"legal marijuana, and a slew of other \"problems\" that are only issu because of whini old peopl that will not accept change.\"\n",
    "Reddit Politics is young liberal/libertarian audience? "
   ]
  },
  {
   "cell_type": "code",
   "execution_count": null,
   "metadata": {
    "collapsed": false
   },
   "outputs": [],
   "source": [
    "from sklearn.feature_selection import chi2"
   ]
  },
  {
   "cell_type": "code",
   "execution_count": 327,
   "metadata": {
    "collapsed": false
   },
   "outputs": [
    {
     "data": {
      "text/plain": [
       "(2, 3000)"
      ]
     },
     "execution_count": 327,
     "metadata": {},
     "output_type": "execute_result"
    }
   ],
   "source": [
    "word_rates_single_vs_multi = np.vstack([single_avg_rate, multi_avg_rate])\n",
    "word_rates_single_vs_multi.shape"
   ]
  },
  {
   "cell_type": "code",
   "execution_count": 330,
   "metadata": {
    "collapsed": false
   },
   "outputs": [
    {
     "data": {
      "text/plain": [
       "(3000,)"
      ]
     },
     "execution_count": 330,
     "metadata": {},
     "output_type": "execute_result"
    }
   ],
   "source": [
    "distinct_score, _ = chi2(rates, first_post['multi_post'])\n",
    "distinct_score.shape"
   ]
  },
  {
   "cell_type": "code",
   "execution_count": 335,
   "metadata": {
    "collapsed": false
   },
   "outputs": [
    {
     "data": {
      "text/plain": [
       "0         cost\n",
       "1          amp\n",
       "2        parti\n",
       "3          saw\n",
       "4         help\n",
       "5         idea\n",
       "6        class\n",
       "7         home\n",
       "8        obama\n",
       "9         stop\n",
       "10     current\n",
       "11         bag\n",
       "12          23\n",
       "13        hang\n",
       "14        oper\n",
       "15        peac\n",
       "16       weird\n",
       "17     section\n",
       "18    westboro\n",
       "19       initi\n",
       "20       innoc\n",
       "21       catch\n",
       "22        html\n",
       "23        cabl\n",
       "24     baptist\n",
       "25       appar\n",
       "26      public\n",
       "27        unit\n",
       "28     support\n",
       "29         low\n",
       "dtype: object"
      ]
     },
     "execution_count": 335,
     "metadata": {},
     "output_type": "execute_result"
    }
   ],
   "source": [
    "# Most distinct by chi2 (alternative to comparing averages)\n",
    "pd.Series(np.array(vectorizer.get_feature_names())[np.argsort(-1*distinct_score)[:30]])"
   ]
  },
  {
   "cell_type": "markdown",
   "metadata": {},
   "source": [
    "## Most popular words overall"
   ]
  },
  {
   "cell_type": "code",
   "execution_count": 337,
   "metadata": {
    "collapsed": false
   },
   "outputs": [
    {
     "data": {
      "text/plain": [
       "0       like\n",
       "1       just\n",
       "2      peopl\n",
       "3        don\n",
       "4      think\n",
       "5       make\n",
       "6       http\n",
       "7       know\n",
       "8        say\n",
       "9       fuck\n",
       "10      want\n",
       "11     right\n",
       "12      time\n",
       "13     thing\n",
       "14    realli\n",
       "15       com\n",
       "16       way\n",
       "17      vote\n",
       "18     state\n",
       "19      year\n",
       "20     obama\n",
       "21       use\n",
       "22      good\n",
       "23    someon\n",
       "24      read\n",
       "25       did\n",
       "26       www\n",
       "27      does\n",
       "28     money\n",
       "29      need\n",
       "dtype: object"
      ]
     },
     "execution_count": 337,
     "metadata": {},
     "output_type": "execute_result"
    }
   ],
   "source": [
    "# Most popular words overall\n",
    "pd.Series(np.array(vectorizer.get_feature_names())[np.array(np.argsort(-1*np.mean(rates, axis=0)))[:30]])"
   ]
  },
  {
   "cell_type": "code",
   "execution_count": 338,
   "metadata": {
    "collapsed": false
   },
   "outputs": [
    {
     "name": "stdout",
     "output_type": "stream",
     "text": [
      "fuck 763\n"
     ]
    }
   ],
   "source": [
    "print 'fuck', vectorizer.get_feature_names().index('fuck')"
   ]
  },
  {
   "cell_type": "code",
   "execution_count": 339,
   "metadata": {
    "collapsed": false
   },
   "outputs": [
    {
     "data": {
      "text/plain": [
       "52"
      ]
     },
     "execution_count": 339,
     "metadata": {},
     "output_type": "execute_result"
    }
   ],
   "source": [
    "np.sum(rates[:,763]!=0)"
   ]
  },
  {
   "cell_type": "code",
   "execution_count": 340,
   "metadata": {
    "collapsed": false
   },
   "outputs": [
    {
     "data": {
      "text/plain": [
       "array([372, 212,  11, 351, 741, 551, 404, 176, 395, 175, 577, 733, 568,\n",
       "       397, 358, 116, 590, 442, 246, 453, 256, 296, 135, 317, 134, 128,\n",
       "       559, 280, 488, 109, 269, 292, 236,  65, 521, 409, 411, 413, 336,\n",
       "       167, 332, 598, 422,  52, 525,  55, 324, 322,  61, 234, 535, 426])"
      ]
     },
     "execution_count": 340,
     "metadata": {},
     "output_type": "execute_result"
    }
   ],
   "source": [
    "indicies = np.argsort(np.array(rates[:,763]!=0).flatten())[-52:]\n",
    "indicies"
   ]
  },
  {
   "cell_type": "code",
   "execution_count": 341,
   "metadata": {
    "collapsed": false
   },
   "outputs": [
    {
     "data": {
      "text/plain": [
       "u\"fuck school system and their administr sensitivity. i don't understand why expel a student for that is justified. good thing nasa gave her a full scholarship because that high school could have potenti ruin her life.\""
      ]
     },
     "execution_count": 341,
     "metadata": {},
     "output_type": "execute_result"
    }
   ],
   "source": [
    "first_post['body'].iloc[11]"
   ]
  },
  {
   "cell_type": "code",
   "execution_count": 342,
   "metadata": {
    "collapsed": false
   },
   "outputs": [
    {
     "name": "stdout",
     "output_type": "stream",
     "text": [
      "vote 2799\n"
     ]
    }
   ],
   "source": [
    "print 'vote', vectorizer.get_feature_names().index('vote')"
   ]
  },
  {
   "cell_type": "code",
   "execution_count": 343,
   "metadata": {
    "collapsed": false
   },
   "outputs": [
    {
     "data": {
      "text/plain": [
       "44"
      ]
     },
     "execution_count": 343,
     "metadata": {},
     "output_type": "execute_result"
    }
   ],
   "source": [
    "np.sum(rates[:,2799]!=0)"
   ]
  },
  {
   "cell_type": "code",
   "execution_count": 344,
   "metadata": {
    "collapsed": false
   },
   "outputs": [
    {
     "data": {
      "text/plain": [
       "array([254, 253, 252, 200, 247, 248, 201, 249, 754, 184,  26, 547, 182,\n",
       "       394, 388, 565,  16, 368, 356, 191, 177, 274, 231,  36, 653, 664,\n",
       "       461, 290, 292, 251, 298, 627, 138, 689, 140, 440, 213, 616, 701,\n",
       "       516, 232,  56, 522, 602, 714, 336, 591,  40, 409, 339, 437, 560])"
      ]
     },
     "execution_count": 344,
     "metadata": {},
     "output_type": "execute_result"
    }
   ],
   "source": [
    "indicies = np.argsort(np.array(rates[:,2799]!=0).flatten())[-52:]\n",
    "indicies"
   ]
  },
  {
   "cell_type": "code",
   "execution_count": 345,
   "metadata": {
    "collapsed": false
   },
   "outputs": [
    {
     "data": {
      "text/html": [
       "<div>\n",
       "<table border=\"1\" class=\"dataframe\">\n",
       "  <thead>\n",
       "    <tr style=\"text-align: right;\">\n",
       "      <th></th>\n",
       "      <th>body</th>\n",
       "    </tr>\n",
       "    <tr>\n",
       "      <th>author</th>\n",
       "      <th></th>\n",
       "    </tr>\n",
       "  </thead>\n",
       "  <tbody>\n",
       "    <tr>\n",
       "      <th>haeSFA</th>\n",
       "      <td>biden seem much more commanding. probabl not a...</td>\n",
       "    </tr>\n",
       "    <tr>\n",
       "      <th>trollcaptured</th>\n",
       "      <td>yay for technocrats.</td>\n",
       "    </tr>\n",
       "    <tr>\n",
       "      <th>upsidedowntyger</th>\n",
       "      <td>candi crowley need to be firmer and tell them ...</td>\n",
       "    </tr>\n",
       "    <tr>\n",
       "      <th>juniuslb</th>\n",
       "      <td>perhap the reason why the american govern is u...</td>\n",
       "    </tr>\n",
       "    <tr>\n",
       "      <th>wowthrowaway</th>\n",
       "      <td>knew i'd end up miss one, but that not my name.</td>\n",
       "    </tr>\n",
       "    <tr>\n",
       "      <th>PersonalOwn4g3</th>\n",
       "      <td>because.....reasons!!</td>\n",
       "    </tr>\n",
       "    <tr>\n",
       "      <th>t0mmy9</th>\n",
       "      <td>i'm not from america, but fox still manag to r...</td>\n",
       "    </tr>\n",
       "    <tr>\n",
       "      <th>SecretlyAGrizzly</th>\n",
       "      <td>for the full video: http://www.youtube.com/wat...</td>\n",
       "    </tr>\n",
       "    <tr>\n",
       "      <th>naked_short</th>\n",
       "      <td>i think the one thing keep me from vote for ob...</td>\n",
       "    </tr>\n",
       "    <tr>\n",
       "      <th>Joeyjojojunior1794</th>\n",
       "      <td>your boner for clinton is so big! b ut obama i...</td>\n",
       "    </tr>\n",
       "    <tr>\n",
       "      <th>voide</th>\n",
       "      <td>so, let me get this straight....everyth els he...</td>\n",
       "    </tr>\n",
       "    <tr>\n",
       "      <th>Vista85</th>\n",
       "      <td>as for your question number 1. that would mean...</td>\n",
       "    </tr>\n",
       "    <tr>\n",
       "      <th>ahoyhere</th>\n",
       "      <td>anoth web site like that one told me i could g...</td>\n",
       "    </tr>\n",
       "    <tr>\n",
       "      <th>chemenjmajor97</th>\n",
       "      <td>i'm so tire of sheep talk about \"oh don't forg...</td>\n",
       "    </tr>\n",
       "    <tr>\n",
       "      <th>pillager_of_pabst</th>\n",
       "      <td>let us make a tempest in a tea kettle. if you ...</td>\n",
       "    </tr>\n",
       "    <tr>\n",
       "      <th>InfectedMite</th>\n",
       "      <td>as a volunt firefighter. quit a few fire depar...</td>\n",
       "    </tr>\n",
       "    <tr>\n",
       "      <th>iPope</th>\n",
       "      <td>an eyewit statement on a blog call conservativ...</td>\n",
       "    </tr>\n",
       "    <tr>\n",
       "      <th>nnillehcar</th>\n",
       "      <td>or mayb third parti vote will final get a chance!</td>\n",
       "    </tr>\n",
       "    <tr>\n",
       "      <th>averagenutjob</th>\n",
       "      <td>gari johnson was on msnbc today and did an exc...</td>\n",
       "    </tr>\n",
       "    <tr>\n",
       "      <th>JimmyTheJ</th>\n",
       "      <td>you can destroy your ballot or scribbl all ove...</td>\n",
       "    </tr>\n",
       "    <tr>\n",
       "      <th>cgnitram48317</th>\n",
       "      <td>the propos rule are just unjust, its plain jus...</td>\n",
       "    </tr>\n",
       "    <tr>\n",
       "      <th>I_am_krista</th>\n",
       "      <td>reagan did two of the worst thing for this cou...</td>\n",
       "    </tr>\n",
       "    <tr>\n",
       "      <th>u_need_2_understand</th>\n",
       "      <td>this is why democraci is overrated, because du...</td>\n",
       "    </tr>\n",
       "    <tr>\n",
       "      <th>kecou</th>\n",
       "      <td>i don't like your religion analogy, howev that...</td>\n",
       "    </tr>\n",
       "    <tr>\n",
       "      <th>casper_wilkes</th>\n",
       "      <td>up vote for giggleberri</td>\n",
       "    </tr>\n",
       "    <tr>\n",
       "      <th>ethhannn</th>\n",
       "      <td>he had to have paid peopl to win because i don...</td>\n",
       "    </tr>\n",
       "    <tr>\n",
       "      <th>migueldeicaza</th>\n",
       "      <td>what the us has in its hand is the best democr...</td>\n",
       "    </tr>\n",
       "    <tr>\n",
       "      <th>ZHaDoom</th>\n",
       "      <td>vote early, vote often.</td>\n",
       "    </tr>\n",
       "    <tr>\n",
       "      <th>higgledy</th>\n",
       "      <td>as a huge advoc of voting, i volunt with headc...</td>\n",
       "    </tr>\n",
       "    <tr>\n",
       "      <th>alipoo</th>\n",
       "      <td>this is exact what is true. anyway, if the kid...</td>\n",
       "    </tr>\n",
       "    <tr>\n",
       "      <th>tadrith</th>\n",
       "      <td>for the record, boxer oppos the fisa bill. aft...</td>\n",
       "    </tr>\n",
       "    <tr>\n",
       "      <th>Billy_Lo</th>\n",
       "      <td>i somehow doubt the effect of this strategy. w...</td>\n",
       "    </tr>\n",
       "    <tr>\n",
       "      <th>jebsalump</th>\n",
       "      <td>i won't down vote you because i'm sure that ha...</td>\n",
       "    </tr>\n",
       "    <tr>\n",
       "      <th>jct21617</th>\n",
       "      <td>thing chang dramat under newt gingrich in the ...</td>\n",
       "    </tr>\n",
       "    <tr>\n",
       "      <th>doublehouston</th>\n",
       "      <td>the gop nation is pursu a strategi to prevent ...</td>\n",
       "    </tr>\n",
       "    <tr>\n",
       "      <th>highondrugs</th>\n",
       "      <td>the idea that we are go to vote out the \"bad o...</td>\n",
       "    </tr>\n",
       "    <tr>\n",
       "      <th>AlexBilz</th>\n",
       "      <td>i vote today</td>\n",
       "    </tr>\n",
       "    <tr>\n",
       "      <th>buff4booty</th>\n",
       "      <td>reddit, you vote for this goon remember!?</td>\n",
       "    </tr>\n",
       "    <tr>\n",
       "      <th>zero25</th>\n",
       "      <td>i read 93-7 vote and my heart sunk. it sicken me.</td>\n",
       "    </tr>\n",
       "    <tr>\n",
       "      <th>bonchampignon</th>\n",
       "      <td>i'm not vote for him anyway, but that said: wh...</td>\n",
       "    </tr>\n",
       "    <tr>\n",
       "      <th>evileyeball</th>\n",
       "      <td>i am from canada so i don't know if my vote ca...</td>\n",
       "    </tr>\n",
       "    <tr>\n",
       "      <th>airman010</th>\n",
       "      <td>mayb they don't want us to see that they are c...</td>\n",
       "    </tr>\n",
       "    <tr>\n",
       "      <th>vegaspaul</th>\n",
       "      <td>will peopl pleas start vote third parti now?</td>\n",
       "    </tr>\n",
       "    <tr>\n",
       "      <th>fixedR</th>\n",
       "      <td>i am a recov republican. just want to chime in...</td>\n",
       "    </tr>\n",
       "    <tr>\n",
       "      <th>Talking_Head</th>\n",
       "      <td>i wonder how mani peopl realiz that the curren...</td>\n",
       "    </tr>\n",
       "    <tr>\n",
       "      <th>drhbiker</th>\n",
       "      <td>imho, our govern has no busi come between a do...</td>\n",
       "    </tr>\n",
       "    <tr>\n",
       "      <th>Moneybags123</th>\n",
       "      <td>that can be a vari controversi topic, in one w...</td>\n",
       "    </tr>\n",
       "    <tr>\n",
       "      <th>free2fop</th>\n",
       "      <td>peopl are surpris by this? outraged? for profi...</td>\n",
       "    </tr>\n",
       "    <tr>\n",
       "      <th>faustlinge</th>\n",
       "      <td>christ, can somebodi on the internet that has ...</td>\n",
       "    </tr>\n",
       "    <tr>\n",
       "      <th>RabidRetrospectGames</th>\n",
       "      <td>i think it is a very import issue. sadly, i kn...</td>\n",
       "    </tr>\n",
       "    <tr>\n",
       "      <th>IAmLuckyDuckling</th>\n",
       "      <td>i vote today actually, i did earli vote becaus...</td>\n",
       "    </tr>\n",
       "    <tr>\n",
       "      <th>treitter</th>\n",
       "      <td>half a vote for lay out his awesomeness, half ...</td>\n",
       "    </tr>\n",
       "  </tbody>\n",
       "</table>\n",
       "</div>"
      ],
      "text/plain": [
       "                                                                   body\n",
       "author                                                                 \n",
       "haeSFA                biden seem much more commanding. probabl not a...\n",
       "trollcaptured                                      yay for technocrats.\n",
       "upsidedowntyger       candi crowley need to be firmer and tell them ...\n",
       "juniuslb              perhap the reason why the american govern is u...\n",
       "wowthrowaway            knew i'd end up miss one, but that not my name.\n",
       "PersonalOwn4g3                                    because.....reasons!!\n",
       "t0mmy9                i'm not from america, but fox still manag to r...\n",
       "SecretlyAGrizzly      for the full video: http://www.youtube.com/wat...\n",
       "naked_short           i think the one thing keep me from vote for ob...\n",
       "Joeyjojojunior1794    your boner for clinton is so big! b ut obama i...\n",
       "voide                 so, let me get this straight....everyth els he...\n",
       "Vista85               as for your question number 1. that would mean...\n",
       "ahoyhere              anoth web site like that one told me i could g...\n",
       "chemenjmajor97        i'm so tire of sheep talk about \"oh don't forg...\n",
       "pillager_of_pabst     let us make a tempest in a tea kettle. if you ...\n",
       "InfectedMite          as a volunt firefighter. quit a few fire depar...\n",
       "iPope                 an eyewit statement on a blog call conservativ...\n",
       "nnillehcar            or mayb third parti vote will final get a chance!\n",
       "averagenutjob         gari johnson was on msnbc today and did an exc...\n",
       "JimmyTheJ             you can destroy your ballot or scribbl all ove...\n",
       "cgnitram48317         the propos rule are just unjust, its plain jus...\n",
       "I_am_krista           reagan did two of the worst thing for this cou...\n",
       "u_need_2_understand   this is why democraci is overrated, because du...\n",
       "kecou                 i don't like your religion analogy, howev that...\n",
       "casper_wilkes                                   up vote for giggleberri\n",
       "ethhannn              he had to have paid peopl to win because i don...\n",
       "migueldeicaza         what the us has in its hand is the best democr...\n",
       "ZHaDoom                                         vote early, vote often.\n",
       "higgledy              as a huge advoc of voting, i volunt with headc...\n",
       "alipoo                this is exact what is true. anyway, if the kid...\n",
       "tadrith               for the record, boxer oppos the fisa bill. aft...\n",
       "Billy_Lo              i somehow doubt the effect of this strategy. w...\n",
       "jebsalump             i won't down vote you because i'm sure that ha...\n",
       "jct21617              thing chang dramat under newt gingrich in the ...\n",
       "doublehouston         the gop nation is pursu a strategi to prevent ...\n",
       "highondrugs           the idea that we are go to vote out the \"bad o...\n",
       "AlexBilz                                                   i vote today\n",
       "buff4booty                    reddit, you vote for this goon remember!?\n",
       "zero25                i read 93-7 vote and my heart sunk. it sicken me.\n",
       "bonchampignon         i'm not vote for him anyway, but that said: wh...\n",
       "evileyeball           i am from canada so i don't know if my vote ca...\n",
       "airman010             mayb they don't want us to see that they are c...\n",
       "vegaspaul                  will peopl pleas start vote third parti now?\n",
       "fixedR                i am a recov republican. just want to chime in...\n",
       "Talking_Head          i wonder how mani peopl realiz that the curren...\n",
       "drhbiker              imho, our govern has no busi come between a do...\n",
       "Moneybags123          that can be a vari controversi topic, in one w...\n",
       "free2fop              peopl are surpris by this? outraged? for profi...\n",
       "faustlinge            christ, can somebodi on the internet that has ...\n",
       "RabidRetrospectGames  i think it is a very import issue. sadly, i kn...\n",
       "IAmLuckyDuckling      i vote today actually, i did earli vote becaus...\n",
       "treitter              half a vote for lay out his awesomeness, half ..."
      ]
     },
     "execution_count": 345,
     "metadata": {},
     "output_type": "execute_result"
    }
   ],
   "source": [
    "pd.DataFrame(first_post['body'].iloc[indicies])"
   ]
  },
  {
   "cell_type": "code",
   "execution_count": 346,
   "metadata": {
    "collapsed": false
   },
   "outputs": [],
   "source": [
    "# See if there are any popular bigrams (and tri-grams with adjustment)\n",
    "bigram_vectorizer = CountVectorizer(stop_words='english', max_features=3000, ngram_range=(1,2))\n",
    "bigram_dtm = bigram_vectorizer.fit_transform(first_post['body'].values)"
   ]
  },
  {
   "cell_type": "code",
   "execution_count": 347,
   "metadata": {
    "collapsed": false
   },
   "outputs": [
    {
     "data": {
      "text/plain": [
       "matrix([[ 0.0234375 ,  0.00651042,  0.00651042, ...,  0.01041667,\n",
       "          0.01041667,  0.00260417]])"
      ]
     },
     "execution_count": 347,
     "metadata": {},
     "output_type": "execute_result"
    }
   ],
   "source": [
    "avg_counts = bigram_dtm.mean(axis=0)\n",
    "avg_counts"
   ]
  },
  {
   "cell_type": "code",
   "execution_count": 348,
   "metadata": {
    "collapsed": false
   },
   "outputs": [
    {
     "data": {
      "text/plain": [
       "0      peopl\n",
       "1       like\n",
       "2       just\n",
       "3        don\n",
       "4      think\n",
       "5       make\n",
       "6       know\n",
       "7       want\n",
       "8       http\n",
       "9       fuck\n",
       "10    realli\n",
       "11      vote\n",
       "12       say\n",
       "13      time\n",
       "14     state\n",
       "15     thing\n",
       "16     right\n",
       "17       com\n",
       "18       way\n",
       "19        gt\n",
       "20       pay\n",
       "21       tax\n",
       "22     obama\n",
       "23      year\n",
       "24       use\n",
       "25     money\n",
       "26       www\n",
       "27       tri\n",
       "28    someon\n",
       "29      read\n",
       "dtype: object"
      ]
     },
     "execution_count": 348,
     "metadata": {},
     "output_type": "execute_result"
    }
   ],
   "source": [
    "pd.Series(np.array(bigram_vectorizer.get_feature_names())[np.argsort(-1*avg_counts)[0,:30]].flatten())"
   ]
  }
 ],
 "metadata": {
  "kernelspec": {
   "display_name": "Python 2",
   "language": "python",
   "name": "python2"
  },
  "language_info": {
   "codemirror_mode": {
    "name": "ipython",
    "version": 2
   },
   "file_extension": ".py",
   "mimetype": "text/x-python",
   "name": "python",
   "nbconvert_exporter": "python",
   "pygments_lexer": "ipython2",
   "version": "2.7.10"
  }
 },
 "nbformat": 4,
 "nbformat_minor": 0
}
