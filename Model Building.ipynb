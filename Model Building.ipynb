{
 "cells": [
  {
   "cell_type": "code",
   "execution_count": 1,
   "metadata": {
    "collapsed": true
   },
   "outputs": [],
   "source": [
    "import pandas as pd\n",
    "import numpy as np\n",
    "import statsmodels.api as sm\n",
    "from sklearn.externals import joblib\n",
    "import matplotlib.pyplot as plt\n",
    "%matplotlib inline"
   ]
  },
  {
   "cell_type": "code",
   "execution_count": 2,
   "metadata": {
    "collapsed": true
   },
   "outputs": [],
   "source": [
    "from PostStemmer import PostStemmer\n",
    "from sklearn.naive_bayes import MultinomialNB\n",
    "from sklearn.feature_extraction.text import CountVectorizer, TfidfVectorizer\n",
    "from sklearn.pipeline import Pipeline\n",
    "from sklearn.feature_selection import chi2, SelectKBest\n",
    "from sklearn.cross_validation import train_test_split\n",
    "from sklearn.metrics import accuracy_score, precision_score, recall_score\n",
    "from sklearn.externals import joblib\n",
    "from sklearn.base import TransformerMixin"
   ]
  },
  {
   "cell_type": "code",
   "execution_count": 3,
   "metadata": {
    "collapsed": false
   },
   "outputs": [],
   "source": [
    "first_post = pd.read_json('data/politicos/json/mixed.json')\n",
    "# reddit_pos = pd.read_json('data/politicos/json/multi.json')\n",
    "# reddit_neg = pd.read_json('data/politicos/json/single.json')\n",
    "# first_post = pd.concat([reddit_pos, reddit_neg], axis=0)"
   ]
  },
  {
   "cell_type": "code",
   "execution_count": 4,
   "metadata": {
    "collapsed": false
   },
   "outputs": [],
   "source": [
    "#first_post.reset_index(inplace=True)\n",
    "#first_post.head()"
   ]
  },
  {
   "cell_type": "code",
   "execution_count": 5,
   "metadata": {
    "collapsed": false
   },
   "outputs": [],
   "source": [
    "# Author- not needed in analysis, keep for now as index\n",
    "first_post.set_index('author', inplace=True)\n",
    "#first_post.drop('author', axis=1, inplace=True)"
   ]
  },
  {
   "cell_type": "code",
   "execution_count": 6,
   "metadata": {
    "collapsed": false
   },
   "outputs": [],
   "source": [
    "# Label / outcome variable\n",
    "multi_post = first_post['total_posts']>1\n",
    "first_post.drop(['total_posts', 'post_ids', 'post_datetimes', 'first_post_datetime', 'last_post_datetime'], axis=1, inplace=True)\n",
    "multi_post.index.rename('multi_post', inplace=True)\n",
    "multi_post.name = 'multi_post'"
   ]
  },
  {
   "cell_type": "code",
   "execution_count": 7,
   "metadata": {
    "collapsed": true
   },
   "outputs": [],
   "source": [
    "# Ups/downs\n",
    "first_post.rename(columns={'first_post_ups':'ups',\n",
    "                           'first_post_downs':'downs'}, inplace=True)"
   ]
  },
  {
   "cell_type": "code",
   "execution_count": 8,
   "metadata": {
    "collapsed": true
   },
   "outputs": [],
   "source": [
    "# Sentiment\n",
    "sentiment_clf = joblib.load('twitter_sentiment/classifier.pkl')"
   ]
  },
  {
   "cell_type": "code",
   "execution_count": 9,
   "metadata": {
    "collapsed": false
   },
   "outputs": [],
   "source": [
    "# Response sentiment\n",
    "\n",
    "response_sentiment = [] #proportion of responses that were positive\n",
    "#sentiments = []\n",
    "#pos_responses = []\n",
    "#neg_responses = []\n",
    "\n",
    "for i,responses in enumerate(first_post['first_post_responses']):\n",
    "    if isinstance(responses, float): #NaNs due to no responses\n",
    "        #sentiments.append(None)\n",
    "        #pos_responses.append(0)\n",
    "        #neg_responses.append(0)\n",
    "        response_sentiment.append(0)\n",
    "    else: #utf8 encoding for classifier;\n",
    "        responses_utf8 = [response.encode('utf8') for response in responses]\n",
    "        responses_utf8_np = np.array(responses_utf8, ndmin=1)\n",
    "        responses_utf8_np.reshape(responses_utf8_np.shape[0],1) #explicit 1-dimension for classifier\n",
    "        responses_sentiments = sentiment_clf.predict(responses_utf8_np)\n",
    "        #sentiments.append(responses_sentiments)\n",
    "        #pos_responses.append(np.sum(responses_sentiments))\n",
    "        #neg_responses.append(responses_sentiments.shape[0] - np.sum(responses_sentiments))\n",
    "        response_sentiment.append( np.sum(responses_sentiments) / responses_sentiments.shape[0] )\n",
    "\n",
    "first_post['responses_sentiment'] = response_sentiment\n",
    "#first_post['pos_responses'] = pos_responses\n",
    "#first_post['neg_responses'] = neg_responses"
   ]
  },
  {
   "cell_type": "code",
   "execution_count": 10,
   "metadata": {
    "collapsed": false
   },
   "outputs": [],
   "source": [
    "# Body sentiment\n",
    "first_post_utf8 = first_post['first_post_body'].apply(lambda post: post.encode('utf8'))\n",
    "first_post['sentiment'] = sentiment_clf.predict(first_post_utf8).astype(int)"
   ]
  },
  {
   "cell_type": "code",
   "execution_count": 11,
   "metadata": {
    "collapsed": false
   },
   "outputs": [],
   "source": [
    "# Responses\n",
    "first_post['responses_avg_word_ct'] = first_post['first_post_responses'].apply(lambda responses: 0 if isinstance(responses, float) else np.sum([len(response.split()) for response in responses]) * 1.0 / len(responses) )\n",
    "first_post.rename(columns={'first_post_avg_response_ups':'responses_ups_avg',\n",
    "                           'first_post_avg_response_downs':'responses_downs_avg',\n",
    "                           'first_post_total_responses':'responses_total'}, inplace=True)\n",
    "first_post.drop(['first_post_responses','first_post_response_ups', 'first_post_response_downs'], axis=1, inplace=True) #not doing text analysis for now\n",
    "first_post.fillna(0, inplace=True) #response stats are NaN if no responses\n",
    "# responses_ups_avg is actually an interaction term multiplied by has_responses\n",
    "first_post['has_responses'] = (first_post['responses_total']>0).astype(int)"
   ]
  },
  {
   "cell_type": "code",
   "execution_count": 12,
   "metadata": {
    "collapsed": false
   },
   "outputs": [],
   "source": [
    "# Body\n",
    "first_post['word_count'] = first_post['first_post_body'].apply(lambda post: len(post.split()))\n",
    "first_post.drop(['first_post_link_id', 'first_post_id', 'first_post_body'], axis=1, inplace=True)"
   ]
  },
  {
   "cell_type": "code",
   "execution_count": 13,
   "metadata": {
    "collapsed": false
   },
   "outputs": [],
   "source": [
    "# Parent type\n",
    "first_post['is_response'] = first_post['parent_type']=='t1'\n",
    "first_post['is_response'] = first_post['is_response'].astype(int)\n",
    "first_post.drop('parent_type', axis=1, inplace=True)"
   ]
  },
  {
   "cell_type": "code",
   "execution_count": 14,
   "metadata": {
    "collapsed": true
   },
   "outputs": [],
   "source": [
    "# Downs and Response downs - drop bc no data in this sample\n",
    "first_post.drop('responses_downs_avg', axis=1, inplace=True)\n",
    "first_post.drop('downs', axis=1, inplace=True)"
   ]
  },
  {
   "cell_type": "code",
   "execution_count": 15,
   "metadata": {
    "collapsed": false
   },
   "outputs": [],
   "source": [
    "# Const\n",
    "first_post = sm.add_constant(first_post)\n",
    "#first_post['const'] = pd.Series(np.ones(first_post.shape[0]))"
   ]
  },
  {
   "cell_type": "code",
   "execution_count": 16,
   "metadata": {
    "collapsed": false
   },
   "outputs": [
    {
     "data": {
      "text/html": [
       "<div>\n",
       "<table border=\"1\" class=\"dataframe\">\n",
       "  <thead>\n",
       "    <tr style=\"text-align: right;\">\n",
       "      <th></th>\n",
       "      <th>const</th>\n",
       "      <th>responses_ups_avg</th>\n",
       "      <th>responses_total</th>\n",
       "      <th>ups</th>\n",
       "      <th>responses_sentiment</th>\n",
       "      <th>sentiment</th>\n",
       "      <th>responses_avg_word_ct</th>\n",
       "      <th>has_responses</th>\n",
       "      <th>word_count</th>\n",
       "      <th>is_response</th>\n",
       "    </tr>\n",
       "    <tr>\n",
       "      <th>multi_post</th>\n",
       "      <th></th>\n",
       "      <th></th>\n",
       "      <th></th>\n",
       "      <th></th>\n",
       "      <th></th>\n",
       "      <th></th>\n",
       "      <th></th>\n",
       "      <th></th>\n",
       "      <th></th>\n",
       "      <th></th>\n",
       "    </tr>\n",
       "  </thead>\n",
       "  <tbody>\n",
       "    <tr>\n",
       "      <th>netdroid9</th>\n",
       "      <td>1</td>\n",
       "      <td>0</td>\n",
       "      <td>1</td>\n",
       "      <td>3</td>\n",
       "      <td>1</td>\n",
       "      <td>0</td>\n",
       "      <td>11</td>\n",
       "      <td>1</td>\n",
       "      <td>67</td>\n",
       "      <td>1</td>\n",
       "    </tr>\n",
       "    <tr>\n",
       "      <th>grimsley33</th>\n",
       "      <td>1</td>\n",
       "      <td>0</td>\n",
       "      <td>0</td>\n",
       "      <td>4</td>\n",
       "      <td>0</td>\n",
       "      <td>0</td>\n",
       "      <td>0</td>\n",
       "      <td>0</td>\n",
       "      <td>91</td>\n",
       "      <td>0</td>\n",
       "    </tr>\n",
       "    <tr>\n",
       "      <th>bluedice</th>\n",
       "      <td>1</td>\n",
       "      <td>0</td>\n",
       "      <td>0</td>\n",
       "      <td>0</td>\n",
       "      <td>0</td>\n",
       "      <td>0</td>\n",
       "      <td>0</td>\n",
       "      <td>0</td>\n",
       "      <td>8</td>\n",
       "      <td>0</td>\n",
       "    </tr>\n",
       "    <tr>\n",
       "      <th>Cody2</th>\n",
       "      <td>1</td>\n",
       "      <td>1</td>\n",
       "      <td>1</td>\n",
       "      <td>26</td>\n",
       "      <td>0</td>\n",
       "      <td>1</td>\n",
       "      <td>1</td>\n",
       "      <td>1</td>\n",
       "      <td>3</td>\n",
       "      <td>1</td>\n",
       "    </tr>\n",
       "    <tr>\n",
       "      <th>firebat87</th>\n",
       "      <td>1</td>\n",
       "      <td>0</td>\n",
       "      <td>0</td>\n",
       "      <td>1</td>\n",
       "      <td>0</td>\n",
       "      <td>0</td>\n",
       "      <td>0</td>\n",
       "      <td>0</td>\n",
       "      <td>33</td>\n",
       "      <td>1</td>\n",
       "    </tr>\n",
       "  </tbody>\n",
       "</table>\n",
       "</div>"
      ],
      "text/plain": [
       "            const  responses_ups_avg  responses_total  ups  \\\n",
       "multi_post                                                   \n",
       "netdroid9       1                  0                1    3   \n",
       "grimsley33      1                  0                0    4   \n",
       "bluedice        1                  0                0    0   \n",
       "Cody2           1                  1                1   26   \n",
       "firebat87       1                  0                0    1   \n",
       "\n",
       "            responses_sentiment  sentiment  responses_avg_word_ct  \\\n",
       "multi_post                                                          \n",
       "netdroid9                     1          0                     11   \n",
       "grimsley33                    0          0                      0   \n",
       "bluedice                      0          0                      0   \n",
       "Cody2                         0          1                      1   \n",
       "firebat87                     0          0                      0   \n",
       "\n",
       "            has_responses  word_count  is_response  \n",
       "multi_post                                          \n",
       "netdroid9               1          67            1  \n",
       "grimsley33              0          91            0  \n",
       "bluedice                0           8            0  \n",
       "Cody2                   1           3            1  \n",
       "firebat87               0          33            1  "
      ]
     },
     "execution_count": 16,
     "metadata": {},
     "output_type": "execute_result"
    }
   ],
   "source": [
    "first_post.head()"
   ]
  },
  {
   "cell_type": "code",
   "execution_count": 17,
   "metadata": {
    "collapsed": false
   },
   "outputs": [],
   "source": [
    "logit = sm.Logit(multi_post, first_post)"
   ]
  },
  {
   "cell_type": "code",
   "execution_count": 18,
   "metadata": {
    "collapsed": false
   },
   "outputs": [
    {
     "name": "stdout",
     "output_type": "stream",
     "text": [
      "Optimization terminated successfully.\n",
      "         Current function value: 0.634093\n",
      "         Iterations 7\n"
     ]
    }
   ],
   "source": [
    "result = logit.fit()"
   ]
  },
  {
   "cell_type": "code",
   "execution_count": 19,
   "metadata": {
    "collapsed": false
   },
   "outputs": [
    {
     "data": {
      "text/html": [
       "<table class=\"simpletable\">\n",
       "<caption>Logit Regression Results</caption>\n",
       "<tr>\n",
       "  <th>Dep. Variable:</th>    <td>multi_post</td>    <th>  No. Observations:  </th>  <td>   768</td>  \n",
       "</tr>\n",
       "<tr>\n",
       "  <th>Model:</th>               <td>Logit</td>      <th>  Df Residuals:      </th>  <td>   758</td>  \n",
       "</tr>\n",
       "<tr>\n",
       "  <th>Method:</th>               <td>MLE</td>       <th>  Df Model:          </th>  <td>     9</td>  \n",
       "</tr>\n",
       "<tr>\n",
       "  <th>Date:</th>          <td>Sun, 16 Aug 2015</td> <th>  Pseudo R-squ.:     </th>  <td>0.03757</td> \n",
       "</tr>\n",
       "<tr>\n",
       "  <th>Time:</th>              <td>19:18:56</td>     <th>  Log-Likelihood:    </th> <td> -486.98</td> \n",
       "</tr>\n",
       "<tr>\n",
       "  <th>converged:</th>           <td>True</td>       <th>  LL-Null:           </th> <td> -505.99</td> \n",
       "</tr>\n",
       "<tr>\n",
       "  <th> </th>                      <td> </td>        <th>  LLR p-value:       </th> <td>1.730e-05</td>\n",
       "</tr>\n",
       "</table>\n",
       "<table class=\"simpletable\">\n",
       "<tr>\n",
       "            <td></td>               <th>coef</th>     <th>std err</th>      <th>z</th>      <th>P>|z|</th> <th>[95.0% Conf. Int.]</th> \n",
       "</tr>\n",
       "<tr>\n",
       "  <th>const</th>                 <td>    0.1438</td> <td>    0.134</td> <td>    1.073</td> <td> 0.283</td> <td>   -0.119     0.406</td>\n",
       "</tr>\n",
       "<tr>\n",
       "  <th>responses_ups_avg</th>     <td>    0.0177</td> <td>    0.035</td> <td>    0.501</td> <td> 0.616</td> <td>   -0.052     0.087</td>\n",
       "</tr>\n",
       "<tr>\n",
       "  <th>responses_total</th>       <td>   -0.0439</td> <td>    0.091</td> <td>   -0.479</td> <td> 0.632</td> <td>   -0.223     0.135</td>\n",
       "</tr>\n",
       "<tr>\n",
       "  <th>ups</th>                   <td>    0.0094</td> <td>    0.008</td> <td>    1.161</td> <td> 0.246</td> <td>   -0.006     0.025</td>\n",
       "</tr>\n",
       "<tr>\n",
       "  <th>responses_sentiment</th>   <td>    0.1059</td> <td>    0.326</td> <td>    0.324</td> <td> 0.746</td> <td>   -0.534     0.746</td>\n",
       "</tr>\n",
       "<tr>\n",
       "  <th>sentiment</th>             <td>   -0.0870</td> <td>    0.170</td> <td>   -0.511</td> <td> 0.609</td> <td>   -0.421     0.246</td>\n",
       "</tr>\n",
       "<tr>\n",
       "  <th>responses_avg_word_ct</th> <td>    0.0111</td> <td>    0.005</td> <td>    2.183</td> <td> 0.029</td> <td>    0.001     0.021</td>\n",
       "</tr>\n",
       "<tr>\n",
       "  <th>has_responses</th>         <td>    0.3331</td> <td>    0.282</td> <td>    1.183</td> <td> 0.237</td> <td>   -0.219     0.885</td>\n",
       "</tr>\n",
       "<tr>\n",
       "  <th>word_count</th>            <td>    0.0006</td> <td>    0.001</td> <td>    0.454</td> <td> 0.650</td> <td>   -0.002     0.003</td>\n",
       "</tr>\n",
       "<tr>\n",
       "  <th>is_response</th>           <td>    0.2150</td> <td>    0.157</td> <td>    1.372</td> <td> 0.170</td> <td>   -0.092     0.522</td>\n",
       "</tr>\n",
       "</table>"
      ],
      "text/plain": [
       "<class 'statsmodels.iolib.summary.Summary'>\n",
       "\"\"\"\n",
       "                           Logit Regression Results                           \n",
       "==============================================================================\n",
       "Dep. Variable:             multi_post   No. Observations:                  768\n",
       "Model:                          Logit   Df Residuals:                      758\n",
       "Method:                           MLE   Df Model:                            9\n",
       "Date:                Sun, 16 Aug 2015   Pseudo R-squ.:                 0.03757\n",
       "Time:                        19:18:56   Log-Likelihood:                -486.98\n",
       "converged:                       True   LL-Null:                       -505.99\n",
       "                                        LLR p-value:                 1.730e-05\n",
       "=========================================================================================\n",
       "                            coef    std err          z      P>|z|      [95.0% Conf. Int.]\n",
       "-----------------------------------------------------------------------------------------\n",
       "const                     0.1438      0.134      1.073      0.283        -0.119     0.406\n",
       "responses_ups_avg         0.0177      0.035      0.501      0.616        -0.052     0.087\n",
       "responses_total          -0.0439      0.091     -0.479      0.632        -0.223     0.135\n",
       "ups                       0.0094      0.008      1.161      0.246        -0.006     0.025\n",
       "responses_sentiment       0.1059      0.326      0.324      0.746        -0.534     0.746\n",
       "sentiment                -0.0870      0.170     -0.511      0.609        -0.421     0.246\n",
       "responses_avg_word_ct     0.0111      0.005      2.183      0.029         0.001     0.021\n",
       "has_responses             0.3331      0.282      1.183      0.237        -0.219     0.885\n",
       "word_count                0.0006      0.001      0.454      0.650        -0.002     0.003\n",
       "is_response               0.2150      0.157      1.372      0.170        -0.092     0.522\n",
       "=========================================================================================\n",
       "\"\"\""
      ]
     },
     "execution_count": 19,
     "metadata": {},
     "output_type": "execute_result"
    }
   ],
   "source": [
    "result.summary()"
   ]
  },
  {
   "cell_type": "code",
   "execution_count": 20,
   "metadata": {
    "collapsed": false
   },
   "outputs": [
    {
     "data": {
      "text/plain": [
       "const                    1.154614\n",
       "responses_ups_avg        1.017892\n",
       "responses_total          0.957090\n",
       "ups                      1.009431\n",
       "responses_sentiment      1.111687\n",
       "sentiment                0.916650\n",
       "responses_avg_word_ct    1.011208\n",
       "has_responses            1.395278\n",
       "word_count               1.000583\n",
       "is_response              1.239896\n",
       "dtype: float64"
      ]
     },
     "execution_count": 20,
     "metadata": {},
     "output_type": "execute_result"
    }
   ],
   "source": [
    "np.exp(result.params)"
   ]
  },
  {
   "cell_type": "code",
   "execution_count": 21,
   "metadata": {
    "collapsed": false
   },
   "outputs": [
    {
     "data": {
      "text/plain": [
       "993.96753515073328"
      ]
     },
     "execution_count": 21,
     "metadata": {},
     "output_type": "execute_result"
    }
   ],
   "source": [
    "result.aic"
   ]
  },
  {
   "cell_type": "code",
   "execution_count": 22,
   "metadata": {
    "collapsed": false
   },
   "outputs": [
    {
     "name": "stdout",
     "output_type": "stream",
     "text": [
      "Optimization terminated successfully.\n",
      "         Current function value: 0.642759\n",
      "         Iterations 5\n"
     ]
    }
   ],
   "source": [
    "logit2 = sm.Logit(multi_post, sm.add_constant(first_post['has_responses']))\n",
    "result2 = logit2.fit()"
   ]
  },
  {
   "cell_type": "code",
   "execution_count": 23,
   "metadata": {
    "collapsed": false
   },
   "outputs": [
    {
     "data": {
      "text/html": [
       "<table class=\"simpletable\">\n",
       "<caption>Logit Regression Results</caption>\n",
       "<tr>\n",
       "  <th>Dep. Variable:</th>    <td>multi_post</td>    <th>  No. Observations:  </th>  <td>   768</td>  \n",
       "</tr>\n",
       "<tr>\n",
       "  <th>Model:</th>               <td>Logit</td>      <th>  Df Residuals:      </th>  <td>   766</td>  \n",
       "</tr>\n",
       "<tr>\n",
       "  <th>Method:</th>               <td>MLE</td>       <th>  Df Model:          </th>  <td>     1</td>  \n",
       "</tr>\n",
       "<tr>\n",
       "  <th>Date:</th>          <td>Sun, 16 Aug 2015</td> <th>  Pseudo R-squ.:     </th>  <td>0.02441</td> \n",
       "</tr>\n",
       "<tr>\n",
       "  <th>Time:</th>              <td>19:18:56</td>     <th>  Log-Likelihood:    </th> <td> -493.64</td> \n",
       "</tr>\n",
       "<tr>\n",
       "  <th>converged:</th>           <td>True</td>       <th>  LL-Null:           </th> <td> -505.99</td> \n",
       "</tr>\n",
       "<tr>\n",
       "  <th> </th>                      <td> </td>        <th>  LLR p-value:       </th> <td>6.674e-07</td>\n",
       "</tr>\n",
       "</table>\n",
       "<table class=\"simpletable\">\n",
       "<tr>\n",
       "        <td></td>           <th>coef</th>     <th>std err</th>      <th>z</th>      <th>P>|z|</th> <th>[95.0% Conf. Int.]</th> \n",
       "</tr>\n",
       "<tr>\n",
       "  <th>const</th>         <td>    0.2408</td> <td>    0.094</td> <td>    2.561</td> <td> 0.010</td> <td>    0.057     0.425</td>\n",
       "</tr>\n",
       "<tr>\n",
       "  <th>has_responses</th> <td>    0.7774</td> <td>    0.160</td> <td>    4.874</td> <td> 0.000</td> <td>    0.465     1.090</td>\n",
       "</tr>\n",
       "</table>"
      ],
      "text/plain": [
       "<class 'statsmodels.iolib.summary.Summary'>\n",
       "\"\"\"\n",
       "                           Logit Regression Results                           \n",
       "==============================================================================\n",
       "Dep. Variable:             multi_post   No. Observations:                  768\n",
       "Model:                          Logit   Df Residuals:                      766\n",
       "Method:                           MLE   Df Model:                            1\n",
       "Date:                Sun, 16 Aug 2015   Pseudo R-squ.:                 0.02441\n",
       "Time:                        19:18:56   Log-Likelihood:                -493.64\n",
       "converged:                       True   LL-Null:                       -505.99\n",
       "                                        LLR p-value:                 6.674e-07\n",
       "=================================================================================\n",
       "                    coef    std err          z      P>|z|      [95.0% Conf. Int.]\n",
       "---------------------------------------------------------------------------------\n",
       "const             0.2408      0.094      2.561      0.010         0.057     0.425\n",
       "has_responses     0.7774      0.160      4.874      0.000         0.465     1.090\n",
       "=================================================================================\n",
       "\"\"\""
      ]
     },
     "execution_count": 23,
     "metadata": {},
     "output_type": "execute_result"
    }
   ],
   "source": [
    "result2.summary()"
   ]
  },
  {
   "cell_type": "code",
   "execution_count": 24,
   "metadata": {
    "collapsed": false
   },
   "outputs": [
    {
     "data": {
      "text/plain": [
       "991.27848008426326"
      ]
     },
     "execution_count": 24,
     "metadata": {},
     "output_type": "execute_result"
    }
   ],
   "source": [
    "result2.aic"
   ]
  },
  {
   "cell_type": "code",
   "execution_count": 25,
   "metadata": {
    "collapsed": false
   },
   "outputs": [
    {
     "data": {
      "text/plain": [
       "const            1.272277\n",
       "has_responses    2.175857\n",
       "dtype: float64"
      ]
     },
     "execution_count": 25,
     "metadata": {},
     "output_type": "execute_result"
    }
   ],
   "source": [
    "np.exp(result2.params)"
   ]
  },
  {
   "cell_type": "code",
   "execution_count": 26,
   "metadata": {
    "collapsed": false
   },
   "outputs": [
    {
     "name": "stdout",
     "output_type": "stream",
     "text": [
      "Optimization terminated successfully.\n",
      "         Current function value: 0.641130\n",
      "         Iterations 7\n"
     ]
    }
   ],
   "source": [
    "logit3 = sm.Logit(multi_post, sm.add_constant(first_post[['has_responses', 'ups']]))\n",
    "result3 = logit3.fit()"
   ]
  },
  {
   "cell_type": "code",
   "execution_count": 27,
   "metadata": {
    "collapsed": false
   },
   "outputs": [
    {
     "data": {
      "text/html": [
       "<table class=\"simpletable\">\n",
       "<caption>Logit Regression Results</caption>\n",
       "<tr>\n",
       "  <th>Dep. Variable:</th>    <td>multi_post</td>    <th>  No. Observations:  </th>  <td>   768</td>  \n",
       "</tr>\n",
       "<tr>\n",
       "  <th>Model:</th>               <td>Logit</td>      <th>  Df Residuals:      </th>  <td>   765</td>  \n",
       "</tr>\n",
       "<tr>\n",
       "  <th>Method:</th>               <td>MLE</td>       <th>  Df Model:          </th>  <td>     2</td>  \n",
       "</tr>\n",
       "<tr>\n",
       "  <th>Date:</th>          <td>Sun, 16 Aug 2015</td> <th>  Pseudo R-squ.:     </th>  <td>0.02689</td> \n",
       "</tr>\n",
       "<tr>\n",
       "  <th>Time:</th>              <td>19:18:57</td>     <th>  Log-Likelihood:    </th> <td> -492.39</td> \n",
       "</tr>\n",
       "<tr>\n",
       "  <th>converged:</th>           <td>True</td>       <th>  LL-Null:           </th> <td> -505.99</td> \n",
       "</tr>\n",
       "<tr>\n",
       "  <th> </th>                      <td> </td>        <th>  LLR p-value:       </th> <td>1.235e-06</td>\n",
       "</tr>\n",
       "</table>\n",
       "<table class=\"simpletable\">\n",
       "<tr>\n",
       "        <td></td>           <th>coef</th>     <th>std err</th>      <th>z</th>      <th>P>|z|</th> <th>[95.0% Conf. Int.]</th> \n",
       "</tr>\n",
       "<tr>\n",
       "  <th>const</th>         <td>    0.2271</td> <td>    0.095</td> <td>    2.397</td> <td> 0.017</td> <td>    0.041     0.413</td>\n",
       "</tr>\n",
       "<tr>\n",
       "  <th>has_responses</th> <td>    0.7252</td> <td>    0.163</td> <td>    4.450</td> <td> 0.000</td> <td>    0.406     1.045</td>\n",
       "</tr>\n",
       "<tr>\n",
       "  <th>ups</th>           <td>    0.0075</td> <td>    0.006</td> <td>    1.191</td> <td> 0.234</td> <td>   -0.005     0.020</td>\n",
       "</tr>\n",
       "</table>"
      ],
      "text/plain": [
       "<class 'statsmodels.iolib.summary.Summary'>\n",
       "\"\"\"\n",
       "                           Logit Regression Results                           \n",
       "==============================================================================\n",
       "Dep. Variable:             multi_post   No. Observations:                  768\n",
       "Model:                          Logit   Df Residuals:                      765\n",
       "Method:                           MLE   Df Model:                            2\n",
       "Date:                Sun, 16 Aug 2015   Pseudo R-squ.:                 0.02689\n",
       "Time:                        19:18:57   Log-Likelihood:                -492.39\n",
       "converged:                       True   LL-Null:                       -505.99\n",
       "                                        LLR p-value:                 1.235e-06\n",
       "=================================================================================\n",
       "                    coef    std err          z      P>|z|      [95.0% Conf. Int.]\n",
       "---------------------------------------------------------------------------------\n",
       "const             0.2271      0.095      2.397      0.017         0.041     0.413\n",
       "has_responses     0.7252      0.163      4.450      0.000         0.406     1.045\n",
       "ups               0.0075      0.006      1.191      0.234        -0.005     0.020\n",
       "=================================================================================\n",
       "\"\"\""
      ]
     },
     "execution_count": 27,
     "metadata": {},
     "output_type": "execute_result"
    }
   ],
   "source": [
    "result3.summary()"
   ]
  },
  {
   "cell_type": "code",
   "execution_count": 28,
   "metadata": {
    "collapsed": false
   },
   "outputs": [
    {
     "data": {
      "text/plain": [
       "990.77630537239315"
      ]
     },
     "execution_count": 28,
     "metadata": {},
     "output_type": "execute_result"
    }
   ],
   "source": [
    "result3.aic"
   ]
  },
  {
   "cell_type": "code",
   "execution_count": 29,
   "metadata": {
    "collapsed": false
   },
   "outputs": [
    {
     "data": {
      "text/plain": [
       "const            1.254951\n",
       "has_responses    2.065192\n",
       "ups              1.007536\n",
       "dtype: float64"
      ]
     },
     "execution_count": 29,
     "metadata": {},
     "output_type": "execute_result"
    }
   ],
   "source": [
    "np.exp(result3.params)"
   ]
  },
  {
   "cell_type": "markdown",
   "metadata": {},
   "source": [
    "Don't add ups to the model. It barely improves AIC and Pseudo-Rsq. It adds extra variable to to the model. Its p-value is not significant. It coefficient is near 0."
   ]
  },
  {
   "cell_type": "code",
   "execution_count": 30,
   "metadata": {
    "collapsed": true
   },
   "outputs": [],
   "source": [
    "from sklearn.ensemble import RandomForestClassifier\n",
    "from sklearn.metrics import accuracy_score, recall_score, precision_score"
   ]
  },
  {
   "cell_type": "code",
   "execution_count": 31,
   "metadata": {
    "collapsed": true
   },
   "outputs": [],
   "source": [
    "rfc = RandomForestClassifier(n_estimators=10, max_features=3, max_depth=5)"
   ]
  },
  {
   "cell_type": "code",
   "execution_count": 32,
   "metadata": {
    "collapsed": false
   },
   "outputs": [
    {
     "data": {
      "text/plain": [
       "RandomForestClassifier(bootstrap=True, compute_importances=None,\n",
       "            criterion='gini', max_depth=5, max_features=3,\n",
       "            max_leaf_nodes=None, min_density=None, min_samples_leaf=1,\n",
       "            min_samples_split=2, n_estimators=10, n_jobs=1,\n",
       "            oob_score=False, random_state=None, verbose=0)"
      ]
     },
     "execution_count": 32,
     "metadata": {},
     "output_type": "execute_result"
    }
   ],
   "source": [
    "rfc.fit(first_post, multi_post)"
   ]
  },
  {
   "cell_type": "code",
   "execution_count": 33,
   "metadata": {
    "collapsed": true
   },
   "outputs": [],
   "source": [
    "preds = rfc.predict(first_post)"
   ]
  },
  {
   "cell_type": "code",
   "execution_count": 34,
   "metadata": {
    "collapsed": false
   },
   "outputs": [
    {
     "data": {
      "text/plain": [
       "0.68619791666666663"
      ]
     },
     "execution_count": 34,
     "metadata": {},
     "output_type": "execute_result"
    }
   ],
   "source": [
    "accuracy_score(multi_post, preds)"
   ]
  },
  {
   "cell_type": "code",
   "execution_count": 35,
   "metadata": {
    "collapsed": false
   },
   "outputs": [
    {
     "data": {
      "text/plain": [
       "0.95661157024793386"
      ]
     },
     "execution_count": 35,
     "metadata": {},
     "output_type": "execute_result"
    }
   ],
   "source": [
    "recall_score(multi_post, preds)"
   ]
  },
  {
   "cell_type": "code",
   "execution_count": 36,
   "metadata": {
    "collapsed": false
   },
   "outputs": [
    {
     "data": {
      "text/plain": [
       "0.67789165446559296"
      ]
     },
     "execution_count": 36,
     "metadata": {},
     "output_type": "execute_result"
    }
   ],
   "source": [
    "precision_score(multi_post, preds)"
   ]
  },
  {
   "cell_type": "code",
   "execution_count": 37,
   "metadata": {
    "collapsed": false
   },
   "outputs": [
    {
     "data": {
      "text/plain": [
       "array([ 0.        ,  0.07729918,  0.08563223,  0.24360906,  0.00590493,\n",
       "        0.02658203,  0.22919539,  0.02875162,  0.27551334,  0.02751222])"
      ]
     },
     "execution_count": 37,
     "metadata": {},
     "output_type": "execute_result"
    }
   ],
   "source": [
    "rfc.feature_importances_"
   ]
  },
  {
   "cell_type": "code",
   "execution_count": 38,
   "metadata": {
    "collapsed": false
   },
   "outputs": [
    {
     "data": {
      "text/plain": [
       "Index([u'const', u'responses_ups_avg', u'responses_total', u'ups',\n",
       "       u'responses_sentiment', u'sentiment', u'responses_avg_word_ct',\n",
       "       u'has_responses', u'word_count', u'is_response'],\n",
       "      dtype='object')"
      ]
     },
     "execution_count": 38,
     "metadata": {},
     "output_type": "execute_result"
    }
   ],
   "source": [
    "first_post.columns"
   ]
  },
  {
   "cell_type": "code",
   "execution_count": 39,
   "metadata": {
    "collapsed": false
   },
   "outputs": [
    {
     "data": {
      "text/plain": [
       "Index([u'word_count', u'ups', u'responses_avg_word_ct', u'responses_total',\n",
       "       u'responses_ups_avg', u'has_responses', u'is_response', u'sentiment',\n",
       "       u'responses_sentiment', u'const'],\n",
       "      dtype='object')"
      ]
     },
     "execution_count": 39,
     "metadata": {},
     "output_type": "execute_result"
    }
   ],
   "source": [
    "first_post.columns[np.argsort(-rfc.feature_importances_)]"
   ]
  },
  {
   "cell_type": "markdown",
   "metadata": {},
   "source": [
    "{Word Count, Upvotes, Response Ups Avg} all may be important, even though they don't appear that way in logistic regression"
   ]
  },
  {
   "cell_type": "code",
   "execution_count": 40,
   "metadata": {
    "collapsed": false
   },
   "outputs": [
    {
     "data": {
      "text/html": [
       "<div>\n",
       "<table border=\"1\" class=\"dataframe\">\n",
       "  <thead>\n",
       "    <tr style=\"text-align: right;\">\n",
       "      <th>has_responses</th>\n",
       "      <th>0</th>\n",
       "      <th>1</th>\n",
       "    </tr>\n",
       "    <tr>\n",
       "      <th>multi_post</th>\n",
       "      <th></th>\n",
       "      <th></th>\n",
       "    </tr>\n",
       "  </thead>\n",
       "  <tbody>\n",
       "    <tr>\n",
       "      <th>False</th>\n",
       "      <td>202</td>\n",
       "      <td>82</td>\n",
       "    </tr>\n",
       "    <tr>\n",
       "      <th>True</th>\n",
       "      <td>257</td>\n",
       "      <td>227</td>\n",
       "    </tr>\n",
       "  </tbody>\n",
       "</table>\n",
       "</div>"
      ],
      "text/plain": [
       "has_responses    0    1\n",
       "multi_post             \n",
       "False          202   82\n",
       "True           257  227"
      ]
     },
     "execution_count": 40,
     "metadata": {},
     "output_type": "execute_result"
    }
   ],
   "source": [
    "response_crosstab = pd.crosstab(multi_post, first_post['has_responses'])\n",
    "response_crosstab"
   ]
  },
  {
   "cell_type": "code",
   "execution_count": 41,
   "metadata": {
    "collapsed": false
   },
   "outputs": [
    {
     "data": {
      "text/html": [
       "<div>\n",
       "<table border=\"1\" class=\"dataframe\">\n",
       "  <thead>\n",
       "    <tr style=\"text-align: right;\">\n",
       "      <th>has_responses</th>\n",
       "      <th>0</th>\n",
       "      <th>1</th>\n",
       "    </tr>\n",
       "    <tr>\n",
       "      <th>multi_post</th>\n",
       "      <th></th>\n",
       "      <th></th>\n",
       "    </tr>\n",
       "  </thead>\n",
       "  <tbody>\n",
       "    <tr>\n",
       "      <th>False</th>\n",
       "      <td>0.440087</td>\n",
       "      <td>0.265372</td>\n",
       "    </tr>\n",
       "    <tr>\n",
       "      <th>True</th>\n",
       "      <td>0.559913</td>\n",
       "      <td>0.734628</td>\n",
       "    </tr>\n",
       "  </tbody>\n",
       "</table>\n",
       "</div>"
      ],
      "text/plain": [
       "has_responses         0         1\n",
       "multi_post                       \n",
       "False          0.440087  0.265372\n",
       "True           0.559913  0.734628"
      ]
     },
     "execution_count": 41,
     "metadata": {},
     "output_type": "execute_result"
    }
   ],
   "source": [
    "response_crosstab_scaled = response_crosstab / response_crosstab.sum(axis=0)\n",
    "response_crosstab_scaled"
   ]
  },
  {
   "cell_type": "code",
   "execution_count": 42,
   "metadata": {
    "collapsed": false
   },
   "outputs": [
    {
     "data": {
      "text/plain": [
       "<matplotlib.text.Text at 0x10d0b16d0>"
      ]
     },
     "execution_count": 42,
     "metadata": {},
     "output_type": "execute_result"
    },
    {
     "data": {
      "image/png": "[encoded data removed]",
      "text/plain": [
       "<matplotlib.figure.Figure at 0x10d018910>"
      ]
     },
     "metadata": {},
     "output_type": "display_data"
    }
   ],
   "source": [
    "response_crosstab_scaled.T.plot(kind=\"bar\", stacked=True)\n",
    "plt.title('Proportion who commented again,\\n depending on whether or not they \\nreceived a response to their first comment')"
   ]
  },
  {
   "cell_type": "code",
   "execution_count": 43,
   "metadata": {
    "collapsed": false
   },
   "outputs": [
    {
     "data": {
      "text/plain": [
       "<matplotlib.axes._subplots.AxesSubplot at 0x10d09c1d0>"
      ]
     },
     "execution_count": 43,
     "metadata": {},
     "output_type": "execute_result"
    },
    {
     "data": {
      "image/png": "[encoded data removed]",
      "text/plain": [
       "<matplotlib.figure.Figure at 0x10d087510>"
      ]
     },
     "metadata": {},
     "output_type": "display_data"
    }
   ],
   "source": [
    "first_post.word_count.hist()"
   ]
  },
  {
   "cell_type": "code",
   "execution_count": 44,
   "metadata": {
    "collapsed": false
   },
   "outputs": [],
   "source": [
    "word_count_discrete = pd.cut(first_post.word_count, [0,50,100,150,200,800])"
   ]
  },
  {
   "cell_type": "code",
   "execution_count": 45,
   "metadata": {
    "collapsed": false
   },
   "outputs": [
    {
     "data": {
      "text/html": [
       "<div>\n",
       "<table border=\"1\" class=\"dataframe\">\n",
       "  <thead>\n",
       "    <tr style=\"text-align: right;\">\n",
       "      <th>word_count</th>\n",
       "      <th>(0, 50]</th>\n",
       "      <th>(50, 100]</th>\n",
       "      <th>(100, 150]</th>\n",
       "      <th>(150, 200]</th>\n",
       "      <th>(200, 800]</th>\n",
       "    </tr>\n",
       "    <tr>\n",
       "      <th>multi_post</th>\n",
       "      <th></th>\n",
       "      <th></th>\n",
       "      <th></th>\n",
       "      <th></th>\n",
       "      <th></th>\n",
       "    </tr>\n",
       "  </thead>\n",
       "  <tbody>\n",
       "    <tr>\n",
       "      <th>False</th>\n",
       "      <td>233</td>\n",
       "      <td>29</td>\n",
       "      <td>12</td>\n",
       "      <td>4</td>\n",
       "      <td>6</td>\n",
       "    </tr>\n",
       "    <tr>\n",
       "      <th>True</th>\n",
       "      <td>367</td>\n",
       "      <td>68</td>\n",
       "      <td>31</td>\n",
       "      <td>7</td>\n",
       "      <td>11</td>\n",
       "    </tr>\n",
       "  </tbody>\n",
       "</table>\n",
       "</div>"
      ],
      "text/plain": [
       "word_count  (0, 50]  (50, 100]  (100, 150]  (150, 200]  (200, 800]\n",
       "multi_post                                                        \n",
       "False           233         29          12           4           6\n",
       "True            367         68          31           7          11"
      ]
     },
     "execution_count": 45,
     "metadata": {},
     "output_type": "execute_result"
    }
   ],
   "source": [
    "word_count_crosstab = pd.crosstab(multi_post, word_count_discrete)\n",
    "word_count_crosstab"
   ]
  },
  {
   "cell_type": "code",
   "execution_count": 46,
   "metadata": {
    "collapsed": false
   },
   "outputs": [
    {
     "data": {
      "text/html": [
       "<div>\n",
       "<table border=\"1\" class=\"dataframe\">\n",
       "  <thead>\n",
       "    <tr style=\"text-align: right;\">\n",
       "      <th>word_count</th>\n",
       "      <th>(0, 50]</th>\n",
       "      <th>(50, 100]</th>\n",
       "      <th>(100, 150]</th>\n",
       "      <th>(150, 200]</th>\n",
       "      <th>(200, 800]</th>\n",
       "    </tr>\n",
       "    <tr>\n",
       "      <th>multi_post</th>\n",
       "      <th></th>\n",
       "      <th></th>\n",
       "      <th></th>\n",
       "      <th></th>\n",
       "      <th></th>\n",
       "    </tr>\n",
       "  </thead>\n",
       "  <tbody>\n",
       "    <tr>\n",
       "      <th>False</th>\n",
       "      <td>0.388333</td>\n",
       "      <td>0.298969</td>\n",
       "      <td>0.27907</td>\n",
       "      <td>0.363636</td>\n",
       "      <td>0.352941</td>\n",
       "    </tr>\n",
       "    <tr>\n",
       "      <th>True</th>\n",
       "      <td>0.611667</td>\n",
       "      <td>0.701031</td>\n",
       "      <td>0.72093</td>\n",
       "      <td>0.636364</td>\n",
       "      <td>0.647059</td>\n",
       "    </tr>\n",
       "  </tbody>\n",
       "</table>\n",
       "</div>"
      ],
      "text/plain": [
       "word_count   (0, 50]  (50, 100]  (100, 150]  (150, 200]  (200, 800]\n",
       "multi_post                                                         \n",
       "False       0.388333   0.298969     0.27907    0.363636    0.352941\n",
       "True        0.611667   0.701031     0.72093    0.636364    0.647059"
      ]
     },
     "execution_count": 46,
     "metadata": {},
     "output_type": "execute_result"
    }
   ],
   "source": [
    "word_count_crosstab_scaled = word_count_crosstab / word_count_crosstab.sum(axis=0)\n",
    "word_count_crosstab_scaled"
   ]
  },
  {
   "cell_type": "code",
   "execution_count": 47,
   "metadata": {
    "collapsed": false
   },
   "outputs": [
    {
     "data": {
      "text/plain": [
       "<matplotlib.axes._subplots.AxesSubplot at 0x10d167f90>"
      ]
     },
     "execution_count": 47,
     "metadata": {},
     "output_type": "execute_result"
    },
    {
     "data": {
      "image/png": "[encoded data removed]",
      "text/plain": [
       "<matplotlib.figure.Figure at 0x10d003d90>"
      ]
     },
     "metadata": {},
     "output_type": "display_data"
    }
   ],
   "source": [
    "word_count_crosstab_scaled.T.plot(kind=\"bar\", stacked=True)"
   ]
  },
  {
   "cell_type": "markdown",
   "metadata": {},
   "source": [
    "More responses to mid-length comments -- consider feature for mid-length comments"
   ]
  },
  {
   "cell_type": "code",
   "execution_count": 48,
   "metadata": {
    "collapsed": false
   },
   "outputs": [
    {
     "data": {
      "text/plain": [
       "<matplotlib.axes._subplots.AxesSubplot at 0x10d1877d0>"
      ]
     },
     "execution_count": 48,
     "metadata": {},
     "output_type": "execute_result"
    },
    {
     "data": {
      "image/png": "[encoded data removed]",
      "text/plain": [
       "<matplotlib.figure.Figure at 0x10d53b790>"
      ]
     },
     "metadata": {},
     "output_type": "display_data"
    }
   ],
   "source": [
    "first_post.ups.hist()"
   ]
  },
  {
   "cell_type": "code",
   "execution_count": 49,
   "metadata": {
    "collapsed": true
   },
   "outputs": [],
   "source": [
    "ups_discrete = pd.cut(first_post.ups, [-100,-0.5,0.5,10,100,1000])"
   ]
  },
  {
   "cell_type": "code",
   "execution_count": 50,
   "metadata": {
    "collapsed": false
   },
   "outputs": [
    {
     "data": {
      "text/html": [
       "<div>\n",
       "<table border=\"1\" class=\"dataframe\">\n",
       "  <thead>\n",
       "    <tr style=\"text-align: right;\">\n",
       "      <th>ups</th>\n",
       "      <th>(-100, -0.5]</th>\n",
       "      <th>(-0.5, 0.5]</th>\n",
       "      <th>(0.5, 10]</th>\n",
       "      <th>(10, 100]</th>\n",
       "      <th>(100, 1000]</th>\n",
       "    </tr>\n",
       "    <tr>\n",
       "      <th>multi_post</th>\n",
       "      <th></th>\n",
       "      <th></th>\n",
       "      <th></th>\n",
       "      <th></th>\n",
       "      <th></th>\n",
       "    </tr>\n",
       "  </thead>\n",
       "  <tbody>\n",
       "    <tr>\n",
       "      <th>False</th>\n",
       "      <td>28</td>\n",
       "      <td>24</td>\n",
       "      <td>215</td>\n",
       "      <td>15</td>\n",
       "      <td>2</td>\n",
       "    </tr>\n",
       "    <tr>\n",
       "      <th>True</th>\n",
       "      <td>44</td>\n",
       "      <td>38</td>\n",
       "      <td>350</td>\n",
       "      <td>45</td>\n",
       "      <td>7</td>\n",
       "    </tr>\n",
       "  </tbody>\n",
       "</table>\n",
       "</div>"
      ],
      "text/plain": [
       "ups         (-100, -0.5]  (-0.5, 0.5]  (0.5, 10]  (10, 100]  (100, 1000]\n",
       "multi_post                                                              \n",
       "False                 28           24        215         15            2\n",
       "True                  44           38        350         45            7"
      ]
     },
     "execution_count": 50,
     "metadata": {},
     "output_type": "execute_result"
    }
   ],
   "source": [
    "ups_crosstab = pd.crosstab(multi_post, ups_discrete)\n",
    "ups_crosstab"
   ]
  },
  {
   "cell_type": "code",
   "execution_count": 51,
   "metadata": {
    "collapsed": false
   },
   "outputs": [
    {
     "data": {
      "text/plain": [
       "<matplotlib.axes._subplots.AxesSubplot at 0x10d2fa090>"
      ]
     },
     "execution_count": 51,
     "metadata": {},
     "output_type": "execute_result"
    },
    {
     "data": {
      "image/png": "[encoded data removed]",
      "text/plain": [
       "<matplotlib.figure.Figure at 0x10d574a50>"
      ]
     },
     "metadata": {},
     "output_type": "display_data"
    }
   ],
   "source": [
    "ups_crosstab_scaled = ups_crosstab / ups_crosstab.sum(axis=0)\n",
    "ups_crosstab_scaled.T.plot(kind=\"bar\", stacked=True)"
   ]
  },
  {
   "cell_type": "markdown",
   "metadata": {},
   "source": [
    "Highly upvoted first_post more likely to repost"
   ]
  },
  {
   "cell_type": "markdown",
   "metadata": {},
   "source": [
    "Are ups and has_responses collinear?"
   ]
  },
  {
   "cell_type": "code",
   "execution_count": 52,
   "metadata": {
    "collapsed": false
   },
   "outputs": [
    {
     "data": {
      "text/html": [
       "<div>\n",
       "<table border=\"1\" class=\"dataframe\">\n",
       "  <thead>\n",
       "    <tr style=\"text-align: right;\">\n",
       "      <th>ups</th>\n",
       "      <th>(-100, -0.5]</th>\n",
       "      <th>(-0.5, 0.5]</th>\n",
       "      <th>(0.5, 10]</th>\n",
       "      <th>(10, 100]</th>\n",
       "      <th>(100, 1000]</th>\n",
       "    </tr>\n",
       "    <tr>\n",
       "      <th>has_responses</th>\n",
       "      <th></th>\n",
       "      <th></th>\n",
       "      <th></th>\n",
       "      <th></th>\n",
       "      <th></th>\n",
       "    </tr>\n",
       "  </thead>\n",
       "  <tbody>\n",
       "    <tr>\n",
       "      <th>0</th>\n",
       "      <td>35</td>\n",
       "      <td>44</td>\n",
       "      <td>369</td>\n",
       "      <td>11</td>\n",
       "      <td>0</td>\n",
       "    </tr>\n",
       "    <tr>\n",
       "      <th>1</th>\n",
       "      <td>37</td>\n",
       "      <td>18</td>\n",
       "      <td>196</td>\n",
       "      <td>49</td>\n",
       "      <td>9</td>\n",
       "    </tr>\n",
       "  </tbody>\n",
       "</table>\n",
       "</div>"
      ],
      "text/plain": [
       "ups            (-100, -0.5]  (-0.5, 0.5]  (0.5, 10]  (10, 100]  (100, 1000]\n",
       "has_responses                                                              \n",
       "0                        35           44        369         11            0\n",
       "1                        37           18        196         49            9"
      ]
     },
     "execution_count": 52,
     "metadata": {},
     "output_type": "execute_result"
    }
   ],
   "source": [
    "ups_vs_has_responses = pd.crosstab(ups_discrete, first_post.has_responses)\n",
    "ups_vs_has_responses.T"
   ]
  },
  {
   "cell_type": "code",
   "execution_count": 53,
   "metadata": {
    "collapsed": false
   },
   "outputs": [
    {
     "data": {
      "text/html": [
       "<div>\n",
       "<table border=\"1\" class=\"dataframe\">\n",
       "  <thead>\n",
       "    <tr style=\"text-align: right;\">\n",
       "      <th>ups</th>\n",
       "      <th>(-100, -0.5]</th>\n",
       "      <th>(-0.5, 0.5]</th>\n",
       "      <th>(0.5, 10]</th>\n",
       "      <th>(10, 100]</th>\n",
       "      <th>(100, 1000]</th>\n",
       "    </tr>\n",
       "    <tr>\n",
       "      <th>has_responses</th>\n",
       "      <th></th>\n",
       "      <th></th>\n",
       "      <th></th>\n",
       "      <th></th>\n",
       "      <th></th>\n",
       "    </tr>\n",
       "  </thead>\n",
       "  <tbody>\n",
       "    <tr>\n",
       "      <th>0</th>\n",
       "      <td>0.486111</td>\n",
       "      <td>0.709677</td>\n",
       "      <td>0.653097</td>\n",
       "      <td>0.183333</td>\n",
       "      <td>0</td>\n",
       "    </tr>\n",
       "    <tr>\n",
       "      <th>1</th>\n",
       "      <td>0.513889</td>\n",
       "      <td>0.290323</td>\n",
       "      <td>0.346903</td>\n",
       "      <td>0.816667</td>\n",
       "      <td>1</td>\n",
       "    </tr>\n",
       "  </tbody>\n",
       "</table>\n",
       "</div>"
      ],
      "text/plain": [
       "ups            (-100, -0.5]  (-0.5, 0.5]  (0.5, 10]  (10, 100]  (100, 1000]\n",
       "has_responses                                                              \n",
       "0                  0.486111     0.709677   0.653097   0.183333            0\n",
       "1                  0.513889     0.290323   0.346903   0.816667            1"
      ]
     },
     "execution_count": 53,
     "metadata": {},
     "output_type": "execute_result"
    }
   ],
   "source": [
    "ups_vs_has_responses_scaled = ups_vs_has_responses.T / ups_vs_has_responses.sum(axis=1)\n",
    "ups_vs_has_responses_scaled"
   ]
  },
  {
   "cell_type": "code",
   "execution_count": 54,
   "metadata": {
    "collapsed": false
   },
   "outputs": [
    {
     "data": {
      "text/plain": [
       "<matplotlib.axes._subplots.AxesSubplot at 0x10d6c0890>"
      ]
     },
     "execution_count": 54,
     "metadata": {},
     "output_type": "execute_result"
    },
    {
     "data": {
      "image/png": "[encoded data removed]",
      "text/plain": [
       "<matplotlib.figure.Figure at 0x10d1676d0>"
      ]
     },
     "metadata": {},
     "output_type": "display_data"
    }
   ],
   "source": [
    "ups_vs_has_responses_scaled.T.plot(kind=\"bar\", stacked=True)"
   ]
  },
  {
   "cell_type": "code",
   "execution_count": 55,
   "metadata": {
    "collapsed": false
   },
   "outputs": [
    {
     "data": {
      "text/plain": [
       "<matplotlib.axes._subplots.AxesSubplot at 0x10d88b250>"
      ]
     },
     "execution_count": 55,
     "metadata": {},
     "output_type": "execute_result"
    },
    {
     "data": {
      "image/png": "[encoded data removed]",
      "text/plain": [
       "<matplotlib.figure.Figure at 0x10d6d40d0>"
      ]
     },
     "metadata": {},
     "output_type": "display_data"
    }
   ],
   "source": [
    "first_post.apply(np.log).plot('ups','responses_total', kind=\"scatter\")"
   ]
  },
  {
   "cell_type": "markdown",
   "metadata": {},
   "source": [
    "More upvotes is correlated with having responses"
   ]
  },
  {
   "cell_type": "code",
   "execution_count": null,
   "metadata": {
    "collapsed": true
   },
   "outputs": [],
   "source": []
  }
 ],
 "metadata": {
  "kernelspec": {
   "display_name": "Python 2",
   "language": "python",
   "name": "python2"
  },
  "language_info": {
   "codemirror_mode": {
    "name": "ipython",
    "version": 2
   },
   "file_extension": ".py",
   "mimetype": "text/x-python",
   "name": "python",
   "nbconvert_exporter": "python",
   "pygments_lexer": "ipython2",
   "version": "2.7.10"
  }
 },
 "nbformat": 4,
 "nbformat_minor": 0
}
