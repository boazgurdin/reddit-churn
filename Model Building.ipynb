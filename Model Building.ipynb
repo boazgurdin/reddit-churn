{
 "cells": [
  {
   "cell_type": "code",
   "execution_count": 86,
   "metadata": {
    "collapsed": true
   },
   "outputs": [],
   "source": [
    "import pandas as pd\n",
    "import numpy as np\n",
    "import statsmodels.api as sm\n",
    "from sklearn.externals import joblib\n",
    "import matplotlib.pyplot as plt\n",
    "%matplotlib inline"
   ]
  },
  {
   "cell_type": "code",
   "execution_count": 87,
   "metadata": {
    "collapsed": true
   },
   "outputs": [],
   "source": [
    "#from PostStemmer import PostStemmer\n",
    "#from sklearn.naive_bayes import MultinomialNB\n",
    "#from sklearn.feature_extraction.text import CountVectorizer, TfidfVectorizer\n",
    "#from sklearn.pipeline import Pipeline\n",
    "#from sklearn.base import TransformerMixin\n",
    "#from sklearn.feature_selection import chi2, SelectKBest\n",
    "from sklearn.linear_model import LogisticRegression\n",
    "from sklearn.dummy import DummyClassifier\n",
    "from sklearn.cross_validation import train_test_split, KFold\n",
    "from sklearn.metrics import accuracy_score, precision_score, recall_score"
   ]
  },
  {
   "cell_type": "code",
   "execution_count": 88,
   "metadata": {
    "collapsed": true
   },
   "outputs": [],
   "source": [
    "# Turn JSON lines into JSON array\n",
    "def json_line_to_array(filename):\n",
    "    with open(filename) as f:\n",
    "        lines = f.readlines()\n",
    "        lines = map(lambda line: line.rstrip(), lines) #remove \\n\n",
    "        json_str = '[' + ','.join(lines) + ']'\n",
    "        return json_str"
   ]
  },
  {
   "cell_type": "code",
   "execution_count": 89,
   "metadata": {
    "collapsed": true
   },
   "outputs": [],
   "source": [
    "# Read in downsampled balanced dataset\n",
    "# Download data files from S3 to your local machine\n",
    "# https://s3.amazonaws.com/boazreddit/data/balanced_multi.json\n",
    "# https://s3.amazonaws.com/boazreddit/data/balanced_single.json\n",
    "reddit_multi = pd.read_json(json_line_to_array('data/politicos/json/balanced_multi.json'))\n",
    "reddit_single = pd.read_json(json_line_to_array('data/politicos/json/balanced_single.json'))"
   ]
  },
  {
   "cell_type": "code",
   "execution_count": 90,
   "metadata": {
    "collapsed": true
   },
   "outputs": [],
   "source": [
    "# Read in political sentiment (see 'Sentiment - Political Party.ipynb')\n",
    "# Download data files from S3 to your local machine\n",
    "# https://s3.amazonaws.com/boazreddit/data/balanced_multi_pol.json\n",
    "# https://s3.amazonaws.com/boazreddit/data/balanced_single_pol.json\n",
    "# multi_pol = pd.read_csv('data/politicos/json/balanced_multi_pol.csv', header=None, names=['pol_party'])\n",
    "# reddit_multi['pol_party'] = multi_pol['pol_party']\n",
    "# single_pol = pd.read_csv('data/politicos/json/balanced_single_pol.csv', header=None, names=['pol_party'])\n",
    "# reddit_single['pol_party'] = single_pol['pol_party']"
   ]
  },
  {
   "cell_type": "code",
   "execution_count": 91,
   "metadata": {
    "collapsed": false
   },
   "outputs": [],
   "source": [
    "# Merge balanced dataset into a single dataframe\n",
    "first_post = pd.concat([reddit_multi, reddit_single], axis=0)\n",
    "del reddit_multi\n",
    "del reddit_single"
   ]
  },
  {
   "cell_type": "code",
   "execution_count": 92,
   "metadata": {
    "collapsed": false
   },
   "outputs": [],
   "source": [
    "# Author- not needed in analysis, keep for now as index\n",
    "first_post.set_index('author', inplace=True)\n",
    "#first_post.drop('author', axis=1, inplace=True)"
   ]
  },
  {
   "cell_type": "code",
   "execution_count": 93,
   "metadata": {
    "collapsed": false
   },
   "outputs": [],
   "source": [
    "# Label / outcome variable\n",
    "multi_post = first_post['total_posts']>1\n",
    "first_post.drop(['total_posts', 'post_ids', 'post_datetimes', 'last_post_datetime'], axis=1, inplace=True)\n",
    "multi_post.index.rename('multi_post', inplace=True)\n",
    "multi_post.name = 'multi_post'"
   ]
  },
  {
   "cell_type": "code",
   "execution_count": 94,
   "metadata": {
    "collapsed": false
   },
   "outputs": [],
   "source": [
    "# Datetimes\n",
    "pdt = pd.to_datetime(first_post['first_post_datetime'])\n",
    "first_post.drop('first_post_datetime', axis=1, inplace=True)\n",
    "\n",
    "# Date == days since Jan 1 2007\n",
    "delta = pdt - pd.Timestamp('01-01-2007')\n",
    "first_post['date'] = delta / np.timedelta64(1, 'D')\n",
    "\n",
    "# Days of week (baseline Monday)\n",
    "first_post['tues']    = pdt.apply(lambda ts: 1 if ts.dayofweek==1 else 0)\n",
    "first_post['wed']     = pdt.apply(lambda ts: 1 if ts.dayofweek==2 else 0)\n",
    "first_post['thurs']   = pdt.apply(lambda ts: 1 if ts.dayofweek==3 else 0)\n",
    "first_post['fri']     = pdt.apply(lambda ts: 1 if ts.dayofweek==4 else 0)\n",
    "first_post['sat']     = pdt.apply(lambda ts: 1 if ts.dayofweek==5 else 0)\n",
    "first_post['sun']     = pdt.apply(lambda ts: 1 if ts.dayofweek==6 else 0)\n",
    "#first_post['weekend'] = pdt.apply(lambda ts: 1 if ts.dayofweek==5 or ts.dayofweek==6 else 0)\n",
    "\n",
    "# Daily and yearly cycles\n",
    "first_post['time_of_day'] = pdt.apply(lambda ts: ts.minute + 60 * ts.hour)\n",
    "first_post['day_of_year'] = pdt.apply(lambda ts: ts.dayofyear)"
   ]
  },
  {
   "cell_type": "code",
   "execution_count": 95,
   "metadata": {
    "collapsed": true
   },
   "outputs": [],
   "source": [
    "# Ups/downs\n",
    "first_post.rename(columns={'first_post_ups':'ups',\n",
    "                           'first_post_downs':'downs'}, inplace=True)\n",
    "first_post['has_ups'] = first_post['ups'].apply(lambda ups: 1 if ups > 0 else 0)\n",
    "#first_post['neg_ups'] = first_post['ups'].apply(lambda ups: 1 if ups < 0 else 0)\n",
    "# bug: sample is missing downs"
   ]
  },
  {
   "cell_type": "code",
   "execution_count": 96,
   "metadata": {
    "collapsed": true
   },
   "outputs": [],
   "source": [
    "# Sentiment\n",
    "#sentiment_clf = joblib.load('twitter_sentiment/classifier.pkl')"
   ]
  },
  {
   "cell_type": "code",
   "execution_count": 97,
   "metadata": {
    "collapsed": false
   },
   "outputs": [],
   "source": [
    "# Response sentiment\n",
    "\n",
    "#response_sentiment = [] #proportion of responses that were positive\n",
    "#sentiments = []\n",
    "#pos_responses = []\n",
    "#neg_responses = []\n",
    "\n",
    "# for i,responses in enumerate(first_post['first_post_responses']):\n",
    "#     if isinstance(responses, float): #NaNs due to no responses\n",
    "#         #sentiments.append(None)\n",
    "#         #pos_responses.append(0)\n",
    "#         #neg_responses.append(0)\n",
    "#         response_sentiment.append(0)\n",
    "#     else: #utf8 encoding for classifier;\n",
    "#         responses_utf8 = [response.encode('utf8') for response in responses]\n",
    "#         responses_utf8_np = np.array(responses_utf8, ndmin=1)\n",
    "#         responses_utf8_np.reshape(responses_utf8_np.shape[0],1) #explicit 1-dimension for classifier\n",
    "#         responses_sentiments = sentiment_clf.predict(responses_utf8_np)\n",
    "#         #sentiments.append(responses_sentiments)\n",
    "#         #pos_responses.append(np.sum(responses_sentiments))\n",
    "#         #neg_responses.append(responses_sentiments.shape[0] - np.sum(responses_sentiments))\n",
    "#         response_sentiment.append( np.sum(responses_sentiments) / responses_sentiments.shape[0] )\n",
    "\n",
    "# first_post['responses_sentiment'] = response_sentiment\n",
    "#first_post['pos_responses'] = pos_responses\n",
    "#first_post['neg_responses'] = neg_responses"
   ]
  },
  {
   "cell_type": "code",
   "execution_count": 98,
   "metadata": {
    "collapsed": false
   },
   "outputs": [],
   "source": [
    "# Body sentiment\n",
    "# first_post_utf8 = first_post['first_post_body'].apply(lambda post: post.encode('utf8'))\n",
    "# first_post['sentiment'] = sentiment_clf.predict(first_post_utf8).astype(int)"
   ]
  },
  {
   "cell_type": "code",
   "execution_count": 99,
   "metadata": {
    "collapsed": false
   },
   "outputs": [],
   "source": [
    "# Responses\n",
    "first_post['responses_avg_word_ct'] = first_post['first_post_responses'].apply(lambda responses: 0 if isinstance(responses, float) else np.sum([len(response.split()) for response in responses]) * 1.0 / len(responses) )\n",
    "first_post['has_short_response'] = first_post['first_post_responses'].apply(lambda responses: 0 if isinstance(responses, float) else (1 if np.max([len(response.split()) for response in responses])<=20 else 0))\n",
    "first_post['has_long_response'] = first_post['first_post_responses'].apply(lambda responses: 0 if isinstance(responses, float) else (1 if np.max([len(response.split()) for response in responses])>20 else 0))\n",
    "first_post.rename(columns={'first_post_avg_response_ups':'responses_ups_avg',\n",
    "                           'first_post_avg_response_downs':'responses_downs_avg',\n",
    "                           'first_post_total_responses':'responses_total'}, inplace=True)\n",
    "first_post.drop(['first_post_responses','first_post_response_ups', 'first_post_response_downs'], axis=1, inplace=True) #not doing text analysis for now\n",
    "first_post.fillna(0, inplace=True) #response stats are NaN if no responses\n",
    "# responses_ups_avg is actually an interaction term multiplied by has_responses\n",
    "#first_post['has_responses'] = (first_post['responses_total']>0).astype(int)"
   ]
  },
  {
   "cell_type": "code",
   "execution_count": 100,
   "metadata": {
    "collapsed": false
   },
   "outputs": [],
   "source": [
    "# Body\n",
    "first_post['word_count'] = first_post['first_post_body'].apply(lambda post: len(post.split()))\n",
    "first_post['long_post'] = first_post['word_count'].apply(lambda wc: 1 if wc > 20 else 0)\n",
    "first_post.drop(['first_post_link_id', 'first_post_id', 'first_post_body'], axis=1, inplace=True)"
   ]
  },
  {
   "cell_type": "code",
   "execution_count": 101,
   "metadata": {
    "collapsed": false
   },
   "outputs": [],
   "source": [
    "# Parent type\n",
    "first_post['is_response'] = first_post['parent_type']=='t1'\n",
    "first_post['is_response'] = first_post['is_response'].astype(int)\n",
    "first_post.drop('parent_type', axis=1, inplace=True)"
   ]
  },
  {
   "cell_type": "code",
   "execution_count": 102,
   "metadata": {
    "collapsed": true
   },
   "outputs": [],
   "source": [
    "# Downs and Response downs - drop bc no data in this sample\n",
    "first_post.drop('responses_downs_avg', axis=1, inplace=True)\n",
    "first_post.drop('downs', axis=1, inplace=True)"
   ]
  },
  {
   "cell_type": "code",
   "execution_count": 103,
   "metadata": {
    "collapsed": false
   },
   "outputs": [],
   "source": [
    "# Political party\n",
    "# Removed bc doesn't have significant p-value, possibly due to poor accuracy in predicting political sentiment\n",
    "# base case 0 is Conservative\n",
    "# first_post['is_liberal'] = first_post['pol_party'].apply(lambda pol_party: 1 if pol_party=='Liberal' else 0)\n",
    "# first_post['is_libertarian'] = first_post['pol_party'].apply(lambda pol_party: 1 if pol_party=='Libertarian' else 0)\n",
    "# first_post['is_green'] = first_post['pol_party'].apply(lambda pol_party: 1 if pol_party=='Green' else 0)\n",
    "# first_post.drop('pol_party', axis=1, inplace=True)"
   ]
  },
  {
   "cell_type": "code",
   "execution_count": 104,
   "metadata": {
    "collapsed": false
   },
   "outputs": [],
   "source": [
    "# Const\n",
    "first_post = sm.add_constant(first_post)\n",
    "#first_post['const'] = pd.Series(np.ones(first_post.shape[0]))"
   ]
  },
  {
   "cell_type": "code",
   "execution_count": 105,
   "metadata": {
    "collapsed": false
   },
   "outputs": [
    {
     "data": {
      "text/html": [
       "<div>\n",
       "<table border=\"1\" class=\"dataframe\">\n",
       "  <thead>\n",
       "    <tr style=\"text-align: right;\">\n",
       "      <th></th>\n",
       "      <th>const</th>\n",
       "      <th>responses_ups_avg</th>\n",
       "      <th>responses_total</th>\n",
       "      <th>ups</th>\n",
       "      <th>date</th>\n",
       "      <th>tues</th>\n",
       "      <th>wed</th>\n",
       "      <th>thurs</th>\n",
       "      <th>fri</th>\n",
       "      <th>sat</th>\n",
       "      <th>sun</th>\n",
       "      <th>time_of_day</th>\n",
       "      <th>day_of_year</th>\n",
       "      <th>has_ups</th>\n",
       "      <th>responses_avg_word_ct</th>\n",
       "      <th>has_short_response</th>\n",
       "      <th>has_long_response</th>\n",
       "      <th>word_count</th>\n",
       "      <th>long_post</th>\n",
       "      <th>is_response</th>\n",
       "    </tr>\n",
       "    <tr>\n",
       "      <th>multi_post</th>\n",
       "      <th></th>\n",
       "      <th></th>\n",
       "      <th></th>\n",
       "      <th></th>\n",
       "      <th></th>\n",
       "      <th></th>\n",
       "      <th></th>\n",
       "      <th></th>\n",
       "      <th></th>\n",
       "      <th></th>\n",
       "      <th></th>\n",
       "      <th></th>\n",
       "      <th></th>\n",
       "      <th></th>\n",
       "      <th></th>\n",
       "      <th></th>\n",
       "      <th></th>\n",
       "      <th></th>\n",
       "      <th></th>\n",
       "      <th></th>\n",
       "    </tr>\n",
       "  </thead>\n",
       "  <tbody>\n",
       "    <tr>\n",
       "      <th>EveryonesScreaming</th>\n",
       "      <td>1</td>\n",
       "      <td>-1.0000</td>\n",
       "      <td>1.0000</td>\n",
       "      <td>1</td>\n",
       "      <td>3,051.5495</td>\n",
       "      <td>0</td>\n",
       "      <td>0</td>\n",
       "      <td>0</td>\n",
       "      <td>0</td>\n",
       "      <td>0</td>\n",
       "      <td>1</td>\n",
       "      <td>791</td>\n",
       "      <td>130</td>\n",
       "      <td>1</td>\n",
       "      <td>58.0000</td>\n",
       "      <td>0</td>\n",
       "      <td>1</td>\n",
       "      <td>256</td>\n",
       "      <td>1</td>\n",
       "      <td>1</td>\n",
       "    </tr>\n",
       "    <tr>\n",
       "      <th>timandrewsrg</th>\n",
       "      <td>1</td>\n",
       "      <td>0.0000</td>\n",
       "      <td>0.0000</td>\n",
       "      <td>1</td>\n",
       "      <td>1,324.7015</td>\n",
       "      <td>1</td>\n",
       "      <td>0</td>\n",
       "      <td>0</td>\n",
       "      <td>0</td>\n",
       "      <td>0</td>\n",
       "      <td>0</td>\n",
       "      <td>1010</td>\n",
       "      <td>229</td>\n",
       "      <td>1</td>\n",
       "      <td>0.0000</td>\n",
       "      <td>0</td>\n",
       "      <td>0</td>\n",
       "      <td>22</td>\n",
       "      <td>1</td>\n",
       "      <td>0</td>\n",
       "    </tr>\n",
       "    <tr>\n",
       "      <th>karimowns</th>\n",
       "      <td>1</td>\n",
       "      <td>0.0000</td>\n",
       "      <td>0.0000</td>\n",
       "      <td>1</td>\n",
       "      <td>3,043.8272</td>\n",
       "      <td>0</td>\n",
       "      <td>0</td>\n",
       "      <td>0</td>\n",
       "      <td>0</td>\n",
       "      <td>1</td>\n",
       "      <td>0</td>\n",
       "      <td>1191</td>\n",
       "      <td>122</td>\n",
       "      <td>1</td>\n",
       "      <td>0.0000</td>\n",
       "      <td>0</td>\n",
       "      <td>0</td>\n",
       "      <td>22</td>\n",
       "      <td>1</td>\n",
       "      <td>0</td>\n",
       "    </tr>\n",
       "    <tr>\n",
       "      <th>thatdevldog891</th>\n",
       "      <td>1</td>\n",
       "      <td>0.0000</td>\n",
       "      <td>0.0000</td>\n",
       "      <td>-2</td>\n",
       "      <td>1,421.7341</td>\n",
       "      <td>0</td>\n",
       "      <td>0</td>\n",
       "      <td>0</td>\n",
       "      <td>0</td>\n",
       "      <td>0</td>\n",
       "      <td>0</td>\n",
       "      <td>1057</td>\n",
       "      <td>326</td>\n",
       "      <td>0</td>\n",
       "      <td>0.0000</td>\n",
       "      <td>0</td>\n",
       "      <td>0</td>\n",
       "      <td>7</td>\n",
       "      <td>0</td>\n",
       "      <td>0</td>\n",
       "    </tr>\n",
       "    <tr>\n",
       "      <th>benjy257</th>\n",
       "      <td>1</td>\n",
       "      <td>0.2500</td>\n",
       "      <td>4.0000</td>\n",
       "      <td>17</td>\n",
       "      <td>1,126.1042</td>\n",
       "      <td>0</td>\n",
       "      <td>0</td>\n",
       "      <td>0</td>\n",
       "      <td>0</td>\n",
       "      <td>0</td>\n",
       "      <td>1</td>\n",
       "      <td>150</td>\n",
       "      <td>31</td>\n",
       "      <td>1</td>\n",
       "      <td>4.0000</td>\n",
       "      <td>1</td>\n",
       "      <td>0</td>\n",
       "      <td>19</td>\n",
       "      <td>0</td>\n",
       "      <td>1</td>\n",
       "    </tr>\n",
       "  </tbody>\n",
       "</table>\n",
       "</div>"
      ],
      "text/plain": [
       "                    const  responses_ups_avg  responses_total  ups       date  \\\n",
       "multi_post                                                                      \n",
       "EveryonesScreaming      1            -1.0000           1.0000    1 3,051.5495   \n",
       "timandrewsrg            1             0.0000           0.0000    1 1,324.7015   \n",
       "karimowns               1             0.0000           0.0000    1 3,043.8272   \n",
       "thatdevldog891          1             0.0000           0.0000   -2 1,421.7341   \n",
       "benjy257                1             0.2500           4.0000   17 1,126.1042   \n",
       "\n",
       "                    tues  wed  thurs  fri  sat  sun  time_of_day  day_of_year  \\\n",
       "multi_post                                                                      \n",
       "EveryonesScreaming     0    0      0    0    0    1          791          130   \n",
       "timandrewsrg           1    0      0    0    0    0         1010          229   \n",
       "karimowns              0    0      0    0    1    0         1191          122   \n",
       "thatdevldog891         0    0      0    0    0    0         1057          326   \n",
       "benjy257               0    0      0    0    0    1          150           31   \n",
       "\n",
       "                    has_ups  responses_avg_word_ct  has_short_response  \\\n",
       "multi_post                                                               \n",
       "EveryonesScreaming        1                58.0000                   0   \n",
       "timandrewsrg              1                 0.0000                   0   \n",
       "karimowns                 1                 0.0000                   0   \n",
       "thatdevldog891            0                 0.0000                   0   \n",
       "benjy257                  1                 4.0000                   1   \n",
       "\n",
       "                    has_long_response  word_count  long_post  is_response  \n",
       "multi_post                                                                 \n",
       "EveryonesScreaming                  1         256          1            1  \n",
       "timandrewsrg                        0          22          1            0  \n",
       "karimowns                           0          22          1            0  \n",
       "thatdevldog891                      0           7          0            0  \n",
       "benjy257                            0          19          0            1  "
      ]
     },
     "execution_count": 105,
     "metadata": {},
     "output_type": "execute_result"
    }
   ],
   "source": [
    "first_post.head()"
   ]
  },
  {
   "cell_type": "code",
   "execution_count": 106,
   "metadata": {
    "collapsed": false
   },
   "outputs": [
    {
     "name": "stdout",
     "output_type": "stream",
     "text": [
      "accuracy [ 0.63295704  0.62616126  0.63992003]\n",
      "precision [ 0.63669176  0.63829787  0.63580782]\n",
      "recall [ 0.9564604   0.93010132  0.92715147]\n"
     ]
    }
   ],
   "source": [
    "from sklearn.ensemble import RandomForestClassifier\n",
    "from sklearn.cross_validation import cross_val_score\n",
    "\n",
    "rfc = RandomForestClassifier(n_estimators=10, max_features=3, max_depth=5)\n",
    "\n",
    "print 'accuracy', cross_val_score(rfc, first_post, multi_post, scoring='accuracy')\n",
    "print 'precision', cross_val_score(rfc, first_post, multi_post, scoring='precision')\n",
    "print 'recall', cross_val_score(rfc, first_post, multi_post, scoring='recall')"
   ]
  },
  {
   "cell_type": "code",
   "execution_count": 107,
   "metadata": {
    "collapsed": false
   },
   "outputs": [
    {
     "data": {
      "text/plain": [
       "[('date', 0.3998330364048),\n",
       " ('responses_avg_word_ct', 0.17622175487595601),\n",
       " ('responses_ups_avg', 0.13581892123860467),\n",
       " ('word_count', 0.054359464837544627),\n",
       " ('has_long_response', 0.052226915005203919),\n",
       " ('responses_total', 0.046029512521690505),\n",
       " ('long_post', 0.043341472840644248),\n",
       " ('ups', 0.032798022531402335),\n",
       " ('is_response', 0.031281078282093699),\n",
       " ('day_of_year', 0.0077903220524825042),\n",
       " ('has_short_response', 0.007646488668645657),\n",
       " ('time_of_day', 0.0075297296995066225),\n",
       " ('has_ups', 0.0017331241378215323),\n",
       " ('sat', 0.0007783331274437902),\n",
       " ('tues', 0.00073975206441365246),\n",
       " ('thurs', 0.00066646513559538386),\n",
       " ('wed', 0.00044847730670405432),\n",
       " ('fri', 0.00041919100044533389),\n",
       " ('sun', 0.00033793826900145585),\n",
       " ('const', 0.0)]"
      ]
     },
     "execution_count": 107,
     "metadata": {},
     "output_type": "execute_result"
    }
   ],
   "source": [
    "rfc.fit(first_post, multi_post)\n",
    "feat_impt = zip(first_post.columns, rfc.feature_importances_)\n",
    "sorted(feat_impt, key=lambda (colname, score): score, reverse=True)"
   ]
  },
  {
   "cell_type": "code",
   "execution_count": 108,
   "metadata": {
    "collapsed": false
   },
   "outputs": [
    {
     "name": "stdout",
     "output_type": "stream",
     "text": [
      "Optimization terminated successfully.\n",
      "         Current function value: 0.637884\n",
      "         Iterations 5\n"
     ]
    },
    {
     "data": {
      "text/html": [
       "<table class=\"simpletable\">\n",
       "<caption>Logit Regression Results</caption>\n",
       "<tr>\n",
       "  <th>Dep. Variable:</th>    <td>multi_post</td>    <th>  No. Observations:  </th>  <td> 76534</td> \n",
       "</tr>\n",
       "<tr>\n",
       "  <th>Model:</th>               <td>Logit</td>      <th>  Df Residuals:      </th>  <td> 76514</td> \n",
       "</tr>\n",
       "<tr>\n",
       "  <th>Method:</th>               <td>MLE</td>       <th>  Df Model:          </th>  <td>    19</td> \n",
       "</tr>\n",
       "<tr>\n",
       "  <th>Date:</th>          <td>Tue, 01 Sep 2015</td> <th>  Pseudo R-squ.:     </th>  <td>0.04534</td>\n",
       "</tr>\n",
       "<tr>\n",
       "  <th>Time:</th>              <td>12:35:52</td>     <th>  Log-Likelihood:    </th> <td> -48820.</td>\n",
       "</tr>\n",
       "<tr>\n",
       "  <th>converged:</th>           <td>True</td>       <th>  LL-Null:           </th> <td> -51138.</td>\n",
       "</tr>\n",
       "<tr>\n",
       "  <th> </th>                      <td> </td>        <th>  LLR p-value:       </th>  <td> 0.000</td> \n",
       "</tr>\n",
       "</table>\n",
       "<table class=\"simpletable\">\n",
       "<tr>\n",
       "            <td></td>               <th>coef</th>     <th>std err</th>      <th>z</th>      <th>P>|z|</th> <th>[95.0% Conf. Int.]</th> \n",
       "</tr>\n",
       "<tr>\n",
       "  <th>const</th>                 <td>    1.2897</td> <td>    0.044</td> <td>   29.520</td> <td> 0.000</td> <td>    1.204     1.375</td>\n",
       "</tr>\n",
       "<tr>\n",
       "  <th>responses_ups_avg</th>     <td>   -0.0026</td> <td>    0.002</td> <td>   -1.334</td> <td> 0.182</td> <td>   -0.006     0.001</td>\n",
       "</tr>\n",
       "<tr>\n",
       "  <th>responses_total</th>       <td>   -0.0008</td> <td>    0.002</td> <td>   -0.464</td> <td> 0.643</td> <td>   -0.004     0.003</td>\n",
       "</tr>\n",
       "<tr>\n",
       "  <th>ups</th>                   <td>    0.0003</td> <td>    0.000</td> <td>    1.138</td> <td> 0.255</td> <td>   -0.000     0.001</td>\n",
       "</tr>\n",
       "<tr>\n",
       "  <th>date</th>                  <td>   -0.0007</td> <td> 1.41e-05</td> <td>  -46.525</td> <td> 0.000</td> <td>   -0.001    -0.001</td>\n",
       "</tr>\n",
       "<tr>\n",
       "  <th>tues</th>                  <td>   -0.0207</td> <td>    0.029</td> <td>   -0.723</td> <td> 0.470</td> <td>   -0.077     0.035</td>\n",
       "</tr>\n",
       "<tr>\n",
       "  <th>wed</th>                   <td>   -0.0185</td> <td>    0.028</td> <td>   -0.651</td> <td> 0.515</td> <td>   -0.074     0.037</td>\n",
       "</tr>\n",
       "<tr>\n",
       "  <th>thurs</th>                 <td>   -0.0536</td> <td>    0.028</td> <td>   -1.887</td> <td> 0.059</td> <td>   -0.109     0.002</td>\n",
       "</tr>\n",
       "<tr>\n",
       "  <th>fri</th>                   <td>   -0.0279</td> <td>    0.029</td> <td>   -0.975</td> <td> 0.330</td> <td>   -0.084     0.028</td>\n",
       "</tr>\n",
       "<tr>\n",
       "  <th>sat</th>                   <td>   -0.0286</td> <td>    0.030</td> <td>   -0.937</td> <td> 0.349</td> <td>   -0.088     0.031</td>\n",
       "</tr>\n",
       "<tr>\n",
       "  <th>sun</th>                   <td>   -0.0211</td> <td>    0.030</td> <td>   -0.693</td> <td> 0.488</td> <td>   -0.081     0.039</td>\n",
       "</tr>\n",
       "<tr>\n",
       "  <th>time_of_day</th>           <td> 5.832e-05</td> <td> 1.73e-05</td> <td>    3.365</td> <td> 0.001</td> <td> 2.44e-05  9.23e-05</td>\n",
       "</tr>\n",
       "<tr>\n",
       "  <th>day_of_year</th>           <td>    0.0001</td> <td> 7.17e-05</td> <td>    1.939</td> <td> 0.053</td> <td>-1.51e-06     0.000</td>\n",
       "</tr>\n",
       "<tr>\n",
       "  <th>has_ups</th>               <td>   -0.0736</td> <td>    0.020</td> <td>   -3.621</td> <td> 0.000</td> <td>   -0.114    -0.034</td>\n",
       "</tr>\n",
       "<tr>\n",
       "  <th>responses_avg_word_ct</th> <td>    0.0012</td> <td>    0.000</td> <td>    3.523</td> <td> 0.000</td> <td>    0.001     0.002</td>\n",
       "</tr>\n",
       "<tr>\n",
       "  <th>has_short_response</th>    <td>    0.4105</td> <td>    0.023</td> <td>   18.183</td> <td> 0.000</td> <td>    0.366     0.455</td>\n",
       "</tr>\n",
       "<tr>\n",
       "  <th>has_long_response</th>     <td>    0.6368</td> <td>    0.029</td> <td>   21.885</td> <td> 0.000</td> <td>    0.580     0.694</td>\n",
       "</tr>\n",
       "<tr>\n",
       "  <th>word_count</th>            <td>    0.0002</td> <td>    0.000</td> <td>    1.187</td> <td> 0.235</td> <td>   -0.000     0.000</td>\n",
       "</tr>\n",
       "<tr>\n",
       "  <th>long_post</th>             <td>    0.2206</td> <td>    0.018</td> <td>   12.379</td> <td> 0.000</td> <td>    0.186     0.256</td>\n",
       "</tr>\n",
       "<tr>\n",
       "  <th>is_response</th>           <td>    0.2980</td> <td>    0.016</td> <td>   18.884</td> <td> 0.000</td> <td>    0.267     0.329</td>\n",
       "</tr>\n",
       "</table>"
      ],
      "text/plain": [
       "<class 'statsmodels.iolib.summary.Summary'>\n",
       "\"\"\"\n",
       "                           Logit Regression Results                           \n",
       "==============================================================================\n",
       "Dep. Variable:             multi_post   No. Observations:                76534\n",
       "Model:                          Logit   Df Residuals:                    76514\n",
       "Method:                           MLE   Df Model:                           19\n",
       "Date:                Tue, 01 Sep 2015   Pseudo R-squ.:                 0.04534\n",
       "Time:                        12:35:52   Log-Likelihood:                -48820.\n",
       "converged:                       True   LL-Null:                       -51138.\n",
       "                                        LLR p-value:                     0.000\n",
       "=========================================================================================\n",
       "                            coef    std err          z      P>|z|      [95.0% Conf. Int.]\n",
       "-----------------------------------------------------------------------------------------\n",
       "const                     1.2897      0.044     29.520      0.000         1.204     1.375\n",
       "responses_ups_avg        -0.0026      0.002     -1.334      0.182        -0.006     0.001\n",
       "responses_total          -0.0008      0.002     -0.464      0.643        -0.004     0.003\n",
       "ups                       0.0003      0.000      1.138      0.255        -0.000     0.001\n",
       "date                     -0.0007   1.41e-05    -46.525      0.000        -0.001    -0.001\n",
       "tues                     -0.0207      0.029     -0.723      0.470        -0.077     0.035\n",
       "wed                      -0.0185      0.028     -0.651      0.515        -0.074     0.037\n",
       "thurs                    -0.0536      0.028     -1.887      0.059        -0.109     0.002\n",
       "fri                      -0.0279      0.029     -0.975      0.330        -0.084     0.028\n",
       "sat                      -0.0286      0.030     -0.937      0.349        -0.088     0.031\n",
       "sun                      -0.0211      0.030     -0.693      0.488        -0.081     0.039\n",
       "time_of_day            5.832e-05   1.73e-05      3.365      0.001      2.44e-05  9.23e-05\n",
       "day_of_year               0.0001   7.17e-05      1.939      0.053     -1.51e-06     0.000\n",
       "has_ups                  -0.0736      0.020     -3.621      0.000        -0.114    -0.034\n",
       "responses_avg_word_ct     0.0012      0.000      3.523      0.000         0.001     0.002\n",
       "has_short_response        0.4105      0.023     18.183      0.000         0.366     0.455\n",
       "has_long_response         0.6368      0.029     21.885      0.000         0.580     0.694\n",
       "word_count                0.0002      0.000      1.187      0.235        -0.000     0.000\n",
       "long_post                 0.2206      0.018     12.379      0.000         0.186     0.256\n",
       "is_response               0.2980      0.016     18.884      0.000         0.267     0.329\n",
       "=========================================================================================\n",
       "\"\"\""
      ]
     },
     "execution_count": 108,
     "metadata": {},
     "output_type": "execute_result"
    }
   ],
   "source": [
    "logit = sm.Logit(multi_post, first_post)\n",
    "result = logit.fit()\n",
    "result.summary()"
   ]
  },
  {
   "cell_type": "code",
   "execution_count": 109,
   "metadata": {
    "collapsed": false
   },
   "outputs": [
    {
     "data": {
      "text/plain": [
       "const                   3.6317\n",
       "responses_ups_avg       0.9974\n",
       "responses_total         0.9992\n",
       "ups                     1.0003\n",
       "date                    0.9993\n",
       "tues                    0.9795\n",
       "wed                     0.9817\n",
       "thurs                   0.9478\n",
       "fri                     0.9725\n",
       "sat                     0.9718\n",
       "sun                     0.9791\n",
       "time_of_day             1.0001\n",
       "day_of_year             1.0001\n",
       "has_ups                 0.9290\n",
       "responses_avg_word_ct   1.0013\n",
       "has_short_response      1.5076\n",
       "has_long_response       1.8905\n",
       "word_count              1.0002\n",
       "long_post               1.2468\n",
       "is_response             1.3472\n",
       "dtype: float64"
      ]
     },
     "execution_count": 109,
     "metadata": {},
     "output_type": "execute_result"
    }
   ],
   "source": [
    "np.exp(result.params)"
   ]
  },
  {
   "cell_type": "code",
   "execution_count": 110,
   "metadata": {
    "collapsed": false
   },
   "outputs": [
    {
     "data": {
      "text/plain": [
       "97679.643959987399"
      ]
     },
     "execution_count": 110,
     "metadata": {},
     "output_type": "execute_result"
    }
   ],
   "source": [
    "result.aic"
   ]
  },
  {
   "cell_type": "code",
   "execution_count": 111,
   "metadata": {
    "collapsed": false
   },
   "outputs": [
    {
     "name": "stdout",
     "output_type": "stream",
     "text": [
      "Optimization terminated successfully.\n",
      "         Current function value: 0.638212\n",
      "         Iterations 5\n"
     ]
    },
    {
     "data": {
      "text/html": [
       "<table class=\"simpletable\">\n",
       "<caption>Logit Regression Results</caption>\n",
       "<tr>\n",
       "  <th>Dep. Variable:</th>    <td>multi_post</td>    <th>  No. Observations:  </th>  <td> 76534</td> \n",
       "</tr>\n",
       "<tr>\n",
       "  <th>Model:</th>               <td>Logit</td>      <th>  Df Residuals:      </th>  <td> 76528</td> \n",
       "</tr>\n",
       "<tr>\n",
       "  <th>Method:</th>               <td>MLE</td>       <th>  Df Model:          </th>  <td>     5</td> \n",
       "</tr>\n",
       "<tr>\n",
       "  <th>Date:</th>          <td>Tue, 01 Sep 2015</td> <th>  Pseudo R-squ.:     </th>  <td>0.04485</td>\n",
       "</tr>\n",
       "<tr>\n",
       "  <th>Time:</th>              <td>12:35:53</td>     <th>  Log-Likelihood:    </th> <td> -48845.</td>\n",
       "</tr>\n",
       "<tr>\n",
       "  <th>converged:</th>           <td>True</td>       <th>  LL-Null:           </th> <td> -51138.</td>\n",
       "</tr>\n",
       "<tr>\n",
       "  <th> </th>                      <td> </td>        <th>  LLR p-value:       </th>  <td> 0.000</td> \n",
       "</tr>\n",
       "</table>\n",
       "<table class=\"simpletable\">\n",
       "<tr>\n",
       "           <td></td>             <th>coef</th>     <th>std err</th>      <th>z</th>      <th>P>|z|</th> <th>[95.0% Conf. Int.]</th> \n",
       "</tr>\n",
       "<tr>\n",
       "  <th>const</th>              <td>    1.2742</td> <td>    0.030</td> <td>   43.165</td> <td> 0.000</td> <td>    1.216     1.332</td>\n",
       "</tr>\n",
       "<tr>\n",
       "  <th>date</th>               <td>   -0.0007</td> <td> 1.41e-05</td> <td>  -46.682</td> <td> 0.000</td> <td>   -0.001    -0.001</td>\n",
       "</tr>\n",
       "<tr>\n",
       "  <th>long_post</th>          <td>    0.2356</td> <td>    0.016</td> <td>   15.014</td> <td> 0.000</td> <td>    0.205     0.266</td>\n",
       "</tr>\n",
       "<tr>\n",
       "  <th>has_short_response</th> <td>    0.4183</td> <td>    0.022</td> <td>   19.297</td> <td> 0.000</td> <td>    0.376     0.461</td>\n",
       "</tr>\n",
       "<tr>\n",
       "  <th>has_long_response</th>  <td>    0.7057</td> <td>    0.021</td> <td>   33.755</td> <td> 0.000</td> <td>    0.665     0.747</td>\n",
       "</tr>\n",
       "<tr>\n",
       "  <th>is_response</th>        <td>    0.2950</td> <td>    0.016</td> <td>   18.801</td> <td> 0.000</td> <td>    0.264     0.326</td>\n",
       "</tr>\n",
       "</table>"
      ],
      "text/plain": [
       "<class 'statsmodels.iolib.summary.Summary'>\n",
       "\"\"\"\n",
       "                           Logit Regression Results                           \n",
       "==============================================================================\n",
       "Dep. Variable:             multi_post   No. Observations:                76534\n",
       "Model:                          Logit   Df Residuals:                    76528\n",
       "Method:                           MLE   Df Model:                            5\n",
       "Date:                Tue, 01 Sep 2015   Pseudo R-squ.:                 0.04485\n",
       "Time:                        12:35:53   Log-Likelihood:                -48845.\n",
       "converged:                       True   LL-Null:                       -51138.\n",
       "                                        LLR p-value:                     0.000\n",
       "======================================================================================\n",
       "                         coef    std err          z      P>|z|      [95.0% Conf. Int.]\n",
       "--------------------------------------------------------------------------------------\n",
       "const                  1.2742      0.030     43.165      0.000         1.216     1.332\n",
       "date                  -0.0007   1.41e-05    -46.682      0.000        -0.001    -0.001\n",
       "long_post              0.2356      0.016     15.014      0.000         0.205     0.266\n",
       "has_short_response     0.4183      0.022     19.297      0.000         0.376     0.461\n",
       "has_long_response      0.7057      0.021     33.755      0.000         0.665     0.747\n",
       "is_response            0.2950      0.016     18.801      0.000         0.264     0.326\n",
       "======================================================================================\n",
       "\"\"\""
      ]
     },
     "execution_count": 111,
     "metadata": {},
     "output_type": "execute_result"
    }
   ],
   "source": [
    "logit2 = sm.Logit(multi_post, first_post[[  'const',\n",
    "                                            'date',\n",
    "                                            'long_post',\n",
    "                                            #'has_ups', \n",
    "                                            'has_short_response', \n",
    "                                            'has_long_response',\n",
    "                                            'is_response'\n",
    "                                         ]])\n",
    "result2 = logit2.fit()\n",
    "result2.summary()"
   ]
  },
  {
   "cell_type": "code",
   "execution_count": 112,
   "metadata": {
    "collapsed": false
   },
   "outputs": [
    {
     "data": {
      "text/plain": [
       "97701.815541465839"
      ]
     },
     "execution_count": 112,
     "metadata": {},
     "output_type": "execute_result"
    }
   ],
   "source": [
    "result2.aic"
   ]
  },
  {
   "cell_type": "code",
   "execution_count": 113,
   "metadata": {
    "collapsed": false
   },
   "outputs": [],
   "source": [
    "# Convert word counts to 10-word counts \n",
    "result2_params = result2.params.copy()\n",
    "# result2_params['responses_avg_word_ct'] = result2_params['responses_avg_word_ct'] *10\n",
    "# result2_params['word_count'] = result2_params['word_count'] *10"
   ]
  },
  {
   "cell_type": "code",
   "execution_count": 114,
   "metadata": {
    "collapsed": false
   },
   "outputs": [
    {
     "data": {
      "text/html": [
       "<div>\n",
       "<table border=\"1\" class=\"dataframe\">\n",
       "  <thead>\n",
       "    <tr style=\"text-align: right;\">\n",
       "      <th></th>\n",
       "      <th>Odds Ratio</th>\n",
       "      <th>P-val</th>\n",
       "    </tr>\n",
       "  </thead>\n",
       "  <tbody>\n",
       "    <tr>\n",
       "      <th>const</th>\n",
       "      <td>3.5758</td>\n",
       "      <td>0.0000</td>\n",
       "    </tr>\n",
       "    <tr>\n",
       "      <th>has_long_response</th>\n",
       "      <td>2.0253</td>\n",
       "      <td>0.0000</td>\n",
       "    </tr>\n",
       "    <tr>\n",
       "      <th>has_short_response</th>\n",
       "      <td>1.5194</td>\n",
       "      <td>0.0000</td>\n",
       "    </tr>\n",
       "    <tr>\n",
       "      <th>is_response</th>\n",
       "      <td>1.3431</td>\n",
       "      <td>0.0000</td>\n",
       "    </tr>\n",
       "    <tr>\n",
       "      <th>long_post</th>\n",
       "      <td>1.2657</td>\n",
       "      <td>0.0000</td>\n",
       "    </tr>\n",
       "    <tr>\n",
       "      <th>date</th>\n",
       "      <td>0.9993</td>\n",
       "      <td>0.0000</td>\n",
       "    </tr>\n",
       "  </tbody>\n",
       "</table>\n",
       "</div>"
      ],
      "text/plain": [
       "                    Odds Ratio  P-val\n",
       "const                   3.5758 0.0000\n",
       "has_long_response       2.0253 0.0000\n",
       "has_short_response      1.5194 0.0000\n",
       "is_response             1.3431 0.0000\n",
       "long_post               1.2657 0.0000\n",
       "date                    0.9993 0.0000"
      ]
     },
     "execution_count": 114,
     "metadata": {},
     "output_type": "execute_result"
    }
   ],
   "source": [
    "odds_pvals = pd.concat([np.exp(result2_params), result2.pvalues], axis=1)\n",
    "odds_pvals.columns = ['Odds Ratio', 'P-val']\n",
    "odds_pvals.sort('Odds Ratio', ascending=False, inplace=True)\n",
    "pd.options.display.float_format = '{:,.4f}'.format\n",
    "odds_pvals\n",
    "# note these are odds ratios for 10-word counts"
   ]
  },
  {
   "cell_type": "code",
   "execution_count": 115,
   "metadata": {
    "collapsed": false
   },
   "outputs": [
    {
     "name": "stdout",
     "output_type": "stream",
     "text": [
      "1.75418609251\n"
     ]
    }
   ],
   "source": [
    "#print np.exp(result2.params['has_responses'])\n",
    "print np.exp( (result2.params['has_short_response'] + result2.params['has_long_response']) / 2.0 )"
   ]
  },
  {
   "cell_type": "code",
   "execution_count": 116,
   "metadata": {
    "collapsed": false
   },
   "outputs": [
    {
     "name": "stdout",
     "output_type": "stream",
     "text": [
      "Optimization terminated successfully.\n",
      "         Current function value: 0.638212\n",
      "         Iterations 5\n"
     ]
    },
    {
     "data": {
      "text/html": [
       "<div>\n",
       "<table border=\"1\" class=\"dataframe\">\n",
       "  <thead>\n",
       "    <tr style=\"text-align: right;\">\n",
       "      <th></th>\n",
       "      <th>Odds Ratio</th>\n",
       "      <th>P-val</th>\n",
       "    </tr>\n",
       "  </thead>\n",
       "  <tbody>\n",
       "    <tr>\n",
       "      <th>const</th>\n",
       "      <td>3.5758</td>\n",
       "      <td>0.0000</td>\n",
       "    </tr>\n",
       "    <tr>\n",
       "      <th>has_long_response</th>\n",
       "      <td>2.0253</td>\n",
       "      <td>0.0000</td>\n",
       "    </tr>\n",
       "    <tr>\n",
       "      <th>has_short_response</th>\n",
       "      <td>1.5194</td>\n",
       "      <td>0.0000</td>\n",
       "    </tr>\n",
       "    <tr>\n",
       "      <th>is_response</th>\n",
       "      <td>1.3431</td>\n",
       "      <td>0.0000</td>\n",
       "    </tr>\n",
       "    <tr>\n",
       "      <th>long_post</th>\n",
       "      <td>1.2657</td>\n",
       "      <td>0.0000</td>\n",
       "    </tr>\n",
       "    <tr>\n",
       "      <th>date</th>\n",
       "      <td>0.9993</td>\n",
       "      <td>0.0000</td>\n",
       "    </tr>\n",
       "  </tbody>\n",
       "</table>\n",
       "</div>"
      ],
      "text/plain": [
       "                    Odds Ratio  P-val\n",
       "const                   3.5758 0.0000\n",
       "has_long_response       2.0253 0.0000\n",
       "has_short_response      1.5194 0.0000\n",
       "is_response             1.3431 0.0000\n",
       "long_post               1.2657 0.0000\n",
       "date                    0.9993 0.0000"
      ]
     },
     "execution_count": 116,
     "metadata": {},
     "output_type": "execute_result"
    }
   ],
   "source": [
    "logit3 = sm.Logit(multi_post, first_post[[  'const',\n",
    "                                            'date',\n",
    "                                            'long_post',\n",
    "                                            #'has_ups', \n",
    "                                            'has_short_response', \n",
    "                                            'has_long_response',\n",
    "                                            'is_response' ]])\n",
    "result3 = logit3.fit()\n",
    "#result3.summary()\n",
    "\n",
    "odds_pvals = pd.concat([np.exp(result3.params), result3.pvalues], axis=1)\n",
    "odds_pvals.columns = ['Odds Ratio', 'P-val']\n",
    "odds_pvals.sort('Odds Ratio', ascending=False, inplace=True)\n",
    "pd.options.display.float_format = '{:,.4f}'.format\n",
    "odds_pvals"
   ]
  },
  {
   "cell_type": "code",
   "execution_count": 117,
   "metadata": {
    "collapsed": false
   },
   "outputs": [
    {
     "data": {
      "text/plain": [
       "97701.815541465839"
      ]
     },
     "execution_count": 117,
     "metadata": {},
     "output_type": "execute_result"
    }
   ],
   "source": [
    "result3.aic"
   ]
  },
  {
   "cell_type": "code",
   "execution_count": 118,
   "metadata": {
    "collapsed": false
   },
   "outputs": [
    {
     "name": "stdout",
     "output_type": "stream",
     "text": [
      "Any response 0.324065121384\n",
      "Short response 0.162032560692\n",
      "Long response 0.213852666789\n"
     ]
    }
   ],
   "source": [
    "# Pct with responses\n",
    "print 'Any response', (np.sum(first_post['has_short_response'])+np.sum(first_post['has_short_response'])) * 1.0 / first_post.shape[0]\n",
    "print 'Short response', np.sum(first_post['has_short_response']) * 1.0 / first_post.shape[0]\n",
    "print 'Long response', np.sum(first_post['has_long_response']) * 1.0 / first_post.shape[0]"
   ]
  },
  {
   "cell_type": "code",
   "execution_count": 119,
   "metadata": {
    "collapsed": false
   },
   "outputs": [
    {
     "data": {
      "text/html": [
       "<div>\n",
       "<table border=\"1\" class=\"dataframe\">\n",
       "  <thead>\n",
       "    <tr style=\"text-align: right;\">\n",
       "      <th>multi_post</th>\n",
       "      <th>False</th>\n",
       "      <th>True</th>\n",
       "    </tr>\n",
       "    <tr>\n",
       "      <th>row_0</th>\n",
       "      <th></th>\n",
       "      <th></th>\n",
       "    </tr>\n",
       "  </thead>\n",
       "  <tbody>\n",
       "    <tr>\n",
       "      <th>long</th>\n",
       "      <td>4385</td>\n",
       "      <td>11982</td>\n",
       "    </tr>\n",
       "    <tr>\n",
       "      <th>none</th>\n",
       "      <td>21206</td>\n",
       "      <td>26560</td>\n",
       "    </tr>\n",
       "    <tr>\n",
       "      <th>short</th>\n",
       "      <td>4160</td>\n",
       "      <td>8241</td>\n",
       "    </tr>\n",
       "  </tbody>\n",
       "</table>\n",
       "</div>"
      ],
      "text/plain": [
       "multi_post  False  True \n",
       "row_0                   \n",
       "long         4385  11982\n",
       "none        21206  26560\n",
       "short        4160   8241"
      ]
     },
     "execution_count": 119,
     "metadata": {},
     "output_type": "execute_result"
    }
   ],
   "source": [
    "response = first_post.apply(lambda user: 'none' if user['responses_total']==0 else 'short' if user['has_short_response']==1 else 'long', axis=1)\n",
    "pd.crosstab(response, multi_post)"
   ]
  },
  {
   "cell_type": "code",
   "execution_count": 120,
   "metadata": {
    "collapsed": false
   },
   "outputs": [
    {
     "data": {
      "text/html": [
       "<div>\n",
       "<table border=\"1\" class=\"dataframe\">\n",
       "  <thead>\n",
       "    <tr style=\"text-align: right;\">\n",
       "      <th>multi_post</th>\n",
       "      <th>False</th>\n",
       "      <th>True</th>\n",
       "    </tr>\n",
       "    <tr>\n",
       "      <th>row_0</th>\n",
       "      <th></th>\n",
       "      <th></th>\n",
       "    </tr>\n",
       "  </thead>\n",
       "  <tbody>\n",
       "    <tr>\n",
       "      <th>long</th>\n",
       "      <td>0.2679</td>\n",
       "      <td>0.7321</td>\n",
       "    </tr>\n",
       "    <tr>\n",
       "      <th>none</th>\n",
       "      <td>0.4440</td>\n",
       "      <td>0.5560</td>\n",
       "    </tr>\n",
       "    <tr>\n",
       "      <th>short</th>\n",
       "      <td>0.3355</td>\n",
       "      <td>0.6645</td>\n",
       "    </tr>\n",
       "  </tbody>\n",
       "</table>\n",
       "</div>"
      ],
      "text/plain": [
       "multi_post  False  True \n",
       "row_0                   \n",
       "long       0.2679 0.7321\n",
       "none       0.4440 0.5560\n",
       "short      0.3355 0.6645"
      ]
     },
     "execution_count": 120,
     "metadata": {},
     "output_type": "execute_result"
    }
   ],
   "source": [
    "pd.crosstab(response, multi_post).apply(lambda row: row / row.sum(), axis=1)"
   ]
  },
  {
   "cell_type": "code",
   "execution_count": 121,
   "metadata": {
    "collapsed": false
   },
   "outputs": [],
   "source": [
    "#np.mean(np.logical_and(first_post['has_ups'], np.logical_not(first_post['has_responses'])))"
   ]
  },
  {
   "cell_type": "markdown",
   "metadata": {},
   "source": [
    "Getting feedback on first posts is associated with posting again in Reddit Politics.\n",
    "- Receiving at least one response to first comment associated with 71% better odds of posting again (p &lt; 0.001)\n",
    "- Receiving at least one upvote to first comment associated with 41% better odds of posting again (p &lt; 0.001)\n",
    "    \n",
    "Participating in dialog was also associated with posting again. Users whose first comment was in response to another comment had 47% better odds of posting again (p &lt; 0.001). (This was after controlling for similar number of responses and upvotes, so it's not because responding to others makes them more likely to get responses in return.)\n",
    "\n",
    "Length of first comments and responses to first comments were somewhat positively associated with higher probability of posting again, although the effect size was smaller and statistical significance was weaker. For each additional 10 words in their first comment, users had 2.1% higher odds of commenting again (p=0.005). For each additional 10 words on average in the responses to their first comment, users had 2.7% higher odds of commenting again, although the result was not statistically significant (p=0.113).\n",
    "\n",
    "All results were controlled for yearly seasonality, and absolute date across site history."
   ]
  },
  {
   "cell_type": "code",
   "execution_count": 122,
   "metadata": {
    "collapsed": false
   },
   "outputs": [
    {
     "name": "stdout",
     "output_type": "stream",
     "text": [
      "const                3.5758\n",
      "has_long_response    2.0253\n",
      "has_short_response   1.5194\n",
      "is_response          1.3431\n",
      "long_post            1.2657\n",
      "date                 0.9993\n",
      "dtype: float64\n"
     ]
    }
   ],
   "source": [
    "odds_ratios = np.exp(result2.params).sort(ascending=False, inplace=False)\n",
    "print odds_ratios"
   ]
  },
  {
   "cell_type": "code",
   "execution_count": 123,
   "metadata": {
    "collapsed": false
   },
   "outputs": [
    {
     "name": "stdout",
     "output_type": "stream",
     "text": [
      "model accuracy 0.635521738163\n",
      "model recall 0.863327080941\n",
      "model auc 0.64122429819\n"
     ]
    }
   ],
   "source": [
    "features = first_post[[ 'const',\n",
    "                        'date',\n",
    "                        'has_ups', \n",
    "                        'has_short_response', \n",
    "                        'has_long_response',\n",
    "                        'long_post',\n",
    "                        'is_response', ]]\n",
    "sk_logit = LogisticRegression(fit_intercept=False)\n",
    "accuracy_cv = cross_val_score(sk_logit, X=features, y=multi_post, scoring='accuracy', cv=5)\n",
    "print 'model accuracy', np.mean(accuracy_cv)\n",
    "recall_cv = cross_val_score(sk_logit, X=features, y=multi_post, scoring='recall', cv=5)\n",
    "print 'model recall', np.mean(recall_cv)\n",
    "auc_cv = cross_val_score(sk_logit, X=features, y=multi_post, scoring='roc_auc', cv=5)\n",
    "print 'model auc', np.mean(auc_cv)"
   ]
  },
  {
   "cell_type": "markdown",
   "metadata": {},
   "source": [
    "Removing 'has_ups' slightly improves model predictive accuracy.\n",
    "\n",
    "It makes AIC slightly worse. But I'm suspicious about accuracy of data and model interaction effects with has_ups, because its coefficient is counterintuitive, and Reddit says it fuzzes the ups data. Also, there was a bug in the code that prevented downs from propagating through the analysis, so that makes it harder to debug the problem.\n",
    "\n",
    "With `has_ups`\n",
    "```\n",
    "model accuracy 0.634972933772\n",
    "model recall 0.868906118759\n",
    "model auc 0.641487062727\n",
    "```\n",
    "\n",
    "Without `has_ups`\n",
    "```\n",
    "model accuracy 0.635286522623\n",
    "model recall 0.864417292717\n",
    "model auc 0.640855335393\n",
    "```"
   ]
  },
  {
   "cell_type": "markdown",
   "metadata": {},
   "source": [
    "Yahoo Answers study, which included first-week engagement:\n",
    "```\n",
    "model accuracy: 0.691\n",
    "model auc: 0.758\n",
    "```"
   ]
  },
  {
   "cell_type": "code",
   "execution_count": 124,
   "metadata": {
    "collapsed": false
   },
   "outputs": [
    {
     "name": "stdout",
     "output_type": "stream",
     "text": [
      "model accuracy 0.524433497219\n",
      "model auc 0.500135562474\n"
     ]
    }
   ],
   "source": [
    "sk_dummy = DummyClassifier()\n",
    "accuracy_cv = cross_val_score(sk_dummy, X=features, y=multi_post, scoring='accuracy', cv=5)\n",
    "print 'model accuracy', np.mean(accuracy_cv)\n",
    "auc_cv = cross_val_score(sk_dummy, X=features, y=multi_post, scoring='roc_auc', cv=5)\n",
    "print 'model auc', np.mean(auc_cv)"
   ]
  },
  {
   "cell_type": "markdown",
   "metadata": {},
   "source": [
    "Logistic regression model predicts ~20% more accurately than random guess."
   ]
  },
  {
   "cell_type": "code",
   "execution_count": 125,
   "metadata": {
    "collapsed": false
   },
   "outputs": [],
   "source": [
    "# response_crosstab_scaled = response_crosstab / response_crosstab.sum(axis=0)\n",
    "# response_crosstab_scaled`"
   ]
  },
  {
   "cell_type": "code",
   "execution_count": 126,
   "metadata": {
    "collapsed": false
   },
   "outputs": [],
   "source": [
    "# response_crosstab_scaled.T.plot(kind=\"bar\", stacked=True)\n",
    "# plt.title('Proportion who commented again,\\n depending on whether or not they \\nreceived a response to their first comment')"
   ]
  },
  {
   "cell_type": "code",
   "execution_count": 127,
   "metadata": {
    "collapsed": false
   },
   "outputs": [
    {
     "data": {
      "text/plain": [
       "<matplotlib.axes._subplots.AxesSubplot at 0x168a65410>"
      ]
     },
     "execution_count": 127,
     "metadata": {},
     "output_type": "execute_result"
    },
    {
     "data": {
      "image/png": "[encoded data removed]",
      "text/plain": [
       "<matplotlib.figure.Figure at 0x1691bb790>"
      ]
     },
     "metadata": {},
     "output_type": "display_data"
    }
   ],
   "source": [
    "first_post.word_count.hist()"
   ]
  },
  {
   "cell_type": "code",
   "execution_count": 128,
   "metadata": {
    "collapsed": false
   },
   "outputs": [
    {
     "data": {
      "text/plain": [
       "<matplotlib.text.Text at 0x165ce8a10>"
      ]
     },
     "execution_count": 128,
     "metadata": {},
     "output_type": "execute_result"
    },
    {
     "data": {
      "image/png": "[encoded data removed]",
      "text/plain": [
       "<matplotlib.figure.Figure at 0x128707210>"
      ]
     },
     "metadata": {},
     "output_type": "display_data"
    }
   ],
   "source": [
    "plt.figure()\n",
    "plt.hist(first_post[first_post['ups']>0]['ups'], bins=75)\n",
    "plt.xlim((0,80))\n",
    "plt.title('Upvote distribution')"
   ]
  },
  {
   "cell_type": "code",
   "execution_count": 129,
   "metadata": {
    "collapsed": false
   },
   "outputs": [],
   "source": [
    "word_count_discrete = pd.cut(first_post.word_count, [0,50,100,150,200,800])"
   ]
  },
  {
   "cell_type": "code",
   "execution_count": 130,
   "metadata": {
    "collapsed": false
   },
   "outputs": [
    {
     "data": {
      "text/html": [
       "<div>\n",
       "<table border=\"1\" class=\"dataframe\">\n",
       "  <thead>\n",
       "    <tr style=\"text-align: right;\">\n",
       "      <th>word_count</th>\n",
       "      <th>(0, 50]</th>\n",
       "      <th>(50, 100]</th>\n",
       "      <th>(100, 150]</th>\n",
       "      <th>(150, 200]</th>\n",
       "      <th>(200, 800]</th>\n",
       "    </tr>\n",
       "    <tr>\n",
       "      <th>multi_post</th>\n",
       "      <th></th>\n",
       "      <th></th>\n",
       "      <th></th>\n",
       "      <th></th>\n",
       "      <th></th>\n",
       "    </tr>\n",
       "  </thead>\n",
       "  <tbody>\n",
       "    <tr>\n",
       "      <th>False</th>\n",
       "      <td>24453</td>\n",
       "      <td>3298</td>\n",
       "      <td>1005</td>\n",
       "      <td>427</td>\n",
       "      <td>553</td>\n",
       "    </tr>\n",
       "    <tr>\n",
       "      <th>True</th>\n",
       "      <td>35873</td>\n",
       "      <td>6744</td>\n",
       "      <td>2135</td>\n",
       "      <td>892</td>\n",
       "      <td>1108</td>\n",
       "    </tr>\n",
       "  </tbody>\n",
       "</table>\n",
       "</div>"
      ],
      "text/plain": [
       "word_count  (0, 50]  (50, 100]  (100, 150]  (150, 200]  (200, 800]\n",
       "multi_post                                                        \n",
       "False         24453       3298        1005         427         553\n",
       "True          35873       6744        2135         892        1108"
      ]
     },
     "execution_count": 130,
     "metadata": {},
     "output_type": "execute_result"
    }
   ],
   "source": [
    "word_count_crosstab = pd.crosstab(multi_post, word_count_discrete)\n",
    "word_count_crosstab"
   ]
  },
  {
   "cell_type": "code",
   "execution_count": 131,
   "metadata": {
    "collapsed": false
   },
   "outputs": [
    {
     "data": {
      "text/html": [
       "<div>\n",
       "<table border=\"1\" class=\"dataframe\">\n",
       "  <thead>\n",
       "    <tr style=\"text-align: right;\">\n",
       "      <th>word_count</th>\n",
       "      <th>(0, 50]</th>\n",
       "      <th>(50, 100]</th>\n",
       "      <th>(100, 150]</th>\n",
       "      <th>(150, 200]</th>\n",
       "      <th>(200, 800]</th>\n",
       "    </tr>\n",
       "    <tr>\n",
       "      <th>multi_post</th>\n",
       "      <th></th>\n",
       "      <th></th>\n",
       "      <th></th>\n",
       "      <th></th>\n",
       "      <th></th>\n",
       "    </tr>\n",
       "  </thead>\n",
       "  <tbody>\n",
       "    <tr>\n",
       "      <th>False</th>\n",
       "      <td>0.4053</td>\n",
       "      <td>0.3284</td>\n",
       "      <td>0.3201</td>\n",
       "      <td>0.3237</td>\n",
       "      <td>0.3329</td>\n",
       "    </tr>\n",
       "    <tr>\n",
       "      <th>True</th>\n",
       "      <td>0.5947</td>\n",
       "      <td>0.6716</td>\n",
       "      <td>0.6799</td>\n",
       "      <td>0.6763</td>\n",
       "      <td>0.6671</td>\n",
       "    </tr>\n",
       "  </tbody>\n",
       "</table>\n",
       "</div>"
      ],
      "text/plain": [
       "word_count  (0, 50]  (50, 100]  (100, 150]  (150, 200]  (200, 800]\n",
       "multi_post                                                        \n",
       "False        0.4053     0.3284      0.3201      0.3237      0.3329\n",
       "True         0.5947     0.6716      0.6799      0.6763      0.6671"
      ]
     },
     "execution_count": 131,
     "metadata": {},
     "output_type": "execute_result"
    }
   ],
   "source": [
    "word_count_crosstab_scaled = word_count_crosstab / word_count_crosstab.sum(axis=0)\n",
    "word_count_crosstab_scaled"
   ]
  },
  {
   "cell_type": "code",
   "execution_count": 132,
   "metadata": {
    "collapsed": false
   },
   "outputs": [
    {
     "data": {
      "text/plain": [
       "<matplotlib.axes._subplots.AxesSubplot at 0x16af54f90>"
      ]
     },
     "execution_count": 132,
     "metadata": {},
     "output_type": "execute_result"
    },
    {
     "data": {
      "image/png": "[encoded data removed]",
      "text/plain": [
       "<matplotlib.figure.Figure at 0x16bdb5190>"
      ]
     },
     "metadata": {},
     "output_type": "display_data"
    }
   ],
   "source": [
    "word_count_crosstab_scaled.T.plot(kind=\"bar\", stacked=True)"
   ]
  },
  {
   "cell_type": "markdown",
   "metadata": {},
   "source": [
    "More responses to mid-length comments -- consider feature for mid-length comments"
   ]
  },
  {
   "cell_type": "code",
   "execution_count": 133,
   "metadata": {
    "collapsed": false
   },
   "outputs": [
    {
     "data": {
      "text/plain": [
       "<matplotlib.axes._subplots.AxesSubplot at 0x13dffd1d0>"
      ]
     },
     "execution_count": 133,
     "metadata": {},
     "output_type": "execute_result"
    },
    {
     "data": {
      "image/png": "[encoded data removed]",
      "text/plain": [
       "<matplotlib.figure.Figure at 0x134a1da50>"
      ]
     },
     "metadata": {},
     "output_type": "display_data"
    }
   ],
   "source": [
    "first_post.ups.hist()"
   ]
  },
  {
   "cell_type": "code",
   "execution_count": 134,
   "metadata": {
    "collapsed": true
   },
   "outputs": [],
   "source": [
    "ups_discrete = pd.cut(first_post.ups, [-100,-0.5,0.5,10,100,1000])"
   ]
  },
  {
   "cell_type": "code",
   "execution_count": 135,
   "metadata": {
    "collapsed": false
   },
   "outputs": [
    {
     "data": {
      "text/html": [
       "<div>\n",
       "<table border=\"1\" class=\"dataframe\">\n",
       "  <thead>\n",
       "    <tr style=\"text-align: right;\">\n",
       "      <th>ups</th>\n",
       "      <th>(-100, -0.5]</th>\n",
       "      <th>(-0.5, 0.5]</th>\n",
       "      <th>(0.5, 10]</th>\n",
       "      <th>(10, 100]</th>\n",
       "      <th>(100, 1000]</th>\n",
       "    </tr>\n",
       "    <tr>\n",
       "      <th>multi_post</th>\n",
       "      <th></th>\n",
       "      <th></th>\n",
       "      <th></th>\n",
       "      <th></th>\n",
       "      <th></th>\n",
       "    </tr>\n",
       "  </thead>\n",
       "  <tbody>\n",
       "    <tr>\n",
       "      <th>False</th>\n",
       "      <td>2480</td>\n",
       "      <td>2653</td>\n",
       "      <td>22615</td>\n",
       "      <td>1808</td>\n",
       "      <td>190</td>\n",
       "    </tr>\n",
       "    <tr>\n",
       "      <th>True</th>\n",
       "      <td>4594</td>\n",
       "      <td>3869</td>\n",
       "      <td>33918</td>\n",
       "      <td>3953</td>\n",
       "      <td>432</td>\n",
       "    </tr>\n",
       "  </tbody>\n",
       "</table>\n",
       "</div>"
      ],
      "text/plain": [
       "ups         (-100, -0.5]  (-0.5, 0.5]  (0.5, 10]  (10, 100]  (100, 1000]\n",
       "multi_post                                                              \n",
       "False               2480         2653      22615       1808          190\n",
       "True                4594         3869      33918       3953          432"
      ]
     },
     "execution_count": 135,
     "metadata": {},
     "output_type": "execute_result"
    }
   ],
   "source": [
    "ups_crosstab = pd.crosstab(multi_post, ups_discrete)\n",
    "ups_crosstab"
   ]
  },
  {
   "cell_type": "code",
   "execution_count": 136,
   "metadata": {
    "collapsed": false
   },
   "outputs": [
    {
     "data": {
      "text/plain": [
       "<matplotlib.axes._subplots.AxesSubplot at 0x10afa8fd0>"
      ]
     },
     "execution_count": 136,
     "metadata": {},
     "output_type": "execute_result"
    },
    {
     "data": {
      "image/png": "[encoded data removed]",
      "text/plain": [
       "<matplotlib.figure.Figure at 0x14c6a4250>"
      ]
     },
     "metadata": {},
     "output_type": "display_data"
    }
   ],
   "source": [
    "ups_crosstab_scaled = ups_crosstab / ups_crosstab.sum(axis=0)\n",
    "ups_crosstab_scaled.T.plot(kind=\"bar\", stacked=True)"
   ]
  },
  {
   "cell_type": "markdown",
   "metadata": {},
   "source": [
    "Highly upvoted first_post more likely to repost"
   ]
  },
  {
   "cell_type": "markdown",
   "metadata": {},
   "source": [
    "Are ups and has_responses collinear?"
   ]
  },
  {
   "cell_type": "code",
   "execution_count": 137,
   "metadata": {
    "collapsed": false
   },
   "outputs": [],
   "source": [
    "# ups_vs_has_responses = pd.crosstab(ups_discrete, first_post.has_responses)\n",
    "# ups_vs_has_responses.T"
   ]
  },
  {
   "cell_type": "code",
   "execution_count": 138,
   "metadata": {
    "collapsed": false
   },
   "outputs": [],
   "source": [
    "# ups_vs_has_responses_scaled = ups_vs_has_responses.T / ups_vs_has_responses.sum(axis=1)\n",
    "# ups_vs_has_responses_scaled"
   ]
  },
  {
   "cell_type": "code",
   "execution_count": 139,
   "metadata": {
    "collapsed": false
   },
   "outputs": [],
   "source": [
    "# ups_vs_has_responses_scaled.T.plot(kind=\"bar\", stacked=True)"
   ]
  },
  {
   "cell_type": "code",
   "execution_count": 140,
   "metadata": {
    "collapsed": false
   },
   "outputs": [],
   "source": [
    "# first_post.apply(np.log).plot('ups','responses_total', kind=\"scatter\")"
   ]
  },
  {
   "cell_type": "markdown",
   "metadata": {},
   "source": [
    "More upvotes is correlated with having responses"
   ]
  }
 ],
 "metadata": {
  "kernelspec": {
   "display_name": "Python 2",
   "language": "python",
   "name": "python2"
  },
  "language_info": {
   "codemirror_mode": {
    "name": "ipython",
    "version": 2
   },
   "file_extension": ".py",
   "mimetype": "text/x-python",
   "name": "python",
   "nbconvert_exporter": "python",
   "pygments_lexer": "ipython2",
   "version": "2.7.10"
  }
 },
 "nbformat": 4,
 "nbformat_minor": 0
}
