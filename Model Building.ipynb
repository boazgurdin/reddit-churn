{
 "cells": [
  {
   "cell_type": "code",
   "execution_count": 1,
   "metadata": {
    "collapsed": true
   },
   "outputs": [],
   "source": [
    "import pandas as pd\n",
    "import numpy as np\n",
    "import statsmodels.api as sm\n",
    "import matplotlib.pyplot as plt\n",
    "%matplotlib inline"
   ]
  },
  {
   "cell_type": "code",
   "execution_count": 2,
   "metadata": {
    "collapsed": false
   },
   "outputs": [],
   "source": [
    "first_post = pd.read_json('data/politicos/json/mixed.json')"
   ]
  },
  {
   "cell_type": "code",
   "execution_count": 3,
   "metadata": {
    "collapsed": false
   },
   "outputs": [],
   "source": [
    "#first_post.reset_index(inplace=True)\n",
    "#first_post.head()"
   ]
  },
  {
   "cell_type": "code",
   "execution_count": 4,
   "metadata": {
    "collapsed": false
   },
   "outputs": [],
   "source": [
    "# Author- not needed in analysis, keep for now as index\n",
    "first_post.set_index('author', inplace=True)\n",
    "#first_post.drop('author', axis=1, inplace=True)"
   ]
  },
  {
   "cell_type": "code",
   "execution_count": 5,
   "metadata": {
    "collapsed": false
   },
   "outputs": [],
   "source": [
    "# Label / outcome variable\n",
    "multi_post = first_post['total_posts']>1\n",
    "first_post.drop(['total_posts', 'post_ids', 'post_datetimes', 'first_post_datetime', 'last_post_datetime'], axis=1, inplace=True)\n"
   ]
  },
  {
   "cell_type": "code",
   "execution_count": 6,
   "metadata": {
    "collapsed": true
   },
   "outputs": [],
   "source": [
    "# Ups/downs\n",
    "first_post.rename(columns={'first_post_ups':'ups',\n",
    "                           'first_post_downs':'downs'}, inplace=True)"
   ]
  },
  {
   "cell_type": "code",
   "execution_count": 7,
   "metadata": {
    "collapsed": false
   },
   "outputs": [],
   "source": [
    "# Responses\n",
    "first_post.rename(columns={'first_post_avg_response_ups':'responses_ups_avg',\n",
    "                           'first_post_avg_response_downs':'responses_downs_avg',\n",
    "                           'first_post_total_responses':'responses_total'}, inplace=True)\n",
    "first_post.drop(['first_post_responses','first_post_response_ups', 'first_post_response_downs'], axis=1, inplace=True) #not doing text analysis for now\n",
    "first_post.fillna(0, inplace=True) #response stats are NaN if no responses\n",
    "# responses_ups_avg is actually an interaction term multiplied by has_responses\n",
    "first_post['has_responses'] = (first_post['responses_total']>0).astype(int)"
   ]
  },
  {
   "cell_type": "code",
   "execution_count": 8,
   "metadata": {
    "collapsed": false
   },
   "outputs": [],
   "source": [
    "# Body\n",
    "first_post['word_count'] = first_post['first_post_body'].apply(lambda post: len(post.split()))\n",
    "first_post.drop(['first_post_link_id', 'first_post_id', 'first_post_body'], axis=1, inplace=True)"
   ]
  },
  {
   "cell_type": "code",
   "execution_count": 9,
   "metadata": {
    "collapsed": false
   },
   "outputs": [],
   "source": [
    "# Parent type\n",
    "first_post['is_response'] = first_post['parent_type']=='t1'\n",
    "first_post['is_response'] = first_post['is_response'].astype(int)\n",
    "first_post.drop('parent_type', axis=1, inplace=True)"
   ]
  },
  {
   "cell_type": "code",
   "execution_count": 10,
   "metadata": {
    "collapsed": true
   },
   "outputs": [],
   "source": [
    "# Downs and Response downs - drop bc no data in this sample\n",
    "first_post.drop('responses_downs_avg', axis=1, inplace=True)\n",
    "first_post.drop('downs', axis=1, inplace=True)"
   ]
  },
  {
   "cell_type": "code",
   "execution_count": 11,
   "metadata": {
    "collapsed": false
   },
   "outputs": [],
   "source": [
    "# Const\n",
    "first_post = sm.add_constant(first_post)\n",
    "#first_post['const'] = pd.Series(np.ones(first_post.shape[0]))"
   ]
  },
  {
   "cell_type": "code",
   "execution_count": 12,
   "metadata": {
    "collapsed": false
   },
   "outputs": [
    {
     "data": {
      "text/html": [
       "<div>\n",
       "<table border=\"1\" class=\"dataframe\">\n",
       "  <thead>\n",
       "    <tr style=\"text-align: right;\">\n",
       "      <th></th>\n",
       "      <th>const</th>\n",
       "      <th>responses_ups_avg</th>\n",
       "      <th>responses_total</th>\n",
       "      <th>ups</th>\n",
       "      <th>has_responses</th>\n",
       "      <th>word_count</th>\n",
       "      <th>is_response</th>\n",
       "    </tr>\n",
       "    <tr>\n",
       "      <th>author</th>\n",
       "      <th></th>\n",
       "      <th></th>\n",
       "      <th></th>\n",
       "      <th></th>\n",
       "      <th></th>\n",
       "      <th></th>\n",
       "      <th></th>\n",
       "    </tr>\n",
       "  </thead>\n",
       "  <tbody>\n",
       "    <tr>\n",
       "      <th>netdroid9</th>\n",
       "      <td>1</td>\n",
       "      <td>0</td>\n",
       "      <td>1</td>\n",
       "      <td>3</td>\n",
       "      <td>1</td>\n",
       "      <td>67</td>\n",
       "      <td>1</td>\n",
       "    </tr>\n",
       "    <tr>\n",
       "      <th>grimsley33</th>\n",
       "      <td>1</td>\n",
       "      <td>0</td>\n",
       "      <td>0</td>\n",
       "      <td>4</td>\n",
       "      <td>0</td>\n",
       "      <td>91</td>\n",
       "      <td>0</td>\n",
       "    </tr>\n",
       "    <tr>\n",
       "      <th>bluedice</th>\n",
       "      <td>1</td>\n",
       "      <td>0</td>\n",
       "      <td>0</td>\n",
       "      <td>0</td>\n",
       "      <td>0</td>\n",
       "      <td>8</td>\n",
       "      <td>0</td>\n",
       "    </tr>\n",
       "    <tr>\n",
       "      <th>Cody2</th>\n",
       "      <td>1</td>\n",
       "      <td>1</td>\n",
       "      <td>1</td>\n",
       "      <td>26</td>\n",
       "      <td>1</td>\n",
       "      <td>3</td>\n",
       "      <td>1</td>\n",
       "    </tr>\n",
       "    <tr>\n",
       "      <th>firebat87</th>\n",
       "      <td>1</td>\n",
       "      <td>0</td>\n",
       "      <td>0</td>\n",
       "      <td>1</td>\n",
       "      <td>0</td>\n",
       "      <td>33</td>\n",
       "      <td>1</td>\n",
       "    </tr>\n",
       "  </tbody>\n",
       "</table>\n",
       "</div>"
      ],
      "text/plain": [
       "            const  responses_ups_avg  responses_total  ups  has_responses  \\\n",
       "author                                                                      \n",
       "netdroid9       1                  0                1    3              1   \n",
       "grimsley33      1                  0                0    4              0   \n",
       "bluedice        1                  0                0    0              0   \n",
       "Cody2           1                  1                1   26              1   \n",
       "firebat87       1                  0                0    1              0   \n",
       "\n",
       "            word_count  is_response  \n",
       "author                               \n",
       "netdroid9           67            1  \n",
       "grimsley33          91            0  \n",
       "bluedice             8            0  \n",
       "Cody2                3            1  \n",
       "firebat87           33            1  "
      ]
     },
     "execution_count": 12,
     "metadata": {},
     "output_type": "execute_result"
    }
   ],
   "source": [
    "first_post.head()"
   ]
  },
  {
   "cell_type": "code",
   "execution_count": 13,
   "metadata": {
    "collapsed": false
   },
   "outputs": [],
   "source": [
    "logit = sm.Logit(multi_post, first_post)"
   ]
  },
  {
   "cell_type": "code",
   "execution_count": 14,
   "metadata": {
    "collapsed": false
   },
   "outputs": [
    {
     "name": "stdout",
     "output_type": "stream",
     "text": [
      "Optimization terminated successfully.\n",
      "         Current function value: 0.638717\n",
      "         Iterations 7\n"
     ]
    }
   ],
   "source": [
    "result = logit.fit()"
   ]
  },
  {
   "cell_type": "code",
   "execution_count": 15,
   "metadata": {
    "collapsed": false
   },
   "outputs": [
    {
     "data": {
      "text/html": [
       "<table class=\"simpletable\">\n",
       "<caption>Logit Regression Results</caption>\n",
       "<tr>\n",
       "  <th>Dep. Variable:</th>    <td>total_posts</td>   <th>  No. Observations:  </th>  <td>   768</td>  \n",
       "</tr>\n",
       "<tr>\n",
       "  <th>Model:</th>               <td>Logit</td>      <th>  Df Residuals:      </th>  <td>   761</td>  \n",
       "</tr>\n",
       "<tr>\n",
       "  <th>Method:</th>               <td>MLE</td>       <th>  Df Model:          </th>  <td>     6</td>  \n",
       "</tr>\n",
       "<tr>\n",
       "  <th>Date:</th>          <td>Wed, 12 Aug 2015</td> <th>  Pseudo R-squ.:     </th>  <td>0.03055</td> \n",
       "</tr>\n",
       "<tr>\n",
       "  <th>Time:</th>              <td>21:59:46</td>     <th>  Log-Likelihood:    </th> <td> -490.53</td> \n",
       "</tr>\n",
       "<tr>\n",
       "  <th>converged:</th>           <td>True</td>       <th>  LL-Null:           </th> <td> -505.99</td> \n",
       "</tr>\n",
       "<tr>\n",
       "  <th> </th>                      <td> </td>        <th>  LLR p-value:       </th> <td>2.630e-05</td>\n",
       "</tr>\n",
       "</table>\n",
       "<table class=\"simpletable\">\n",
       "<tr>\n",
       "          <td></td>             <th>coef</th>     <th>std err</th>      <th>z</th>      <th>P>|z|</th> <th>[95.0% Conf. Int.]</th> \n",
       "</tr>\n",
       "<tr>\n",
       "  <th>const</th>             <td>    0.0854</td> <td>    0.122</td> <td>    0.701</td> <td> 0.483</td> <td>   -0.153     0.324</td>\n",
       "</tr>\n",
       "<tr>\n",
       "  <th>responses_ups_avg</th> <td>    0.0132</td> <td>    0.034</td> <td>    0.387</td> <td> 0.699</td> <td>   -0.053     0.080</td>\n",
       "</tr>\n",
       "<tr>\n",
       "  <th>responses_total</th>   <td>   -0.0401</td> <td>    0.089</td> <td>   -0.453</td> <td> 0.651</td> <td>   -0.214     0.134</td>\n",
       "</tr>\n",
       "<tr>\n",
       "  <th>ups</th>               <td>    0.0086</td> <td>    0.008</td> <td>    1.075</td> <td> 0.283</td> <td>   -0.007     0.024</td>\n",
       "</tr>\n",
       "<tr>\n",
       "  <th>has_responses</th>     <td>    0.6951</td> <td>    0.218</td> <td>    3.185</td> <td> 0.001</td> <td>    0.267     1.123</td>\n",
       "</tr>\n",
       "<tr>\n",
       "  <th>word_count</th>        <td>    0.0013</td> <td>    0.001</td> <td>    1.035</td> <td> 0.301</td> <td>   -0.001     0.004</td>\n",
       "</tr>\n",
       "<tr>\n",
       "  <th>is_response</th>       <td>    0.2361</td> <td>    0.156</td> <td>    1.515</td> <td> 0.130</td> <td>   -0.069     0.542</td>\n",
       "</tr>\n",
       "</table>"
      ],
      "text/plain": [
       "<class 'statsmodels.iolib.summary.Summary'>\n",
       "\"\"\"\n",
       "                           Logit Regression Results                           \n",
       "==============================================================================\n",
       "Dep. Variable:            total_posts   No. Observations:                  768\n",
       "Model:                          Logit   Df Residuals:                      761\n",
       "Method:                           MLE   Df Model:                            6\n",
       "Date:                Wed, 12 Aug 2015   Pseudo R-squ.:                 0.03055\n",
       "Time:                        21:59:46   Log-Likelihood:                -490.53\n",
       "converged:                       True   LL-Null:                       -505.99\n",
       "                                        LLR p-value:                 2.630e-05\n",
       "=====================================================================================\n",
       "                        coef    std err          z      P>|z|      [95.0% Conf. Int.]\n",
       "-------------------------------------------------------------------------------------\n",
       "const                 0.0854      0.122      0.701      0.483        -0.153     0.324\n",
       "responses_ups_avg     0.0132      0.034      0.387      0.699        -0.053     0.080\n",
       "responses_total      -0.0401      0.089     -0.453      0.651        -0.214     0.134\n",
       "ups                   0.0086      0.008      1.075      0.283        -0.007     0.024\n",
       "has_responses         0.6951      0.218      3.185      0.001         0.267     1.123\n",
       "word_count            0.0013      0.001      1.035      0.301        -0.001     0.004\n",
       "is_response           0.2361      0.156      1.515      0.130        -0.069     0.542\n",
       "=====================================================================================\n",
       "\"\"\""
      ]
     },
     "execution_count": 15,
     "metadata": {},
     "output_type": "execute_result"
    }
   ],
   "source": [
    "result.summary()"
   ]
  },
  {
   "cell_type": "code",
   "execution_count": 16,
   "metadata": {
    "collapsed": false
   },
   "outputs": [
    {
     "data": {
      "text/plain": [
       "const                1.089170\n",
       "responses_ups_avg    1.013243\n",
       "responses_total      0.960665\n",
       "ups                  1.008604\n",
       "has_responses        2.003837\n",
       "word_count           1.001313\n",
       "is_response          1.266364\n",
       "dtype: float64"
      ]
     },
     "execution_count": 16,
     "metadata": {},
     "output_type": "execute_result"
    }
   ],
   "source": [
    "np.exp(result.params)"
   ]
  },
  {
   "cell_type": "code",
   "execution_count": 17,
   "metadata": {
    "collapsed": false
   },
   "outputs": [
    {
     "data": {
      "text/plain": [
       "995.06899933514751"
      ]
     },
     "execution_count": 17,
     "metadata": {},
     "output_type": "execute_result"
    }
   ],
   "source": [
    "result.aic"
   ]
  },
  {
   "cell_type": "code",
   "execution_count": 21,
   "metadata": {
    "collapsed": false
   },
   "outputs": [
    {
     "name": "stdout",
     "output_type": "stream",
     "text": [
      "Optimization terminated successfully.\n",
      "         Current function value: 0.642759\n",
      "         Iterations 5\n"
     ]
    }
   ],
   "source": [
    "logit2 = sm.Logit(multi_post, sm.add_constant(first_post['has_responses']))\n",
    "result2 = logit2.fit()"
   ]
  },
  {
   "cell_type": "code",
   "execution_count": 22,
   "metadata": {
    "collapsed": false
   },
   "outputs": [
    {
     "data": {
      "text/html": [
       "<table class=\"simpletable\">\n",
       "<caption>Logit Regression Results</caption>\n",
       "<tr>\n",
       "  <th>Dep. Variable:</th>    <td>total_posts</td>   <th>  No. Observations:  </th>  <td>   768</td>  \n",
       "</tr>\n",
       "<tr>\n",
       "  <th>Model:</th>               <td>Logit</td>      <th>  Df Residuals:      </th>  <td>   766</td>  \n",
       "</tr>\n",
       "<tr>\n",
       "  <th>Method:</th>               <td>MLE</td>       <th>  Df Model:          </th>  <td>     1</td>  \n",
       "</tr>\n",
       "<tr>\n",
       "  <th>Date:</th>          <td>Wed, 12 Aug 2015</td> <th>  Pseudo R-squ.:     </th>  <td>0.02441</td> \n",
       "</tr>\n",
       "<tr>\n",
       "  <th>Time:</th>              <td>22:03:12</td>     <th>  Log-Likelihood:    </th> <td> -493.64</td> \n",
       "</tr>\n",
       "<tr>\n",
       "  <th>converged:</th>           <td>True</td>       <th>  LL-Null:           </th> <td> -505.99</td> \n",
       "</tr>\n",
       "<tr>\n",
       "  <th> </th>                      <td> </td>        <th>  LLR p-value:       </th> <td>6.674e-07</td>\n",
       "</tr>\n",
       "</table>\n",
       "<table class=\"simpletable\">\n",
       "<tr>\n",
       "        <td></td>           <th>coef</th>     <th>std err</th>      <th>z</th>      <th>P>|z|</th> <th>[95.0% Conf. Int.]</th> \n",
       "</tr>\n",
       "<tr>\n",
       "  <th>const</th>         <td>    0.2408</td> <td>    0.094</td> <td>    2.561</td> <td> 0.010</td> <td>    0.057     0.425</td>\n",
       "</tr>\n",
       "<tr>\n",
       "  <th>has_responses</th> <td>    0.7774</td> <td>    0.160</td> <td>    4.874</td> <td> 0.000</td> <td>    0.465     1.090</td>\n",
       "</tr>\n",
       "</table>"
      ],
      "text/plain": [
       "<class 'statsmodels.iolib.summary.Summary'>\n",
       "\"\"\"\n",
       "                           Logit Regression Results                           \n",
       "==============================================================================\n",
       "Dep. Variable:            total_posts   No. Observations:                  768\n",
       "Model:                          Logit   Df Residuals:                      766\n",
       "Method:                           MLE   Df Model:                            1\n",
       "Date:                Wed, 12 Aug 2015   Pseudo R-squ.:                 0.02441\n",
       "Time:                        22:03:12   Log-Likelihood:                -493.64\n",
       "converged:                       True   LL-Null:                       -505.99\n",
       "                                        LLR p-value:                 6.674e-07\n",
       "=================================================================================\n",
       "                    coef    std err          z      P>|z|      [95.0% Conf. Int.]\n",
       "---------------------------------------------------------------------------------\n",
       "const             0.2408      0.094      2.561      0.010         0.057     0.425\n",
       "has_responses     0.7774      0.160      4.874      0.000         0.465     1.090\n",
       "=================================================================================\n",
       "\"\"\""
      ]
     },
     "execution_count": 22,
     "metadata": {},
     "output_type": "execute_result"
    }
   ],
   "source": [
    "result2.summary()"
   ]
  },
  {
   "cell_type": "code",
   "execution_count": 23,
   "metadata": {
    "collapsed": false
   },
   "outputs": [
    {
     "data": {
      "text/plain": [
       "991.27848008426326"
      ]
     },
     "execution_count": 23,
     "metadata": {},
     "output_type": "execute_result"
    }
   ],
   "source": [
    "result2.aic"
   ]
  },
  {
   "cell_type": "code",
   "execution_count": 24,
   "metadata": {
    "collapsed": false
   },
   "outputs": [
    {
     "data": {
      "text/plain": [
       "const            1.272277\n",
       "has_responses    2.175857\n",
       "dtype: float64"
      ]
     },
     "execution_count": 24,
     "metadata": {},
     "output_type": "execute_result"
    }
   ],
   "source": [
    "np.exp(result2.params)"
   ]
  },
  {
   "cell_type": "code",
   "execution_count": 27,
   "metadata": {
    "collapsed": false
   },
   "outputs": [
    {
     "name": "stdout",
     "output_type": "stream",
     "text": [
      "Optimization terminated successfully.\n",
      "         Current function value: 0.641130\n",
      "         Iterations 7\n"
     ]
    }
   ],
   "source": [
    "logit3 = sm.Logit(multi_post, sm.add_constant(first_post[['has_responses', 'ups']]))\n",
    "result3 = logit3.fit()"
   ]
  },
  {
   "cell_type": "code",
   "execution_count": 28,
   "metadata": {
    "collapsed": false
   },
   "outputs": [
    {
     "data": {
      "text/html": [
       "<table class=\"simpletable\">\n",
       "<caption>Logit Regression Results</caption>\n",
       "<tr>\n",
       "  <th>Dep. Variable:</th>    <td>total_posts</td>   <th>  No. Observations:  </th>  <td>   768</td>  \n",
       "</tr>\n",
       "<tr>\n",
       "  <th>Model:</th>               <td>Logit</td>      <th>  Df Residuals:      </th>  <td>   765</td>  \n",
       "</tr>\n",
       "<tr>\n",
       "  <th>Method:</th>               <td>MLE</td>       <th>  Df Model:          </th>  <td>     2</td>  \n",
       "</tr>\n",
       "<tr>\n",
       "  <th>Date:</th>          <td>Wed, 12 Aug 2015</td> <th>  Pseudo R-squ.:     </th>  <td>0.02689</td> \n",
       "</tr>\n",
       "<tr>\n",
       "  <th>Time:</th>              <td>22:07:00</td>     <th>  Log-Likelihood:    </th> <td> -492.39</td> \n",
       "</tr>\n",
       "<tr>\n",
       "  <th>converged:</th>           <td>True</td>       <th>  LL-Null:           </th> <td> -505.99</td> \n",
       "</tr>\n",
       "<tr>\n",
       "  <th> </th>                      <td> </td>        <th>  LLR p-value:       </th> <td>1.235e-06</td>\n",
       "</tr>\n",
       "</table>\n",
       "<table class=\"simpletable\">\n",
       "<tr>\n",
       "        <td></td>           <th>coef</th>     <th>std err</th>      <th>z</th>      <th>P>|z|</th> <th>[95.0% Conf. Int.]</th> \n",
       "</tr>\n",
       "<tr>\n",
       "  <th>const</th>         <td>    0.2271</td> <td>    0.095</td> <td>    2.397</td> <td> 0.017</td> <td>    0.041     0.413</td>\n",
       "</tr>\n",
       "<tr>\n",
       "  <th>has_responses</th> <td>    0.7252</td> <td>    0.163</td> <td>    4.450</td> <td> 0.000</td> <td>    0.406     1.045</td>\n",
       "</tr>\n",
       "<tr>\n",
       "  <th>ups</th>           <td>    0.0075</td> <td>    0.006</td> <td>    1.191</td> <td> 0.234</td> <td>   -0.005     0.020</td>\n",
       "</tr>\n",
       "</table>"
      ],
      "text/plain": [
       "<class 'statsmodels.iolib.summary.Summary'>\n",
       "\"\"\"\n",
       "                           Logit Regression Results                           \n",
       "==============================================================================\n",
       "Dep. Variable:            total_posts   No. Observations:                  768\n",
       "Model:                          Logit   Df Residuals:                      765\n",
       "Method:                           MLE   Df Model:                            2\n",
       "Date:                Wed, 12 Aug 2015   Pseudo R-squ.:                 0.02689\n",
       "Time:                        22:07:00   Log-Likelihood:                -492.39\n",
       "converged:                       True   LL-Null:                       -505.99\n",
       "                                        LLR p-value:                 1.235e-06\n",
       "=================================================================================\n",
       "                    coef    std err          z      P>|z|      [95.0% Conf. Int.]\n",
       "---------------------------------------------------------------------------------\n",
       "const             0.2271      0.095      2.397      0.017         0.041     0.413\n",
       "has_responses     0.7252      0.163      4.450      0.000         0.406     1.045\n",
       "ups               0.0075      0.006      1.191      0.234        -0.005     0.020\n",
       "=================================================================================\n",
       "\"\"\""
      ]
     },
     "execution_count": 28,
     "metadata": {},
     "output_type": "execute_result"
    }
   ],
   "source": [
    "result3.summary()"
   ]
  },
  {
   "cell_type": "code",
   "execution_count": 29,
   "metadata": {
    "collapsed": false
   },
   "outputs": [
    {
     "data": {
      "text/plain": [
       "990.77630537239315"
      ]
     },
     "execution_count": 29,
     "metadata": {},
     "output_type": "execute_result"
    }
   ],
   "source": [
    "result3.aic"
   ]
  },
  {
   "cell_type": "code",
   "execution_count": 30,
   "metadata": {
    "collapsed": false
   },
   "outputs": [
    {
     "data": {
      "text/plain": [
       "const            1.254951\n",
       "has_responses    2.065192\n",
       "ups              1.007536\n",
       "dtype: float64"
      ]
     },
     "execution_count": 30,
     "metadata": {},
     "output_type": "execute_result"
    }
   ],
   "source": [
    "np.exp(result3.params)"
   ]
  },
  {
   "cell_type": "markdown",
   "metadata": {},
   "source": [
    "Don't add ups to the model. It barely improves AIC and Pseudo-Rsq. It adds extra variable to to the model. Its p-value is not significant. It coefficient is near 0."
   ]
  },
  {
   "cell_type": "code",
   "execution_count": 31,
   "metadata": {
    "collapsed": true
   },
   "outputs": [],
   "source": [
    "from sklearn.ensemble import RandomForestClassifier\n",
    "from sklearn.metrics import "
   ]
  },
  {
   "cell_type": "code",
   "execution_count": 32,
   "metadata": {
    "collapsed": true
   },
   "outputs": [],
   "source": [
    "rfc = RandomForestClassifier(n_estimators=10, max_features=3, max_depth=5)"
   ]
  },
  {
   "cell_type": "code",
   "execution_count": 33,
   "metadata": {
    "collapsed": false
   },
   "outputs": [
    {
     "data": {
      "text/plain": [
       "RandomForestClassifier(bootstrap=True, compute_importances=None,\n",
       "            criterion='gini', max_depth=5, max_features=3,\n",
       "            max_leaf_nodes=None, min_density=None, min_samples_leaf=1,\n",
       "            min_samples_split=2, n_estimators=10, n_jobs=1,\n",
       "            oob_score=False, random_state=None, verbose=0)"
      ]
     },
     "execution_count": 33,
     "metadata": {},
     "output_type": "execute_result"
    }
   ],
   "source": [
    "rfc.fit(first_post, multi_post)"
   ]
  },
  {
   "cell_type": "code",
   "execution_count": 34,
   "metadata": {
    "collapsed": true
   },
   "outputs": [],
   "source": [
    "preds = rfc.predict(first_post)"
   ]
  },
  {
   "cell_type": "code",
   "execution_count": null,
   "metadata": {
    "collapsed": true
   },
   "outputs": [],
   "source": []
  }
 ],
 "metadata": {
  "kernelspec": {
   "display_name": "Python 2",
   "language": "python",
   "name": "python2"
  },
  "language_info": {
   "codemirror_mode": {
    "name": "ipython",
    "version": 2
   },
   "file_extension": ".py",
   "mimetype": "text/x-python",
   "name": "python",
   "nbconvert_exporter": "python",
   "pygments_lexer": "ipython2",
   "version": "2.7.10"
  }
 },
 "nbformat": 4,
 "nbformat_minor": 0
}
