{
 "cells": [
  {
   "cell_type": "code",
   "execution_count": 1,
   "metadata": {
    "collapsed": false
   },
   "outputs": [],
   "source": [
    "import indicoio\n",
    "import os\n",
    "import json\n",
    "import pandas as pd"
   ]
  },
  {
   "cell_type": "code",
   "execution_count": 2,
   "metadata": {
    "collapsed": true
   },
   "outputs": [],
   "source": [
    "# Turn JSON lines into JSON array\n",
    "def json_line_to_array(filename):\n",
    "    with open(filename) as f:\n",
    "        lines = f.readlines()\n",
    "        lines = map(lambda line: line.rstrip(), lines) #remove \\n\n",
    "        json_str = '[' + ','.join(lines) + ']'\n",
    "        return json_str"
   ]
  },
  {
   "cell_type": "code",
   "execution_count": 53,
   "metadata": {
    "collapsed": true
   },
   "outputs": [],
   "source": [
    "# Read in data from sample of /r/politics users\n",
    "# reddit_pos = pd.read_json('data/politicos/json/multi.json')\n",
    "# reddit_neg = pd.read_json('data/politicos/json/single.json')\n",
    "reddit_multi = pd.read_json(json_line_to_array('data/politicos/json/balanced_multi.json'))\n",
    "reddit_single = pd.read_json(json_line_to_array('data/politicos/json/balanced_single.json'))"
   ]
  },
  {
   "cell_type": "code",
   "execution_count": 54,
   "metadata": {
    "collapsed": true
   },
   "outputs": [],
   "source": [
    "#first_post = pd.concat([reddit_pos, reddit_neg], axis=0)\n",
    "#first_post.set_index('author', inplace=True)"
   ]
  },
  {
   "cell_type": "code",
   "execution_count": 55,
   "metadata": {
    "collapsed": false
   },
   "outputs": [],
   "source": [
    "indicoio.config.api_key = os.environ['INDICO_API_KEY']"
   ]
  },
  {
   "cell_type": "code",
   "execution_count": 56,
   "metadata": {
    "collapsed": true
   },
   "outputs": [],
   "source": [
    "def get_sentiments(comments, step_size):\n",
    "    '''\n",
    "        Call sentiment API in batches\n",
    "        \n",
    "        Ex: Call API:    ['libertarian comment 1', 'green comment']\n",
    "            API returns: [{u'Libertarian': 0.3500982762633169, u'Green': 0.14290592846839006, u'Liberal': 0.3230786607985243, u'Conservative': 0.18391713446976865},\n",
    "                          {u'Libertarian': 0.26326212703421853, u'Green': 0.3227391644798419, u'Liberal': 0.3722932170134808, u'Conservative': 0.041705491472458736}]\n",
    "    '''\n",
    "    sentiments = []\n",
    "    for start in xrange(0, len(comments), step_size):\n",
    "        step = step_size if start+step_size<len(comments) else len(comments)-start\n",
    "        comments_batch = list(comments[start:start+step]['first_post_body'])\n",
    "        pol_sentiment_batch = indicoio.political(comments_batch)\n",
    "        for pol_dict in pol_sentiment_batch:\n",
    "            party = max(pol_dict, key=pol_dict.get)\n",
    "            sentiments.append(party)\n",
    "    return sentiments"
   ]
  },
  {
   "cell_type": "code",
   "execution_count": 57,
   "metadata": {
    "collapsed": false
   },
   "outputs": [],
   "source": [
    "# Get political sentiment of multi-posters\n",
    "pol_parties_multi = get_sentiments(reddit_multi, 1000)\n",
    "with open('data/politicos/json/balanced_multi_pol.csv', 'w') as f:\n",
    "    f.write('\\n'.join(pol_parties_multi))"
   ]
  },
  {
   "cell_type": "code",
   "execution_count": 58,
   "metadata": {
    "collapsed": true
   },
   "outputs": [],
   "source": [
    "# Get political sentiment of single posters\n",
    "pol_parties_single = get_sentiments(reddit_single, 1000)\n",
    "with open('data/politicos/json/balanced_single_pol.csv', 'w') as f:\n",
    "    f.write('\\n'.join(pol_parties_single))"
   ]
  },
  {
   "cell_type": "code",
   "execution_count": 52,
   "metadata": {
    "collapsed": false
   },
   "outputs": [
    {
     "data": {
      "text/html": [
       "<div>\n",
       "<table border=\"1\" class=\"dataframe\">\n",
       "  <thead>\n",
       "    <tr style=\"text-align: right;\">\n",
       "      <th></th>\n",
       "      <th>pol_party</th>\n",
       "    </tr>\n",
       "  </thead>\n",
       "  <tbody>\n",
       "    <tr>\n",
       "      <th>0</th>\n",
       "      <td>Libertarian</td>\n",
       "    </tr>\n",
       "    <tr>\n",
       "      <th>1</th>\n",
       "      <td>Conservative</td>\n",
       "    </tr>\n",
       "    <tr>\n",
       "      <th>2</th>\n",
       "      <td>Liberal</td>\n",
       "    </tr>\n",
       "    <tr>\n",
       "      <th>3</th>\n",
       "      <td>Libertarian</td>\n",
       "    </tr>\n",
       "    <tr>\n",
       "      <th>4</th>\n",
       "      <td>Liberal</td>\n",
       "    </tr>\n",
       "  </tbody>\n",
       "</table>\n",
       "</div>"
      ],
      "text/plain": [
       "      pol_party\n",
       "0   Libertarian\n",
       "1  Conservative\n",
       "2       Liberal\n",
       "3   Libertarian\n",
       "4       Liberal"
      ]
     },
     "execution_count": 52,
     "metadata": {},
     "output_type": "execute_result"
    }
   ],
   "source": [
    "# Read in data as follows in model-building script (merge with comments data)\n",
    "# pd.read_csv('data/politicos/json/balanced_multi_pol.csv', header=None, names=['pol_party'])"
   ]
  },
  {
   "cell_type": "code",
   "execution_count": 34,
   "metadata": {
    "collapsed": false
   },
   "outputs": [
    {
     "data": {
      "text/html": [
       "<div>\n",
       "<table border=\"1\" class=\"dataframe\">\n",
       "  <thead>\n",
       "    <tr style=\"text-align: right;\">\n",
       "      <th></th>\n",
       "      <th>first_post_body</th>\n",
       "      <th>sentiments</th>\n",
       "    </tr>\n",
       "  </thead>\n",
       "  <tbody>\n",
       "    <tr>\n",
       "      <th>0</th>\n",
       "      <td>big government is the worst</td>\n",
       "      <td>Libertarian</td>\n",
       "    </tr>\n",
       "    <tr>\n",
       "      <th>1</th>\n",
       "      <td>education is important for our future</td>\n",
       "      <td>Green</td>\n",
       "    </tr>\n",
       "    <tr>\n",
       "      <th>2</th>\n",
       "      <td>we need progressive policies for working families</td>\n",
       "      <td>Liberal</td>\n",
       "    </tr>\n",
       "    <tr>\n",
       "      <th>3</th>\n",
       "      <td>we need to reduce government waste</td>\n",
       "      <td>Libertarian</td>\n",
       "    </tr>\n",
       "    <tr>\n",
       "      <th>4</th>\n",
       "      <td>we need renewable energy to stop climate change</td>\n",
       "      <td>Green</td>\n",
       "    </tr>\n",
       "  </tbody>\n",
       "</table>\n",
       "</div>"
      ],
      "text/plain": [
       "                                     first_post_body   sentiments\n",
       "0                        big government is the worst  Libertarian\n",
       "1              education is important for our future        Green\n",
       "2  we need progressive policies for working families      Liberal\n",
       "3                 we need to reduce government waste  Libertarian\n",
       "4    we need renewable energy to stop climate change        Green"
      ]
     },
     "execution_count": 34,
     "metadata": {},
     "output_type": "execute_result"
    }
   ],
   "source": [
    "# Test\n",
    "# test_statements = ['big government is the worst', \n",
    "#                    'education is important for our future', \n",
    "#                    'we need progressive policies for working families',\n",
    "#                    'we need to reduce government waste',\n",
    "#                    'we need renewable energy to stop climate change']\n",
    "# test_df = pd.DataFrame(test_statements)\n",
    "# test_df.columns = ['first_post_body']\n",
    "# sentiments = get_sentiments(test_df, 3)\n",
    "# test_df['pol_party'] = sentiments\n",
    "# test_df"
   ]
  },
  {
   "cell_type": "code",
   "execution_count": 19,
   "metadata": {
    "collapsed": false,
    "scrolled": true
   },
   "outputs": [
    {
     "data": {
      "text/plain": [
       "[{u'Conservative': 0.15061259920567033,\n",
       "  u'Green': 0.14817878436127507,\n",
       "  u'Liberal': 0.11490891839615226,\n",
       "  u'Libertarian': 0.5862996980369023},\n",
       " {u'Conservative': 0.11938713690826618,\n",
       "  u'Green': 0.510927010838791,\n",
       "  u'Liberal': 0.22709480964599627,\n",
       "  u'Libertarian': 0.14259104260694658},\n",
       " {u'Conservative': 0.093010169684295,\n",
       "  u'Green': 0.0435243999854284,\n",
       "  u'Liberal': 0.8246997267928402,\n",
       "  u'Libertarian': 0.03876570353743644},\n",
       " {u'Conservative': 0.15833398427551645,\n",
       "  u'Green': 0.34813628450062045,\n",
       "  u'Liberal': 0.07130184509205965,\n",
       "  u'Libertarian': 0.4222278861318033},\n",
       " {u'Conservative': 0.0034786444891636483,\n",
       "  u'Green': 0.9847222555497523,\n",
       "  u'Liberal': 0.010172260986774161,\n",
       "  u'Libertarian': 0.0016268389743097102}]"
      ]
     },
     "execution_count": 19,
     "metadata": {},
     "output_type": "execute_result"
    }
   ],
   "source": [
    "# indicoio.political(test_statements)"
   ]
  }
 ],
 "metadata": {
  "kernelspec": {
   "display_name": "Python 2",
   "language": "python",
   "name": "python2"
  },
  "language_info": {
   "codemirror_mode": {
    "name": "ipython",
    "version": 2
   },
   "file_extension": ".py",
   "mimetype": "text/x-python",
   "name": "python",
   "nbconvert_exporter": "python",
   "pygments_lexer": "ipython2",
   "version": "2.7.10"
  }
 },
 "nbformat": 4,
 "nbformat_minor": 0
}
