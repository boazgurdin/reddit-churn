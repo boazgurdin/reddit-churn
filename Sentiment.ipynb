{
 "cells": [
  {
   "cell_type": "code",
   "execution_count": 1,
   "metadata": {
    "collapsed": true
   },
   "outputs": [],
   "source": [
    "# http://streamhacker.com/2010/05/10/text-classification-sentiment-analysis-naive-bayes-classifier/"
   ]
  },
  {
   "cell_type": "code",
   "execution_count": 2,
   "metadata": {
    "collapsed": false
   },
   "outputs": [],
   "source": [
    "import nltk\n",
    "#from nltk.classify import NaiveBayesClassifier\n",
    "from sklearn.naive_bayes import MultinomialNB\n",
    "from sklearn.feature_extraction.text import CountVectorizer, TfidfVectorizer\n",
    "from sklearn.pipeline import Pipeline\n",
    "from sklearn.feature_selection import chi2, SelectKBest\n",
    "from sklearn.cross_validation import train_test_split\n",
    "from sklearn.metrics import accuracy_score, precision_score, recall_score\n",
    "from sklearn.externals import joblib\n",
    "from sklearn.base import TransformerMixin\n",
    "from PostStemmer import PostStemmer\n",
    "import pandas as pd\n",
    "import numpy as np\n",
    "import re, string, collections\n",
    "import matplotlib.pyplot as plt\n",
    "%matplotlib inline"
   ]
  },
  {
   "cell_type": "code",
   "execution_count": 3,
   "metadata": {
    "collapsed": false
   },
   "outputs": [
    {
     "data": {
      "text/html": [
       "<div>\n",
       "<table border=\"1\" class=\"dataframe\">\n",
       "  <thead>\n",
       "    <tr style=\"text-align: right;\">\n",
       "      <th></th>\n",
       "      <th>polarity</th>\n",
       "      <th>text</th>\n",
       "    </tr>\n",
       "  </thead>\n",
       "  <tbody>\n",
       "    <tr>\n",
       "      <th>0</th>\n",
       "      <td>0</td>\n",
       "      <td>I so hate homeworks -.- My head hurts so bad</td>\n",
       "    </tr>\n",
       "    <tr>\n",
       "      <th>1</th>\n",
       "      <td>0</td>\n",
       "      <td>Lots of revision to do tonight too for my fina...</td>\n",
       "    </tr>\n",
       "    <tr>\n",
       "      <th>2</th>\n",
       "      <td>0</td>\n",
       "      <td>Caught myself looking up the iphone. Promised ...</td>\n",
       "    </tr>\n",
       "    <tr>\n",
       "      <th>3</th>\n",
       "      <td>0</td>\n",
       "      <td>@cherrytreerec I can't see anything  Stupid Yo...</td>\n",
       "    </tr>\n",
       "    <tr>\n",
       "      <th>4</th>\n",
       "      <td>0</td>\n",
       "      <td>@happyahma - welcome back! Sorry to hear about...</td>\n",
       "    </tr>\n",
       "  </tbody>\n",
       "</table>\n",
       "</div>"
      ],
      "text/plain": [
       "   polarity                                               text\n",
       "0         0      I so hate homeworks -.- My head hurts so bad \n",
       "1         0  Lots of revision to do tonight too for my fina...\n",
       "2         0  Caught myself looking up the iphone. Promised ...\n",
       "3         0  @cherrytreerec I can't see anything  Stupid Yo...\n",
       "4         0  @happyahma - welcome back! Sorry to hear about..."
      ]
     },
     "execution_count": 3,
     "metadata": {},
     "output_type": "execute_result"
    }
   ],
   "source": [
    "tweets = pd.read_csv('twitter_sentiment/training_sample.csv', names=['polarity', 'id', 'datetime', 'query', 'user', 'text'])\n",
    "tweets.drop(['id','datetime','query','user'], axis=1, inplace=True)\n",
    "\n",
    "# 0 - the polarity of the tweet (0 = negative, 2 = neutral, 4 = positive)\n",
    "# 1 - the id of the tweet (2087)\n",
    "# 2 - the date of the tweet (Sat May 16 23:58:44 UTC 2009)\n",
    "# 3 - the query (lyx). If there is no query, then this value is NO_QUERY.\n",
    "# 4 - the user that tweeted (robotickilldozr)\n",
    "# 5 - the text of the tweet (Lyx is cool)\n",
    "\n",
    "tweets.head()"
   ]
  },
  {
   "cell_type": "code",
   "execution_count": 4,
   "metadata": {
    "collapsed": false
   },
   "outputs": [
    {
     "data": {
      "text/html": [
       "<div>\n",
       "<table border=\"1\" class=\"dataframe\">\n",
       "  <thead>\n",
       "    <tr style=\"text-align: right;\">\n",
       "      <th></th>\n",
       "      <th>polarity</th>\n",
       "      <th>text</th>\n",
       "      <th>pos</th>\n",
       "    </tr>\n",
       "  </thead>\n",
       "  <tbody>\n",
       "    <tr>\n",
       "      <th>0</th>\n",
       "      <td>0</td>\n",
       "      <td>I so hate homeworks -.- My head hurts so bad</td>\n",
       "      <td>False</td>\n",
       "    </tr>\n",
       "    <tr>\n",
       "      <th>1</th>\n",
       "      <td>0</td>\n",
       "      <td>Lots of revision to do tonight too for my fina...</td>\n",
       "      <td>False</td>\n",
       "    </tr>\n",
       "    <tr>\n",
       "      <th>2</th>\n",
       "      <td>0</td>\n",
       "      <td>Caught myself looking up the iphone. Promised ...</td>\n",
       "      <td>False</td>\n",
       "    </tr>\n",
       "    <tr>\n",
       "      <th>3</th>\n",
       "      <td>0</td>\n",
       "      <td>@cherrytreerec I can't see anything  Stupid Yo...</td>\n",
       "      <td>False</td>\n",
       "    </tr>\n",
       "    <tr>\n",
       "      <th>4</th>\n",
       "      <td>0</td>\n",
       "      <td>@happyahma - welcome back! Sorry to hear about...</td>\n",
       "      <td>False</td>\n",
       "    </tr>\n",
       "  </tbody>\n",
       "</table>\n",
       "</div>"
      ],
      "text/plain": [
       "   polarity                                               text    pos\n",
       "0         0      I so hate homeworks -.- My head hurts so bad   False\n",
       "1         0  Lots of revision to do tonight too for my fina...  False\n",
       "2         0  Caught myself looking up the iphone. Promised ...  False\n",
       "3         0  @cherrytreerec I can't see anything  Stupid Yo...  False\n",
       "4         0  @happyahma - welcome back! Sorry to hear about...  False"
      ]
     },
     "execution_count": 4,
     "metadata": {},
     "output_type": "execute_result"
    }
   ],
   "source": [
    "# Corpus only has positive and negative tweets (polarity=={0,4})\n",
    "tweets['pos'] = tweets['polarity']==4\n",
    "tweets.head()"
   ]
  },
  {
   "cell_type": "code",
   "execution_count": 5,
   "metadata": {
    "collapsed": false
   },
   "outputs": [],
   "source": [
    "# Train test split\n",
    "X_train, X_test, y_train, y_test = train_test_split(tweets['text'], tweets['pos'], test_size=0.3)"
   ]
  },
  {
   "cell_type": "code",
   "execution_count": 6,
   "metadata": {
    "collapsed": false
   },
   "outputs": [],
   "source": [
    "train_or_load = 'train'\n",
    "\n",
    "if( train_or_load == 'train' ):\n",
    "    \n",
    "    classifier = Pipeline([ ('stem', PostStemmer()),\n",
    "                            ('vect', TfidfVectorizer(use_idf=False)),\n",
    "                            ('prune', SelectKBest(chi2, k=800)),\n",
    "                            ('clf', MultinomialNB()) ])\n",
    "    \n",
    "    classifier.fit(X_train, y_train)\n",
    "    \n",
    "    # Save\n",
    "    joblib.dump(classifier, 'twitter_sentiment/classifier.pkl')\n",
    "    \n",
    "# Load trained model    \n",
    "else:\n",
    "    classifier = joblib.load('twitter_sentiment/classifier.pkl')"
   ]
  },
  {
   "cell_type": "code",
   "execution_count": 7,
   "metadata": {
    "collapsed": true
   },
   "outputs": [],
   "source": [
    "# vectorizer = CountVectorizer()\n",
    "\n",
    "# word_counts = vectorizer.fit_transform(content)\n",
    "\n",
    "# train_or_load = 'train'\n",
    "\n",
    "# if( train_or_load == 'train' ):\n",
    "#     # Train model\n",
    "#     classifier = MultinomialNB()\n",
    "#     classifier.fit(X_train, y_train)\n",
    "#     # Prune features\n",
    "#     ch2 = SelectKBest(chi2, k=800)\n",
    "#     X_train = ch2.fit_transform(X_train, y_train)\n",
    "#     X_test = ch2.transform(X_test)\n",
    "#     best_words = np.array(vectorizer.get_feature_names())[ch2.get_support()]\n",
    "#     # Save\n",
    "#     joblib.dump(classifier, 'twitter_sentiment/classifier.pkl')\n",
    "#     joblib.dump(best_words, 'twitter_sentiment/best_words.pkl')\n",
    "    \n",
    "# # Load trained model    \n",
    "# else:\n",
    "#     classifier = joblib.load('twitter_sentiment/classifier.pkl')\n",
    "#     best_words = joblib.load('twitter_sentiment/best_words.pkl')"
   ]
  },
  {
   "cell_type": "code",
   "execution_count": 8,
   "metadata": {
    "collapsed": false
   },
   "outputs": [
    {
     "name": "stdout",
     "output_type": "stream",
     "text": [
      "accuracy:   0.688284518828\n",
      "precision:  0.751724137931\n",
      "recall:     0.490990990991\n"
     ]
    }
   ],
   "source": [
    "# Test model\n",
    "pred = classifier.predict(X_test)\n",
    "\n",
    "# Print scores\n",
    "print 'accuracy:  ', accuracy_score(y_test, pred)\n",
    "print 'precision: ', precision_score(y_test, pred)\n",
    "print 'recall:    ', recall_score(y_test, pred)"
   ]
  },
  {
   "cell_type": "code",
   "execution_count": null,
   "metadata": {
    "collapsed": true
   },
   "outputs": [],
   "source": [
    "# Tune number of word features\n",
    "# chi2scores = chi2(word_counts, tweets['pos'])[0]\n",
    "# best_words = np.array(vectorizer.get_feature_names())[np.argsort(-1*chi2scores)[:600]]\n",
    "# print best_words[:30]\n",
    "# word_scores = zip(vectorizer.get_feature_names(), chi2scores)\n",
    "# best_word_scores = sorted(word_scores, key=lambda (word,chi2sc): chi2sc, reverse=True)\n",
    "# plt.hist(chi2scores, bins=40)\n",
    "# plt.vlines(1.5, 0, 2500)\n",
    "# print best_word_scores[575]"
   ]
  }
 ],
 "metadata": {
  "kernelspec": {
   "display_name": "Python 2",
   "language": "python",
   "name": "python2"
  },
  "language_info": {
   "codemirror_mode": {
    "name": "ipython",
    "version": 2
   },
   "file_extension": ".py",
   "mimetype": "text/x-python",
   "name": "python",
   "nbconvert_exporter": "python",
   "pygments_lexer": "ipython2",
   "version": "2.7.10"
  }
 },
 "nbformat": 4,
 "nbformat_minor": 0
}
