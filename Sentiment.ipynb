{
 "cells": [
  {
   "cell_type": "code",
   "execution_count": 152,
   "metadata": {
    "collapsed": true
   },
   "outputs": [],
   "source": [
    "# http://streamhacker.com/2010/05/10/text-classification-sentiment-analysis-naive-bayes-classifier/"
   ]
  },
  {
   "cell_type": "code",
   "execution_count": 167,
   "metadata": {
    "collapsed": true
   },
   "outputs": [],
   "source": [
    "from nltk.classify import NaiveBayesClassifier\n",
    "from nltk.corpus import movie_reviews\n",
    "import pandas as pd\n",
    "import numpy as np\n",
    "import re\n",
    "import string\n",
    "import nltk\n",
    "import collections"
   ]
  },
  {
   "cell_type": "code",
   "execution_count": 154,
   "metadata": {
    "collapsed": false
   },
   "outputs": [
    {
     "data": {
      "text/html": [
       "<div>\n",
       "<table border=\"1\" class=\"dataframe\">\n",
       "  <thead>\n",
       "    <tr style=\"text-align: right;\">\n",
       "      <th></th>\n",
       "      <th>polarity</th>\n",
       "      <th>text</th>\n",
       "    </tr>\n",
       "  </thead>\n",
       "  <tbody>\n",
       "    <tr>\n",
       "      <th>0</th>\n",
       "      <td>0</td>\n",
       "      <td>I so hate homeworks -.- My head hurts so bad</td>\n",
       "    </tr>\n",
       "    <tr>\n",
       "      <th>1</th>\n",
       "      <td>0</td>\n",
       "      <td>Lots of revision to do tonight too for my fina...</td>\n",
       "    </tr>\n",
       "    <tr>\n",
       "      <th>2</th>\n",
       "      <td>0</td>\n",
       "      <td>Caught myself looking up the iphone. Promised ...</td>\n",
       "    </tr>\n",
       "    <tr>\n",
       "      <th>3</th>\n",
       "      <td>0</td>\n",
       "      <td>@cherrytreerec I can't see anything  Stupid Yo...</td>\n",
       "    </tr>\n",
       "    <tr>\n",
       "      <th>4</th>\n",
       "      <td>0</td>\n",
       "      <td>@happyahma - welcome back! Sorry to hear about...</td>\n",
       "    </tr>\n",
       "  </tbody>\n",
       "</table>\n",
       "</div>"
      ],
      "text/plain": [
       "   polarity                                               text\n",
       "0         0      I so hate homeworks -.- My head hurts so bad \n",
       "1         0  Lots of revision to do tonight too for my fina...\n",
       "2         0  Caught myself looking up the iphone. Promised ...\n",
       "3         0  @cherrytreerec I can't see anything  Stupid Yo...\n",
       "4         0  @happyahma - welcome back! Sorry to hear about..."
      ]
     },
     "execution_count": 154,
     "metadata": {},
     "output_type": "execute_result"
    }
   ],
   "source": [
    "tweets = pd.read_csv('twitter_sentiment/training_sample.csv', names=['polarity', 'id', 'datetime', 'query', 'user', 'text'])\n",
    "tweets.drop(['id','datetime','query','user'], axis=1, inplace=True)\n",
    "\n",
    "# 0 - the polarity of the tweet (0 = negative, 2 = neutral, 4 = positive)\n",
    "# 1 - the id of the tweet (2087)\n",
    "# 2 - the date of the tweet (Sat May 16 23:58:44 UTC 2009)\n",
    "# 3 - the query (lyx). If there is no query, then this value is NO_QUERY.\n",
    "# 4 - the user that tweeted (robotickilldozr)\n",
    "# 5 - the text of the tweet (Lyx is cool)\n",
    "\n",
    "tweets.head()"
   ]
  },
  {
   "cell_type": "code",
   "execution_count": 155,
   "metadata": {
    "collapsed": false
   },
   "outputs": [
    {
     "data": {
      "text/html": [
       "<div>\n",
       "<table border=\"1\" class=\"dataframe\">\n",
       "  <thead>\n",
       "    <tr style=\"text-align: right;\">\n",
       "      <th></th>\n",
       "      <th>polarity</th>\n",
       "      <th>text</th>\n",
       "      <th>words</th>\n",
       "    </tr>\n",
       "  </thead>\n",
       "  <tbody>\n",
       "    <tr>\n",
       "      <th>0</th>\n",
       "      <td>0</td>\n",
       "      <td>I so hate homeworks -.- My head hurts so bad</td>\n",
       "      <td>[I, so, hate, homeworks, My, head, hurts, so, ...</td>\n",
       "    </tr>\n",
       "    <tr>\n",
       "      <th>1</th>\n",
       "      <td>0</td>\n",
       "      <td>Lots of revision to do tonight too for my fina...</td>\n",
       "      <td>[Lots, of, revision, to, do, tonight, too, for...</td>\n",
       "    </tr>\n",
       "    <tr>\n",
       "      <th>2</th>\n",
       "      <td>0</td>\n",
       "      <td>Caught myself looking up the iphone. Promised ...</td>\n",
       "      <td>[Caught, myself, looking, up, the, iphone, Pro...</td>\n",
       "    </tr>\n",
       "    <tr>\n",
       "      <th>3</th>\n",
       "      <td>0</td>\n",
       "      <td>@cherrytreerec I can't see anything  Stupid Yo...</td>\n",
       "      <td>[I, can't, see, anything, Stupid, YouTube, and...</td>\n",
       "    </tr>\n",
       "    <tr>\n",
       "      <th>4</th>\n",
       "      <td>0</td>\n",
       "      <td>@happyahma - welcome back! Sorry to hear about...</td>\n",
       "      <td>[welcome, back, Sorry, to, hear, about, the, a...</td>\n",
       "    </tr>\n",
       "  </tbody>\n",
       "</table>\n",
       "</div>"
      ],
      "text/plain": [
       "   polarity                                               text  \\\n",
       "0         0      I so hate homeworks -.- My head hurts so bad    \n",
       "1         0  Lots of revision to do tonight too for my fina...   \n",
       "2         0  Caught myself looking up the iphone. Promised ...   \n",
       "3         0  @cherrytreerec I can't see anything  Stupid Yo...   \n",
       "4         0  @happyahma - welcome back! Sorry to hear about...   \n",
       "\n",
       "                                               words  \n",
       "0  [I, so, hate, homeworks, My, head, hurts, so, ...  \n",
       "1  [Lots, of, revision, to, do, tonight, too, for...  \n",
       "2  [Caught, myself, looking, up, the, iphone, Pro...  \n",
       "3  [I, can't, see, anything, Stupid, YouTube, and...  \n",
       "4  [welcome, back, Sorry, to, hear, about, the, a...  "
      ]
     },
     "execution_count": 155,
     "metadata": {},
     "output_type": "execute_result"
    }
   ],
   "source": [
    "is_word = re.compile('[A-Za-z]')\n",
    "def is_punc(word): #returns true if word is all punctuation or numbers\n",
    "    return not is_word.search(word)\n",
    "\n",
    "punc_re = re.compile('[%s]$' % re.escape(string.punctuation))\n",
    "def trim_punc(word):\n",
    "    return punc_re.sub('', word)\n",
    "\n",
    "def tweet_words(tweet):\n",
    "    words = tweet.split()\n",
    "    clean_words = []\n",
    "    for word in words:\n",
    "        # remove usernames\n",
    "        if word[0] == '@':\n",
    "            continue\n",
    "        # remove hashtags bc mostly not used on reddit\n",
    "        if word[0] == '#':\n",
    "            continue\n",
    "        # remove all-punctuation words e.g. smileys, dashes\n",
    "        elif is_punc(word):\n",
    "            continue\n",
    "        # keep clean words\n",
    "        else:\n",
    "            word = trim_punc(word)\n",
    "            clean_words.append(word)\n",
    "    return clean_words\n",
    "\n",
    "tweets['words'] = tweets['text'].apply(tweet_words)\n",
    "tweets.head()"
   ]
  },
  {
   "cell_type": "code",
   "execution_count": 156,
   "metadata": {
    "collapsed": true
   },
   "outputs": [],
   "source": [
    "# To do: Consider stemming"
   ]
  },
  {
   "cell_type": "code",
   "execution_count": 157,
   "metadata": {
    "collapsed": false
   },
   "outputs": [
    {
     "data": {
      "text/html": [
       "<div>\n",
       "<table border=\"1\" class=\"dataframe\">\n",
       "  <thead>\n",
       "    <tr style=\"text-align: right;\">\n",
       "      <th></th>\n",
       "      <th>polarity</th>\n",
       "      <th>text</th>\n",
       "      <th>words</th>\n",
       "      <th>pos</th>\n",
       "    </tr>\n",
       "  </thead>\n",
       "  <tbody>\n",
       "    <tr>\n",
       "      <th>0</th>\n",
       "      <td>0</td>\n",
       "      <td>I so hate homeworks -.- My head hurts so bad</td>\n",
       "      <td>[I, so, hate, homeworks, My, head, hurts, so, ...</td>\n",
       "      <td>False</td>\n",
       "    </tr>\n",
       "    <tr>\n",
       "      <th>1</th>\n",
       "      <td>0</td>\n",
       "      <td>Lots of revision to do tonight too for my fina...</td>\n",
       "      <td>[Lots, of, revision, to, do, tonight, too, for...</td>\n",
       "      <td>False</td>\n",
       "    </tr>\n",
       "    <tr>\n",
       "      <th>2</th>\n",
       "      <td>0</td>\n",
       "      <td>Caught myself looking up the iphone. Promised ...</td>\n",
       "      <td>[Caught, myself, looking, up, the, iphone, Pro...</td>\n",
       "      <td>False</td>\n",
       "    </tr>\n",
       "    <tr>\n",
       "      <th>3</th>\n",
       "      <td>0</td>\n",
       "      <td>@cherrytreerec I can't see anything  Stupid Yo...</td>\n",
       "      <td>[I, can't, see, anything, Stupid, YouTube, and...</td>\n",
       "      <td>False</td>\n",
       "    </tr>\n",
       "    <tr>\n",
       "      <th>4</th>\n",
       "      <td>0</td>\n",
       "      <td>@happyahma - welcome back! Sorry to hear about...</td>\n",
       "      <td>[welcome, back, Sorry, to, hear, about, the, a...</td>\n",
       "      <td>False</td>\n",
       "    </tr>\n",
       "  </tbody>\n",
       "</table>\n",
       "</div>"
      ],
      "text/plain": [
       "   polarity                                               text  \\\n",
       "0         0      I so hate homeworks -.- My head hurts so bad    \n",
       "1         0  Lots of revision to do tonight too for my fina...   \n",
       "2         0  Caught myself looking up the iphone. Promised ...   \n",
       "3         0  @cherrytreerec I can't see anything  Stupid Yo...   \n",
       "4         0  @happyahma - welcome back! Sorry to hear about...   \n",
       "\n",
       "                                               words    pos  \n",
       "0  [I, so, hate, homeworks, My, head, hurts, so, ...  False  \n",
       "1  [Lots, of, revision, to, do, tonight, too, for...  False  \n",
       "2  [Caught, myself, looking, up, the, iphone, Pro...  False  \n",
       "3  [I, can't, see, anything, Stupid, YouTube, and...  False  \n",
       "4  [welcome, back, Sorry, to, hear, about, the, a...  False  "
      ]
     },
     "execution_count": 157,
     "metadata": {},
     "output_type": "execute_result"
    }
   ],
   "source": [
    "# Corpus only has positive and negative tweets (polarity=={0,4})\n",
    "tweets['pos'] = tweets['polarity']==4\n",
    "tweets.head()"
   ]
  },
  {
   "cell_type": "code",
   "execution_count": 158,
   "metadata": {
    "collapsed": true
   },
   "outputs": [],
   "source": [
    "# Translates list of words to dict of {word:True} for NLTK NaiveBayesClassifier\n",
    "def word_feats(words):\n",
    "        return dict([(word, True) for word in words])"
   ]
  },
  {
   "cell_type": "code",
   "execution_count": 223,
   "metadata": {
    "collapsed": false
   },
   "outputs": [
    {
     "name": "stdout",
     "output_type": "stream",
     "text": [
      "train on 1194 instances, test on 399 instances\n",
      "accuracy:   0.641604010025\n",
      "precision:  0.678832116788\n",
      "recall:     0.484375\n",
      "Most Informative Features\n",
      "                   sorry = True            False : True   =      9.0 : 1.0\n",
      "                    miss = True            False : True   =      7.6 : 1.0\n",
      "                   won't = True            False : True   =      7.1 : 1.0\n",
      "                  didn't = True            False : True   =      7.1 : 1.0\n",
      "                    wish = True            False : True   =      6.5 : 1.0\n",
      "                    down = True            False : True   =      5.9 : 1.0\n",
      "                    hate = True            False : True   =      5.8 : 1.0\n",
      "                    than = True             True : False  =      5.4 : 1.0\n",
      "                 Twitter = True             True : False  =      5.4 : 1.0\n",
      "                    left = True            False : True   =      5.3 : 1.0\n"
     ]
    }
   ],
   "source": [
    "def evaluate_model():\n",
    "    # Feature extraction\n",
    "    posfeats = [(word_feats(split_tweet), True) for split_tweet in tweets[ tweets['pos']==True ]['words']]\n",
    "    negfeats = [(word_feats(split_tweet), False) for split_tweet in tweets[ tweets['pos']==False ]['words']]\n",
    "\n",
    "    # Test-Train Split (to do: k-fold cross-val)\n",
    "    negcutoff = len(negfeats)*3/4\n",
    "    poscutoff = len(posfeats)*3/4\n",
    "    trainfeats = negfeats[:negcutoff] + posfeats[:poscutoff]\n",
    "    testfeats = negfeats[negcutoff:] + posfeats[poscutoff:]\n",
    "    print 'train on %d instances, test on %d instances' % (len(trainfeats), len(testfeats))\n",
    "    \n",
    "    # Train model\n",
    "    classifier = NaiveBayesClassifier.train(trainfeats)\n",
    "    \n",
    "    # Test model\n",
    "    pred_actual = [(classifier.classify(testfeat), label) for (testfeat, label) in testfeats]\n",
    "\n",
    "    # Calculate scores\n",
    "    tp = np.sum([pred==True and actual==True for (pred, actual) in pred_actual])\n",
    "    tn = np.sum([pred==False and actual==False for (pred, actual) in pred_actual])\n",
    "    fp = np.sum([pred==True and actual==False for (pred, actual) in pred_actual])\n",
    "    fn = np.sum([pred==False and actual==True for (pred, actual) in pred_actual])\n",
    "\n",
    "    accuracy = (tp+tn)*1.0 / len(testfeats)\n",
    "    precision = tp*1.0 / (tp+fp)\n",
    "    recall = tp*1.0 / (tp+fn)\n",
    "    \n",
    "    # Print scores\n",
    "    print 'accuracy:  ', accuracy\n",
    "    print 'precision: ', precision\n",
    "    print 'recall:    ', recall\n",
    "    classifier.show_most_informative_features()"
   ]
  },
  {
   "cell_type": "markdown",
   "metadata": {},
   "source": [
    "```\n",
    "Results with sample:\n",
    "\n",
    "Most Informative Features\n",
    "                   sorry = True              neg : pos    =      9.0 : 1.0\n",
    "                    miss = True              neg : pos    =      7.6 : 1.0\n",
    "                   won't = True              neg : pos    =      7.1 : 1.0\n",
    "                  didn't = True              neg : pos    =      7.1 : 1.0\n",
    "                    wish = True              neg : pos    =      6.5 : 1.0\n",
    "                    down = True              neg : pos    =      5.9 : 1.0\n",
    "                    hate = True              neg : pos    =      5.8 : 1.0\n",
    "                 Twitter = True              pos : neg    =      5.4 : 1.0\n",
    "                    than = True              pos : neg    =      5.4 : 1.0\n",
    "                    left = True              neg : pos    =      5.3 : 1.0\n",
    "\n",
    "accuracy:  0.6365914786967418\n",
    "precision: 0.671532846715\n",
    "recall:    0.479166666667\n",
    "F-measure: 0.559270516717\n",
    "```"
   ]
  },
  {
   "cell_type": "markdown",
   "metadata": {},
   "source": [
    "```\n",
    "Results with full set:\n",
    "    \n",
    "    Most Informative Features\n",
    "            #squarespace = True              neg : pos    =    211.0 : 1.0\n",
    "                     447 = True              neg : pos    =     97.0 : 1.0\n",
    "                    Poem = True              pos : neg    =     80.3 : 1.0\n",
    "                saddened = True              neg : pos    =     79.7 : 1.0\n",
    "             condolences = True              neg : pos    =     53.8 : 1.0\n",
    "                    sadd = True              neg : pos    =     46.3 : 1.0\n",
    "                     228 = True              neg : pos    =     45.7 : 1.0\n",
    "                   Boooo = True              neg : pos    =     40.2 : 1.0\n",
    "                  (tears = True              neg : pos    =     39.0 : 1.0\n",
    "                     SAD = True              neg : pos    =     38.2 : 1.0\n",
    "                   \n",
    "accuracy:    0.748685\n",
    "precision:   0.847306016424\n",
    "recall:      0.606705\n",
    "F-measure: 0.707098902123\n",
    "```"
   ]
  },
  {
   "cell_type": "code",
   "execution_count": null,
   "metadata": {
    "collapsed": true
   },
   "outputs": [],
   "source": []
  }
 ],
 "metadata": {
  "kernelspec": {
   "display_name": "Python 2",
   "language": "python",
   "name": "python2"
  },
  "language_info": {
   "codemirror_mode": {
    "name": "ipython",
    "version": 2
   },
   "file_extension": ".py",
   "mimetype": "text/x-python",
   "name": "python",
   "nbconvert_exporter": "python",
   "pygments_lexer": "ipython2",
   "version": "2.7.10"
  }
 },
 "nbformat": 4,
 "nbformat_minor": 0
}
