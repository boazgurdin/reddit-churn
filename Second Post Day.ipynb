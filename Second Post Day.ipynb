{
 "cells": [
  {
   "cell_type": "code",
   "execution_count": 1,
   "metadata": {
    "collapsed": true
   },
   "outputs": [],
   "source": [
    "import pandas as pd\n",
    "import numpy as np\n",
    "import statsmodels.api as sm\n",
    "from sklearn.externals import joblib\n",
    "from sklearn.linear_model import LogisticRegression\n",
    "from sklearn.dummy import DummyClassifier\n",
    "from sklearn.cross_validation import train_test_split, KFold\n",
    "from sklearn.metrics import accuracy_score, precision_score, recall_score"
   ]
  },
  {
   "cell_type": "code",
   "execution_count": 2,
   "metadata": {
    "collapsed": true
   },
   "outputs": [],
   "source": [
    "# Turn JSON lines into JSON array\n",
    "def json_line_to_array(filename):\n",
    "    with open(filename) as f:\n",
    "        lines = f.readlines()\n",
    "        lines = map(lambda line: line.rstrip(), lines) #remove \\n\n",
    "        json_str = '[' + ','.join(lines) + ']'\n",
    "        return json_str"
   ]
  },
  {
   "cell_type": "code",
   "execution_count": 34,
   "metadata": {
    "collapsed": false
   },
   "outputs": [],
   "source": [
    "# Read in data from sample of /r/politics users\n",
    "# reddit_pos = pd.read_json('data/politicos/json/multi.json')\n",
    "# reddit_neg = pd.read_json('data/politicos/json/single.json')\n",
    "reddit_pos = pd.read_json(json_line_to_array('data/politicos/json/balanced_multi.json'))\n",
    "reddit_neg = pd.read_json(json_line_to_array('data/politicos/json/balanced_single.json'))\n",
    "first_post = pd.concat([reddit_pos, reddit_neg], axis=0)"
   ]
  },
  {
   "cell_type": "code",
   "execution_count": 35,
   "metadata": {
    "collapsed": false
   },
   "outputs": [],
   "source": [
    "# multi_upvotes = reddit_pos[ reddit_pos['first_post_ups']>1 ]['first_post_body']\n",
    "# multi_no_upvotes.to_csv('multi_upvotes.csv')"
   ]
  },
  {
   "cell_type": "code",
   "execution_count": 36,
   "metadata": {
    "collapsed": true
   },
   "outputs": [],
   "source": [
    "# Time to second post in multi\n",
    "def time_to_second_post(post_datetimes):\n",
    "    if isinstance(post_datetimes, float):\n",
    "        return None\n",
    "    if len(post_datetimes) > 1:\n",
    "        post_dts = pd.Series(post_datetimes).apply(lambda dt: pd.to_datetime(dt))\n",
    "        post_dts.sort(inplace=True)\n",
    "        first_post_dt = post_dts.iloc[0]\n",
    "        second_post_dt = post_dts.iloc[1]\n",
    "        delta = second_post_dt - first_post_dt\n",
    "        return delta.days"
   ]
  },
  {
   "cell_type": "code",
   "execution_count": 37,
   "metadata": {
    "collapsed": true
   },
   "outputs": [],
   "source": [
    "first_post['second_post_day'] = first_post['post_datetimes'].apply(time_to_second_post)"
   ]
  },
  {
   "cell_type": "code",
   "execution_count": 39,
   "metadata": {
    "collapsed": true
   },
   "outputs": [],
   "source": [
    "import matplotlib.pyplot as plt\n",
    "%matplotlib inline"
   ]
  },
  {
   "cell_type": "code",
   "execution_count": 44,
   "metadata": {
    "collapsed": false
   },
   "outputs": [
    {
     "data": {
      "text/plain": [
       "(0, 5000)"
      ]
     },
     "execution_count": 44,
     "metadata": {},
     "output_type": "execute_result"
    },
    {
     "data": {
      "image/png": "[encoded data removed]",
      "text/plain": [
       "<matplotlib.figure.Figure at 0x13f310fd0>"
      ]
     },
     "metadata": {},
     "output_type": "display_data"
    }
   ],
   "source": [
    "plt.figure(figsize=(8,6))\n",
    "first_post['second_post_day'].hist(bins=100)\n",
    "plt.xlim(0,800)\n",
    "plt.ylim(0,5000)"
   ]
  },
  {
   "cell_type": "code",
   "execution_count": 62,
   "metadata": {
    "collapsed": false
   },
   "outputs": [
    {
     "name": "stdout",
     "output_type": "stream",
     "text": [
      "0.0995374604751\n"
     ]
    }
   ],
   "source": [
    "# Proportion of multi_posters whose second post was within 10 days\n",
    "print np.mean( np.logical_and( first_post['second_post_day']>0, first_post['second_post_day']<=10 ) )"
   ]
  },
  {
   "cell_type": "code",
   "execution_count": null,
   "metadata": {
    "collapsed": true
   },
   "outputs": [],
   "source": [
    "# loop in sets of 100 - and write to file"
   ]
  }
 ],
 "metadata": {
  "kernelspec": {
   "display_name": "Python 2",
   "language": "python",
   "name": "python2"
  },
  "language_info": {
   "codemirror_mode": {
    "name": "ipython",
    "version": 2
   },
   "file_extension": ".py",
   "mimetype": "text/x-python",
   "name": "python",
   "nbconvert_exporter": "python",
   "pygments_lexer": "ipython2",
   "version": "2.7.10"
  }
 },
 "nbformat": 4,
 "nbformat_minor": 0
}
