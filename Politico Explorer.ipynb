{
 "cells": [
  {
   "cell_type": "code",
   "execution_count": 4,
   "metadata": {
    "collapsed": true
   },
   "outputs": [],
   "source": [
    "from pyspark import SparkContext, SparkConf\n",
    "from pyspark.sql import HiveContext\n",
    "import os\n",
    "import json"
   ]
  },
  {
   "cell_type": "code",
   "execution_count": 5,
   "metadata": {
    "collapsed": false
   },
   "outputs": [],
   "source": [
    "sp_conf = SparkConf()\n",
    "sp_conf.setAppName('PoliticoSampler')\n",
    "sp_conf.set('spark.driver.memory', '4g')\n",
    "sc = SparkContext(conf=sp_conf) #'local[4]', 'PoliticoExplorer')\n",
    "sqlContext = HiveContext(sc)"
   ]
  },
  {
   "cell_type": "code",
   "execution_count": 6,
   "metadata": {
    "collapsed": false
   },
   "outputs": [],
   "source": [
    "acc = os.environ['AWS_ACCESS_KEY_ID']\n",
    "sec = os.environ['AWS_SECRET_ACCESS_KEY']"
   ]
  },
  {
   "cell_type": "code",
   "execution_count": 9,
   "metadata": {
    "collapsed": false
   },
   "outputs": [
    {
     "data": {
      "text/plain": [
       "MapPartitionsRDD[4] at textFile at NativeMethodAccessorImpl.java:-2"
      ]
     },
     "execution_count": 9,
     "metadata": {},
     "output_type": "execute_result"
    }
   ],
   "source": [
    "politicos = sc.textFile('data/politicos/full')\n",
    "politicos.cache()"
   ]
  },
  {
   "cell_type": "code",
   "execution_count": null,
   "metadata": {
    "collapsed": false
   },
   "outputs": [],
   "source": [
    "politicos.count()"
   ]
  },
  {
   "cell_type": "code",
   "execution_count": 28,
   "metadata": {
    "collapsed": true
   },
   "outputs": [],
   "source": [
    "post_single = '''{\"author\":\"cpcaper\",\"first_post_id\":\"c2kfpnt\",\"first_post_body\":\"I don't think God goes on reddit, but I guess you never know...\",\"first_post_ups\":2,\"first_post_downs\":0,\"first_post_link_id\":\"t3_khkx3\",\"parent_type\":\"t3\",\"first_post_datetime\":\"2011-09-16 23:27:25.0\",\"last_post_datetime\":\"2011-09-16 23:27:25.0\",\"post_ids\":[\"c2kfpnt\"],\"post_datetimes\":[\"2011-09-16 23:27:25.0\"],\"total_posts\":1}'''\n",
    "post_multi = '''{\"author\":\"picklefeather\",\"first_post_id\":\"c07dg4c\",\"first_post_body\":\"For five minutes, you get to be my favorite senator, McCaskill. Don't waste it.\",\"first_post_ups\":26,\"first_post_downs\":0,\"first_post_link_id\":\"t3_7tpcq\",\"first_post_responses\":[\"The real question is will this slow moving infection of backbone spread to the rest of the Democrats? Is this a 24 hour flu or the beginnings of an epidemic?\",\"Wasted before it even happened, as jp007 said here: http://www.reddit.com/r/politics/comments/7tpcq/congress_may_finally_have_had_enough_we_have_a/c07dhyd when s/he linked this article: http://kansascity.bizjournals.com/kansascity/stories/2008/09/29/daily23.html that says this senator voted for the bailout.\"],\"first_post_response_ups\":[12,1],\"first_post_response_downs\":[0,0],\"first_post_total_responses\":2,\"first_post_avg_response_ups\":6.5,\"first_post_avg_response_downs\":0.0,\"parent_type\":\"t3\",\"first_post_datetime\":\"2009-01-30 20:41:24.0\",\"last_post_datetime\":\"2011-04-12 22:45:57.0\",\"post_ids\":[\"c07diek\",\"c0hoi3g\",\"c1p3gmg\",\"c07dg4c\",\"c1p3i56\"],\"post_datetimes\":[\"2009-01-30 22:04:30.0\",\"2009-12-24 12:23:59.0\",\"2011-04-12 22:38:13.0\",\"2009-01-30 20:41:24.0\",\"2011-04-12 22:45:57.0\"],\"total_posts\":5}'''\n",
    "\n",
    "def single_post(line):\n",
    "    return '\"total_posts\":1' in line"
   ]
  },
  {
   "cell_type": "code",
   "execution_count": 29,
   "metadata": {
    "collapsed": false
   },
   "outputs": [
    {
     "data": {
      "text/plain": [
       "True"
      ]
     },
     "execution_count": 29,
     "metadata": {},
     "output_type": "execute_result"
    }
   ],
   "source": [
    "single_post(post_single)"
   ]
  },
  {
   "cell_type": "code",
   "execution_count": 30,
   "metadata": {
    "collapsed": false
   },
   "outputs": [
    {
     "data": {
      "text/plain": [
       "False"
      ]
     },
     "execution_count": 30,
     "metadata": {},
     "output_type": "execute_result"
    }
   ],
   "source": [
    "single_post(post_multi)"
   ]
  },
  {
   "cell_type": "code",
   "execution_count": 31,
   "metadata": {
    "collapsed": false
   },
   "outputs": [],
   "source": [
    "# politicos_mixed_post = politicos.sample(False, 0.001)\n",
    "# politicos_mixed_post.saveAsTextFile('data/politicos/politicos_mixed_sample')"
   ]
  },
  {
   "cell_type": "code",
   "execution_count": 32,
   "metadata": {
    "collapsed": false
   },
   "outputs": [],
   "source": [
    "politicos_single_post = politicos.sample(False, 0.0996).filter(single_post)\n",
    "#politicos_single_post.saveAsTextFile('s3n://%s:%s@boazreddit/politicos_single_sample_large' % (acc, sec))\n",
    "politicos_single_post.saveAsTextFile('data/politicos/politicos_single_sample_large')"
   ]
  },
  {
   "cell_type": "code",
   "execution_count": null,
   "metadata": {
    "collapsed": true
   },
   "outputs": [],
   "source": [
    "politicos_multi_post = politicos.sample(False, 0.0432).filter(lambda line: not single_post(line))\n",
    "#politicos_multi_post.saveAsTextFile('s3n://%s:%s@boazreddit/politicos_multi_sample_large' % (acc, sec))\n",
    "politicos_single_post.saveAsTextFile('data/politicos/politicos_single_sample_large')"
   ]
  },
  {
   "cell_type": "code",
   "execution_count": null,
   "metadata": {
    "collapsed": true
   },
   "outputs": [],
   "source": []
  }
 ],
 "metadata": {
  "kernelspec": {
   "display_name": "Python 2",
   "language": "python",
   "name": "python2"
  },
  "language_info": {
   "codemirror_mode": {
    "name": "ipython",
    "version": 2
   },
   "file_extension": ".py",
   "mimetype": "text/x-python",
   "name": "python",
   "nbconvert_exporter": "python",
   "pygments_lexer": "ipython2",
   "version": "2.7.10"
  }
 },
 "nbformat": 4,
 "nbformat_minor": 0
}
